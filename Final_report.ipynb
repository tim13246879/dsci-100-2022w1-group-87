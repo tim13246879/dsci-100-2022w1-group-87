{
 "cells": [
  {
   "cell_type": "markdown",
   "id": "71116e09-9264-4455-98c1-91010e426c04",
   "metadata": {},
   "source": [
    "## Group 87 Final report - Predicting Reason for Absence at Work"
   ]
  },
  {
   "cell_type": "markdown",
   "id": "0965827d-c18b-4009-8db1-baed7e0970ea",
   "metadata": {},
   "source": [
    "## Introduction"
   ]
  },
  {
   "cell_type": "markdown",
   "id": "e645342f-4ed3-468e-bd8b-65ee368adf07",
   "metadata": {},
   "source": [
    "Background Information\n",
    "\n",
    "Absenteeism refers to the habitual non-presence of an employee at their job. Absence turns into absenteeism when an employee is absent from work for lengths beyond what is considered an acceptable time span. People miss work for various reasons such as health issues, familial commitments, etc.\n",
    "\n",
    "Employee absenteeism becomes a problem for companies as it can result in lowered productivity, increased costs, and employee burnout. If an employee is regularly absent, they contribute less to the company leading to decreased productivity. However, the company is still bearing the cost of hiring this employee, who is often eligible for paid leaves. The work that the absent employee misses has to be done by another employee, which can lead to employee burnout for the latter. \n",
    "\n",
    "It is because of these effects that it becomes important to study absenteeism and find solutions for the same.\n",
    "\n",
    "Dataset Information\n",
    "\n",
    "The dataset “Absenteeism at Work” was created with records of absenteeism at work from July 2007 to July 2010 at a courier company in Brazil. It was donated to the UCI Machine Learning Repository, which is our source for the dataset. The data consists of 740 rows and 21 columns. A total of 28 reasons for absences are documented, each represented by an integer from 1 to 28. A reason represented by 0 means “other reason”. We chose the top 10, most common reasons to be predicted since many reasons like death and blood donation are less common in the dataset.\n",
    "\n",
    "In this project, we aim to predict the reason for absence using a classification model based on three predictors: age, BMI and absenteeism time in hours. We chose these three predictors after a lot of deliberation as they showed an interpretable correlation with the categories given in the dataset."
   ]
  },
  {
   "cell_type": "markdown",
   "id": "26ca4fb6-e756-4f31-873d-c4e2a8d498c0",
   "metadata": {},
   "source": [
    "# Methods and Results \n",
    "\n",
    "So in the beginning, we load the necessary libraries. "
   ]
  },
  {
   "cell_type": "markdown",
   "id": "498452dc-e7cd-4694-9f50-a8c03890304a",
   "metadata": {},
   "source": [
    "## Loading the necessary libraries"
   ]
  },
  {
   "cell_type": "code",
   "execution_count": 1,
   "id": "0bec0f2d-2a2d-4b53-95aa-e29334043cdf",
   "metadata": {},
   "outputs": [
    {
     "name": "stderr",
     "output_type": "stream",
     "text": [
      "── \u001b[1mAttaching packages\u001b[22m ─────────────────────────────────────── tidyverse 1.3.1 ──\n",
      "\n",
      "\u001b[32m✔\u001b[39m \u001b[34mggplot2\u001b[39m 3.3.6     \u001b[32m✔\u001b[39m \u001b[34mpurrr  \u001b[39m 0.3.4\n",
      "\u001b[32m✔\u001b[39m \u001b[34mtibble \u001b[39m 3.1.7     \u001b[32m✔\u001b[39m \u001b[34mdplyr  \u001b[39m 1.0.9\n",
      "\u001b[32m✔\u001b[39m \u001b[34mtidyr  \u001b[39m 1.2.0     \u001b[32m✔\u001b[39m \u001b[34mstringr\u001b[39m 1.4.0\n",
      "\u001b[32m✔\u001b[39m \u001b[34mreadr  \u001b[39m 2.1.2     \u001b[32m✔\u001b[39m \u001b[34mforcats\u001b[39m 0.5.1\n",
      "\n",
      "── \u001b[1mConflicts\u001b[22m ────────────────────────────────────────── tidyverse_conflicts() ──\n",
      "\u001b[31m✖\u001b[39m \u001b[34mdplyr\u001b[39m::\u001b[32mfilter()\u001b[39m masks \u001b[34mstats\u001b[39m::filter()\n",
      "\u001b[31m✖\u001b[39m \u001b[34mdplyr\u001b[39m::\u001b[32mlag()\u001b[39m    masks \u001b[34mstats\u001b[39m::lag()\n",
      "\n",
      "── \u001b[1mAttaching packages\u001b[22m ────────────────────────────────────── tidymodels 1.0.0 ──\n",
      "\n",
      "\u001b[32m✔\u001b[39m \u001b[34mbroom       \u001b[39m 1.0.0     \u001b[32m✔\u001b[39m \u001b[34mrsample     \u001b[39m 1.0.0\n",
      "\u001b[32m✔\u001b[39m \u001b[34mdials       \u001b[39m 1.0.0     \u001b[32m✔\u001b[39m \u001b[34mtune        \u001b[39m 1.0.0\n",
      "\u001b[32m✔\u001b[39m \u001b[34minfer       \u001b[39m 1.0.2     \u001b[32m✔\u001b[39m \u001b[34mworkflows   \u001b[39m 1.0.0\n",
      "\u001b[32m✔\u001b[39m \u001b[34mmodeldata   \u001b[39m 1.0.0     \u001b[32m✔\u001b[39m \u001b[34mworkflowsets\u001b[39m 1.0.0\n",
      "\u001b[32m✔\u001b[39m \u001b[34mparsnip     \u001b[39m 1.0.0     \u001b[32m✔\u001b[39m \u001b[34myardstick   \u001b[39m 1.0.0\n",
      "\u001b[32m✔\u001b[39m \u001b[34mrecipes     \u001b[39m 1.0.1     \n",
      "\n",
      "── \u001b[1mConflicts\u001b[22m ───────────────────────────────────────── tidymodels_conflicts() ──\n",
      "\u001b[31m✖\u001b[39m \u001b[34mscales\u001b[39m::\u001b[32mdiscard()\u001b[39m masks \u001b[34mpurrr\u001b[39m::discard()\n",
      "\u001b[31m✖\u001b[39m \u001b[34mdplyr\u001b[39m::\u001b[32mfilter()\u001b[39m   masks \u001b[34mstats\u001b[39m::filter()\n",
      "\u001b[31m✖\u001b[39m \u001b[34mrecipes\u001b[39m::\u001b[32mfixed()\u001b[39m  masks \u001b[34mstringr\u001b[39m::fixed()\n",
      "\u001b[31m✖\u001b[39m \u001b[34mdplyr\u001b[39m::\u001b[32mlag()\u001b[39m      masks \u001b[34mstats\u001b[39m::lag()\n",
      "\u001b[31m✖\u001b[39m \u001b[34myardstick\u001b[39m::\u001b[32mspec()\u001b[39m masks \u001b[34mreadr\u001b[39m::spec()\n",
      "\u001b[31m✖\u001b[39m \u001b[34mrecipes\u001b[39m::\u001b[32mstep()\u001b[39m   masks \u001b[34mstats\u001b[39m::step()\n",
      "\u001b[34m•\u001b[39m Use suppressPackageStartupMessages() to eliminate package startup messages\n",
      "\n"
     ]
    }
   ],
   "source": [
    "library(tidyverse)\n",
    "library(tidymodels)\n",
    "library(cowplot)\n"
   ]
  },
  {
   "cell_type": "markdown",
   "id": "4bb41441-5bc3-4c97-8211-0ee69bec2652",
   "metadata": {},
   "source": [
    "# Loading data"
   ]
  },
  {
   "cell_type": "markdown",
   "id": "bc9b9b8d-f9e7-493f-b28b-8250ed4738d9",
   "metadata": {},
   "source": [
    "We downloaded the absenteeism dataset from the following website and assigned a name to each column. "
   ]
  },
  {
   "cell_type": "code",
   "execution_count": 2,
   "id": "9aae9ce6-5230-4768-9453-69738072c725",
   "metadata": {},
   "outputs": [
    {
     "name": "stderr",
     "output_type": "stream",
     "text": [
      "\u001b[36mℹ\u001b[39m Using \u001b[34m\u001b[34m\"','\"\u001b[34m\u001b[39m as decimal and \u001b[34m\u001b[34m\"'.'\"\u001b[34m\u001b[39m as grouping mark. Use `read_delim()` for more control.\n",
      "\n",
      "\u001b[1mRows: \u001b[22m\u001b[34m740\u001b[39m \u001b[1mColumns: \u001b[22m\u001b[34m21\u001b[39m\n",
      "\u001b[36m──\u001b[39m \u001b[1mColumn specification\u001b[22m \u001b[36m────────────────────────────────────────────────────────\u001b[39m\n",
      "\u001b[1mDelimiter:\u001b[22m \";\"\n",
      "\u001b[32mdbl\u001b[39m (20): ID, Reason for absence, Month of absence, Day of the week, Seasons...\n",
      "\n",
      "\u001b[36mℹ\u001b[39m Use `spec()` to retrieve the full column specification for this data.\n",
      "\u001b[36mℹ\u001b[39m Specify the column types or set `show_col_types = FALSE` to quiet this message.\n"
     ]
    },
    {
     "data": {
      "text/html": [
       "<table class=\"dataframe\">\n",
       "<caption>A spec_tbl_df: 740 × 21</caption>\n",
       "<thead>\n",
       "\t<tr><th scope=col>ID</th><th scope=col>Reason.for.absence</th><th scope=col>Month.of.absence</th><th scope=col>Day.of.the.week</th><th scope=col>Seasons</th><th scope=col>Transportation.expense</th><th scope=col>Distance.from.Residence.to.Work</th><th scope=col>Service.time</th><th scope=col>Age</th><th scope=col>Work.load.Average.day</th><th scope=col>⋯</th><th scope=col>Disciplinary.failure</th><th scope=col>Education</th><th scope=col>Son</th><th scope=col>Social.drinker</th><th scope=col>Social.smoker</th><th scope=col>Pet</th><th scope=col>Weight</th><th scope=col>Height</th><th scope=col>Body.mass.index</th><th scope=col>Absenteeism.time.in.hours</th></tr>\n",
       "\t<tr><th scope=col>&lt;dbl&gt;</th><th scope=col>&lt;dbl&gt;</th><th scope=col>&lt;dbl&gt;</th><th scope=col>&lt;dbl&gt;</th><th scope=col>&lt;dbl&gt;</th><th scope=col>&lt;dbl&gt;</th><th scope=col>&lt;dbl&gt;</th><th scope=col>&lt;dbl&gt;</th><th scope=col>&lt;dbl&gt;</th><th scope=col>&lt;dbl&gt;</th><th scope=col>⋯</th><th scope=col>&lt;dbl&gt;</th><th scope=col>&lt;dbl&gt;</th><th scope=col>&lt;dbl&gt;</th><th scope=col>&lt;dbl&gt;</th><th scope=col>&lt;dbl&gt;</th><th scope=col>&lt;dbl&gt;</th><th scope=col>&lt;dbl&gt;</th><th scope=col>&lt;dbl&gt;</th><th scope=col>&lt;dbl&gt;</th><th scope=col>&lt;dbl&gt;</th></tr>\n",
       "</thead>\n",
       "<tbody>\n",
       "\t<tr><td>11</td><td>26</td><td>7</td><td>3</td><td>1</td><td>289</td><td>36</td><td>13</td><td>33</td><td>239554</td><td>⋯</td><td>0</td><td>1</td><td>2</td><td>1</td><td>0</td><td>1</td><td>90</td><td>172</td><td>30</td><td> 4</td></tr>\n",
       "\t<tr><td>36</td><td> 0</td><td>7</td><td>3</td><td>1</td><td>118</td><td>13</td><td>18</td><td>50</td><td>239554</td><td>⋯</td><td>1</td><td>1</td><td>1</td><td>1</td><td>0</td><td>0</td><td>98</td><td>178</td><td>31</td><td> 0</td></tr>\n",
       "\t<tr><td> 3</td><td>23</td><td>7</td><td>4</td><td>1</td><td>179</td><td>51</td><td>18</td><td>38</td><td>239554</td><td>⋯</td><td>0</td><td>1</td><td>0</td><td>1</td><td>0</td><td>0</td><td>89</td><td>170</td><td>31</td><td> 2</td></tr>\n",
       "\t<tr><td> 7</td><td> 7</td><td>7</td><td>5</td><td>1</td><td>279</td><td> 5</td><td>14</td><td>39</td><td>239554</td><td>⋯</td><td>0</td><td>1</td><td>2</td><td>1</td><td>1</td><td>0</td><td>68</td><td>168</td><td>24</td><td> 4</td></tr>\n",
       "\t<tr><td>11</td><td>23</td><td>7</td><td>5</td><td>1</td><td>289</td><td>36</td><td>13</td><td>33</td><td>239554</td><td>⋯</td><td>0</td><td>1</td><td>2</td><td>1</td><td>0</td><td>1</td><td>90</td><td>172</td><td>30</td><td> 2</td></tr>\n",
       "\t<tr><td> 3</td><td>23</td><td>7</td><td>6</td><td>1</td><td>179</td><td>51</td><td>18</td><td>38</td><td>239554</td><td>⋯</td><td>0</td><td>1</td><td>0</td><td>1</td><td>0</td><td>0</td><td>89</td><td>170</td><td>31</td><td> 2</td></tr>\n",
       "\t<tr><td>10</td><td>22</td><td>7</td><td>6</td><td>1</td><td>361</td><td>52</td><td> 3</td><td>28</td><td>239554</td><td>⋯</td><td>0</td><td>1</td><td>1</td><td>1</td><td>0</td><td>4</td><td>80</td><td>172</td><td>27</td><td> 8</td></tr>\n",
       "\t<tr><td>20</td><td>23</td><td>7</td><td>6</td><td>1</td><td>260</td><td>50</td><td>11</td><td>36</td><td>239554</td><td>⋯</td><td>0</td><td>1</td><td>4</td><td>1</td><td>0</td><td>0</td><td>65</td><td>168</td><td>23</td><td> 4</td></tr>\n",
       "\t<tr><td>14</td><td>19</td><td>7</td><td>2</td><td>1</td><td>155</td><td>12</td><td>14</td><td>34</td><td>239554</td><td>⋯</td><td>0</td><td>1</td><td>2</td><td>1</td><td>0</td><td>0</td><td>95</td><td>196</td><td>25</td><td>40</td></tr>\n",
       "\t<tr><td> 1</td><td>22</td><td>7</td><td>2</td><td>1</td><td>235</td><td>11</td><td>14</td><td>37</td><td>239554</td><td>⋯</td><td>0</td><td>3</td><td>1</td><td>0</td><td>0</td><td>1</td><td>88</td><td>172</td><td>29</td><td> 8</td></tr>\n",
       "\t<tr><td>20</td><td> 1</td><td>7</td><td>2</td><td>1</td><td>260</td><td>50</td><td>11</td><td>36</td><td>239554</td><td>⋯</td><td>0</td><td>1</td><td>4</td><td>1</td><td>0</td><td>0</td><td>65</td><td>168</td><td>23</td><td> 8</td></tr>\n",
       "\t<tr><td>20</td><td> 1</td><td>7</td><td>3</td><td>1</td><td>260</td><td>50</td><td>11</td><td>36</td><td>239554</td><td>⋯</td><td>0</td><td>1</td><td>4</td><td>1</td><td>0</td><td>0</td><td>65</td><td>168</td><td>23</td><td> 8</td></tr>\n",
       "\t<tr><td>20</td><td>11</td><td>7</td><td>4</td><td>1</td><td>260</td><td>50</td><td>11</td><td>36</td><td>239554</td><td>⋯</td><td>0</td><td>1</td><td>4</td><td>1</td><td>0</td><td>0</td><td>65</td><td>168</td><td>23</td><td> 8</td></tr>\n",
       "\t<tr><td> 3</td><td>11</td><td>7</td><td>4</td><td>1</td><td>179</td><td>51</td><td>18</td><td>38</td><td>239554</td><td>⋯</td><td>0</td><td>1</td><td>0</td><td>1</td><td>0</td><td>0</td><td>89</td><td>170</td><td>31</td><td> 1</td></tr>\n",
       "\t<tr><td> 3</td><td>23</td><td>7</td><td>4</td><td>1</td><td>179</td><td>51</td><td>18</td><td>38</td><td>239554</td><td>⋯</td><td>0</td><td>1</td><td>0</td><td>1</td><td>0</td><td>0</td><td>89</td><td>170</td><td>31</td><td> 4</td></tr>\n",
       "\t<tr><td>24</td><td>14</td><td>7</td><td>6</td><td>1</td><td>246</td><td>25</td><td>16</td><td>41</td><td>239554</td><td>⋯</td><td>0</td><td>1</td><td>0</td><td>1</td><td>0</td><td>0</td><td>67</td><td>170</td><td>23</td><td> 8</td></tr>\n",
       "\t<tr><td> 3</td><td>23</td><td>7</td><td>6</td><td>1</td><td>179</td><td>51</td><td>18</td><td>38</td><td>239554</td><td>⋯</td><td>0</td><td>1</td><td>0</td><td>1</td><td>0</td><td>0</td><td>89</td><td>170</td><td>31</td><td> 2</td></tr>\n",
       "\t<tr><td> 3</td><td>21</td><td>7</td><td>2</td><td>1</td><td>179</td><td>51</td><td>18</td><td>38</td><td>239554</td><td>⋯</td><td>0</td><td>1</td><td>0</td><td>1</td><td>0</td><td>0</td><td>89</td><td>170</td><td>31</td><td> 8</td></tr>\n",
       "\t<tr><td> 6</td><td>11</td><td>7</td><td>5</td><td>1</td><td>189</td><td>29</td><td>13</td><td>33</td><td>239554</td><td>⋯</td><td>0</td><td>1</td><td>2</td><td>0</td><td>0</td><td>2</td><td>69</td><td>167</td><td>25</td><td> 8</td></tr>\n",
       "\t<tr><td>33</td><td>23</td><td>8</td><td>4</td><td>1</td><td>248</td><td>25</td><td>14</td><td>47</td><td>205917</td><td>⋯</td><td>0</td><td>1</td><td>2</td><td>0</td><td>0</td><td>1</td><td>86</td><td>165</td><td>32</td><td> 2</td></tr>\n",
       "\t<tr><td>18</td><td>10</td><td>8</td><td>4</td><td>1</td><td>330</td><td>16</td><td> 4</td><td>28</td><td>205917</td><td>⋯</td><td>0</td><td>2</td><td>0</td><td>0</td><td>0</td><td>0</td><td>84</td><td>182</td><td>25</td><td> 8</td></tr>\n",
       "\t<tr><td> 3</td><td>11</td><td>8</td><td>2</td><td>1</td><td>179</td><td>51</td><td>18</td><td>38</td><td>205917</td><td>⋯</td><td>0</td><td>1</td><td>0</td><td>1</td><td>0</td><td>0</td><td>89</td><td>170</td><td>31</td><td> 1</td></tr>\n",
       "\t<tr><td>10</td><td>13</td><td>8</td><td>2</td><td>1</td><td>361</td><td>52</td><td> 3</td><td>28</td><td>205917</td><td>⋯</td><td>0</td><td>1</td><td>1</td><td>1</td><td>0</td><td>4</td><td>80</td><td>172</td><td>27</td><td>40</td></tr>\n",
       "\t<tr><td>20</td><td>28</td><td>8</td><td>6</td><td>1</td><td>260</td><td>50</td><td>11</td><td>36</td><td>205917</td><td>⋯</td><td>0</td><td>1</td><td>4</td><td>1</td><td>0</td><td>0</td><td>65</td><td>168</td><td>23</td><td> 4</td></tr>\n",
       "\t<tr><td>11</td><td>18</td><td>8</td><td>2</td><td>1</td><td>289</td><td>36</td><td>13</td><td>33</td><td>205917</td><td>⋯</td><td>0</td><td>1</td><td>2</td><td>1</td><td>0</td><td>1</td><td>90</td><td>172</td><td>30</td><td> 8</td></tr>\n",
       "\t<tr><td>10</td><td>25</td><td>8</td><td>2</td><td>1</td><td>361</td><td>52</td><td> 3</td><td>28</td><td>205917</td><td>⋯</td><td>0</td><td>1</td><td>1</td><td>1</td><td>0</td><td>4</td><td>80</td><td>172</td><td>27</td><td> 7</td></tr>\n",
       "\t<tr><td>11</td><td>23</td><td>8</td><td>3</td><td>1</td><td>289</td><td>36</td><td>13</td><td>33</td><td>205917</td><td>⋯</td><td>0</td><td>1</td><td>2</td><td>1</td><td>0</td><td>1</td><td>90</td><td>172</td><td>30</td><td> 1</td></tr>\n",
       "\t<tr><td>30</td><td>28</td><td>8</td><td>4</td><td>1</td><td>157</td><td>27</td><td> 6</td><td>29</td><td>205917</td><td>⋯</td><td>0</td><td>1</td><td>0</td><td>1</td><td>1</td><td>0</td><td>75</td><td>185</td><td>22</td><td> 4</td></tr>\n",
       "\t<tr><td>11</td><td>18</td><td>8</td><td>4</td><td>1</td><td>289</td><td>36</td><td>13</td><td>33</td><td>205917</td><td>⋯</td><td>0</td><td>1</td><td>2</td><td>1</td><td>0</td><td>1</td><td>90</td><td>172</td><td>30</td><td> 8</td></tr>\n",
       "\t<tr><td> 3</td><td>23</td><td>8</td><td>6</td><td>1</td><td>179</td><td>51</td><td>18</td><td>38</td><td>205917</td><td>⋯</td><td>0</td><td>1</td><td>0</td><td>1</td><td>0</td><td>0</td><td>89</td><td>170</td><td>31</td><td> 2</td></tr>\n",
       "\t<tr><td>⋮</td><td>⋮</td><td>⋮</td><td>⋮</td><td>⋮</td><td>⋮</td><td>⋮</td><td>⋮</td><td>⋮</td><td>⋮</td><td>⋱</td><td>⋮</td><td>⋮</td><td>⋮</td><td>⋮</td><td>⋮</td><td>⋮</td><td>⋮</td><td>⋮</td><td>⋮</td><td>⋮</td></tr>\n",
       "\t<tr><td>23</td><td>22</td><td>6</td><td>5</td><td>3</td><td>378</td><td>49</td><td>11</td><td>36</td><td>275089</td><td>⋯</td><td>0</td><td>1</td><td>2</td><td>0</td><td>1</td><td>4</td><td> 65</td><td>174</td><td>21</td><td>  8</td></tr>\n",
       "\t<tr><td>36</td><td>19</td><td>6</td><td>5</td><td>3</td><td>118</td><td>13</td><td>18</td><td>50</td><td>275089</td><td>⋯</td><td>0</td><td>1</td><td>1</td><td>1</td><td>0</td><td>0</td><td> 98</td><td>178</td><td>31</td><td> 24</td></tr>\n",
       "\t<tr><td>12</td><td>19</td><td>6</td><td>6</td><td>3</td><td>233</td><td>51</td><td> 1</td><td>31</td><td>275089</td><td>⋯</td><td>0</td><td>2</td><td>1</td><td>1</td><td>0</td><td>8</td><td> 68</td><td>178</td><td>21</td><td>  8</td></tr>\n",
       "\t<tr><td>22</td><td>27</td><td>6</td><td>6</td><td>3</td><td>179</td><td>26</td><td> 9</td><td>30</td><td>275089</td><td>⋯</td><td>0</td><td>3</td><td>0</td><td>0</td><td>0</td><td>0</td><td> 56</td><td>171</td><td>19</td><td>  2</td></tr>\n",
       "\t<tr><td> 2</td><td> 0</td><td>6</td><td>2</td><td>3</td><td>235</td><td>29</td><td>12</td><td>48</td><td>275089</td><td>⋯</td><td>1</td><td>1</td><td>1</td><td>0</td><td>1</td><td>5</td><td> 88</td><td>163</td><td>33</td><td>  0</td></tr>\n",
       "\t<tr><td>21</td><td> 0</td><td>6</td><td>2</td><td>3</td><td>268</td><td>11</td><td> 8</td><td>33</td><td>275089</td><td>⋯</td><td>1</td><td>2</td><td>0</td><td>0</td><td>0</td><td>0</td><td> 79</td><td>178</td><td>25</td><td>  0</td></tr>\n",
       "\t<tr><td>36</td><td>19</td><td>6</td><td>5</td><td>3</td><td>118</td><td>13</td><td>18</td><td>50</td><td>275089</td><td>⋯</td><td>0</td><td>1</td><td>1</td><td>1</td><td>0</td><td>0</td><td> 98</td><td>178</td><td>31</td><td>  3</td></tr>\n",
       "\t<tr><td>22</td><td>13</td><td>6</td><td>5</td><td>3</td><td>179</td><td>26</td><td> 9</td><td>30</td><td>275089</td><td>⋯</td><td>0</td><td>3</td><td>0</td><td>0</td><td>0</td><td>0</td><td> 56</td><td>171</td><td>19</td><td>  2</td></tr>\n",
       "\t<tr><td>15</td><td>28</td><td>6</td><td>5</td><td>3</td><td>291</td><td>31</td><td>12</td><td>40</td><td>275089</td><td>⋯</td><td>0</td><td>1</td><td>1</td><td>1</td><td>0</td><td>1</td><td> 73</td><td>171</td><td>25</td><td>  2</td></tr>\n",
       "\t<tr><td>22</td><td>13</td><td>6</td><td>2</td><td>1</td><td>179</td><td>26</td><td> 9</td><td>30</td><td>275089</td><td>⋯</td><td>0</td><td>3</td><td>0</td><td>0</td><td>0</td><td>0</td><td> 56</td><td>171</td><td>19</td><td>  3</td></tr>\n",
       "\t<tr><td>34</td><td>25</td><td>6</td><td>2</td><td>1</td><td>118</td><td>10</td><td>10</td><td>37</td><td>275089</td><td>⋯</td><td>0</td><td>1</td><td>0</td><td>0</td><td>0</td><td>0</td><td> 83</td><td>172</td><td>28</td><td>  3</td></tr>\n",
       "\t<tr><td>12</td><td>22</td><td>6</td><td>5</td><td>1</td><td>233</td><td>51</td><td> 1</td><td>31</td><td>275089</td><td>⋯</td><td>0</td><td>2</td><td>1</td><td>1</td><td>0</td><td>8</td><td> 68</td><td>178</td><td>21</td><td>  8</td></tr>\n",
       "\t<tr><td>34</td><td> 8</td><td>6</td><td>6</td><td>1</td><td>118</td><td>10</td><td>10</td><td>37</td><td>275089</td><td>⋯</td><td>0</td><td>1</td><td>0</td><td>0</td><td>0</td><td>0</td><td> 83</td><td>172</td><td>28</td><td>  2</td></tr>\n",
       "\t<tr><td>34</td><td>10</td><td>6</td><td>4</td><td>1</td><td>118</td><td>10</td><td>10</td><td>37</td><td>275089</td><td>⋯</td><td>0</td><td>1</td><td>0</td><td>0</td><td>0</td><td>0</td><td> 83</td><td>172</td><td>28</td><td>  3</td></tr>\n",
       "\t<tr><td>12</td><td>22</td><td>6</td><td>4</td><td>1</td><td>233</td><td>51</td><td> 1</td><td>31</td><td>275089</td><td>⋯</td><td>0</td><td>2</td><td>1</td><td>1</td><td>0</td><td>8</td><td> 68</td><td>178</td><td>21</td><td>  3</td></tr>\n",
       "\t<tr><td> 5</td><td>26</td><td>7</td><td>4</td><td>1</td><td>235</td><td>20</td><td>13</td><td>43</td><td>264604</td><td>⋯</td><td>0</td><td>1</td><td>1</td><td>1</td><td>0</td><td>0</td><td>106</td><td>167</td><td>38</td><td>  4</td></tr>\n",
       "\t<tr><td>12</td><td>19</td><td>7</td><td>6</td><td>1</td><td>233</td><td>51</td><td> 1</td><td>31</td><td>264604</td><td>⋯</td><td>0</td><td>2</td><td>1</td><td>1</td><td>0</td><td>8</td><td> 68</td><td>178</td><td>21</td><td>  2</td></tr>\n",
       "\t<tr><td> 9</td><td> 6</td><td>7</td><td>2</td><td>1</td><td>228</td><td>14</td><td>16</td><td>58</td><td>264604</td><td>⋯</td><td>0</td><td>1</td><td>2</td><td>0</td><td>0</td><td>1</td><td> 65</td><td>172</td><td>22</td><td>  8</td></tr>\n",
       "\t<tr><td>34</td><td>28</td><td>7</td><td>2</td><td>1</td><td>118</td><td>10</td><td>10</td><td>37</td><td>264604</td><td>⋯</td><td>0</td><td>1</td><td>0</td><td>0</td><td>0</td><td>0</td><td> 83</td><td>172</td><td>28</td><td>  4</td></tr>\n",
       "\t<tr><td> 9</td><td> 6</td><td>7</td><td>3</td><td>1</td><td>228</td><td>14</td><td>16</td><td>58</td><td>264604</td><td>⋯</td><td>0</td><td>1</td><td>2</td><td>0</td><td>0</td><td>1</td><td> 65</td><td>172</td><td>22</td><td>120</td></tr>\n",
       "\t<tr><td> 6</td><td>22</td><td>7</td><td>3</td><td>1</td><td>189</td><td>29</td><td>13</td><td>33</td><td>264604</td><td>⋯</td><td>0</td><td>1</td><td>2</td><td>0</td><td>0</td><td>2</td><td> 69</td><td>167</td><td>25</td><td> 16</td></tr>\n",
       "\t<tr><td>34</td><td>23</td><td>7</td><td>4</td><td>1</td><td>118</td><td>10</td><td>10</td><td>37</td><td>264604</td><td>⋯</td><td>0</td><td>1</td><td>0</td><td>0</td><td>0</td><td>0</td><td> 83</td><td>172</td><td>28</td><td>  2</td></tr>\n",
       "\t<tr><td>10</td><td>22</td><td>7</td><td>4</td><td>1</td><td>361</td><td>52</td><td> 3</td><td>28</td><td>264604</td><td>⋯</td><td>0</td><td>1</td><td>1</td><td>1</td><td>0</td><td>4</td><td> 80</td><td>172</td><td>27</td><td>  8</td></tr>\n",
       "\t<tr><td>28</td><td>22</td><td>7</td><td>4</td><td>1</td><td>225</td><td>26</td><td> 9</td><td>28</td><td>264604</td><td>⋯</td><td>0</td><td>1</td><td>1</td><td>0</td><td>0</td><td>2</td><td> 69</td><td>169</td><td>24</td><td>  8</td></tr>\n",
       "\t<tr><td>13</td><td>13</td><td>7</td><td>2</td><td>1</td><td>369</td><td>17</td><td>12</td><td>31</td><td>264604</td><td>⋯</td><td>0</td><td>1</td><td>3</td><td>1</td><td>0</td><td>0</td><td> 70</td><td>169</td><td>25</td><td> 80</td></tr>\n",
       "\t<tr><td>11</td><td>14</td><td>7</td><td>3</td><td>1</td><td>289</td><td>36</td><td>13</td><td>33</td><td>264604</td><td>⋯</td><td>0</td><td>1</td><td>2</td><td>1</td><td>0</td><td>1</td><td> 90</td><td>172</td><td>30</td><td>  8</td></tr>\n",
       "\t<tr><td> 1</td><td>11</td><td>7</td><td>3</td><td>1</td><td>235</td><td>11</td><td>14</td><td>37</td><td>264604</td><td>⋯</td><td>0</td><td>3</td><td>1</td><td>0</td><td>0</td><td>1</td><td> 88</td><td>172</td><td>29</td><td>  4</td></tr>\n",
       "\t<tr><td> 4</td><td> 0</td><td>0</td><td>3</td><td>1</td><td>118</td><td>14</td><td>13</td><td>40</td><td>271219</td><td>⋯</td><td>0</td><td>1</td><td>1</td><td>1</td><td>0</td><td>8</td><td> 98</td><td>170</td><td>34</td><td>  0</td></tr>\n",
       "\t<tr><td> 8</td><td> 0</td><td>0</td><td>4</td><td>2</td><td>231</td><td>35</td><td>14</td><td>39</td><td>271219</td><td>⋯</td><td>0</td><td>1</td><td>2</td><td>1</td><td>0</td><td>2</td><td>100</td><td>170</td><td>35</td><td>  0</td></tr>\n",
       "\t<tr><td>35</td><td> 0</td><td>0</td><td>6</td><td>3</td><td>179</td><td>45</td><td>14</td><td>53</td><td>271219</td><td>⋯</td><td>0</td><td>1</td><td>1</td><td>0</td><td>0</td><td>1</td><td> 77</td><td>175</td><td>25</td><td>  0</td></tr>\n",
       "</tbody>\n",
       "</table>\n"
      ],
      "text/latex": [
       "A spec\\_tbl\\_df: 740 × 21\n",
       "\\begin{tabular}{lllllllllllllllllllll}\n",
       " ID & Reason.for.absence & Month.of.absence & Day.of.the.week & Seasons & Transportation.expense & Distance.from.Residence.to.Work & Service.time & Age & Work.load.Average.day & ⋯ & Disciplinary.failure & Education & Son & Social.drinker & Social.smoker & Pet & Weight & Height & Body.mass.index & Absenteeism.time.in.hours\\\\\n",
       " <dbl> & <dbl> & <dbl> & <dbl> & <dbl> & <dbl> & <dbl> & <dbl> & <dbl> & <dbl> & ⋯ & <dbl> & <dbl> & <dbl> & <dbl> & <dbl> & <dbl> & <dbl> & <dbl> & <dbl> & <dbl>\\\\\n",
       "\\hline\n",
       "\t 11 & 26 & 7 & 3 & 1 & 289 & 36 & 13 & 33 & 239554 & ⋯ & 0 & 1 & 2 & 1 & 0 & 1 & 90 & 172 & 30 &  4\\\\\n",
       "\t 36 &  0 & 7 & 3 & 1 & 118 & 13 & 18 & 50 & 239554 & ⋯ & 1 & 1 & 1 & 1 & 0 & 0 & 98 & 178 & 31 &  0\\\\\n",
       "\t  3 & 23 & 7 & 4 & 1 & 179 & 51 & 18 & 38 & 239554 & ⋯ & 0 & 1 & 0 & 1 & 0 & 0 & 89 & 170 & 31 &  2\\\\\n",
       "\t  7 &  7 & 7 & 5 & 1 & 279 &  5 & 14 & 39 & 239554 & ⋯ & 0 & 1 & 2 & 1 & 1 & 0 & 68 & 168 & 24 &  4\\\\\n",
       "\t 11 & 23 & 7 & 5 & 1 & 289 & 36 & 13 & 33 & 239554 & ⋯ & 0 & 1 & 2 & 1 & 0 & 1 & 90 & 172 & 30 &  2\\\\\n",
       "\t  3 & 23 & 7 & 6 & 1 & 179 & 51 & 18 & 38 & 239554 & ⋯ & 0 & 1 & 0 & 1 & 0 & 0 & 89 & 170 & 31 &  2\\\\\n",
       "\t 10 & 22 & 7 & 6 & 1 & 361 & 52 &  3 & 28 & 239554 & ⋯ & 0 & 1 & 1 & 1 & 0 & 4 & 80 & 172 & 27 &  8\\\\\n",
       "\t 20 & 23 & 7 & 6 & 1 & 260 & 50 & 11 & 36 & 239554 & ⋯ & 0 & 1 & 4 & 1 & 0 & 0 & 65 & 168 & 23 &  4\\\\\n",
       "\t 14 & 19 & 7 & 2 & 1 & 155 & 12 & 14 & 34 & 239554 & ⋯ & 0 & 1 & 2 & 1 & 0 & 0 & 95 & 196 & 25 & 40\\\\\n",
       "\t  1 & 22 & 7 & 2 & 1 & 235 & 11 & 14 & 37 & 239554 & ⋯ & 0 & 3 & 1 & 0 & 0 & 1 & 88 & 172 & 29 &  8\\\\\n",
       "\t 20 &  1 & 7 & 2 & 1 & 260 & 50 & 11 & 36 & 239554 & ⋯ & 0 & 1 & 4 & 1 & 0 & 0 & 65 & 168 & 23 &  8\\\\\n",
       "\t 20 &  1 & 7 & 3 & 1 & 260 & 50 & 11 & 36 & 239554 & ⋯ & 0 & 1 & 4 & 1 & 0 & 0 & 65 & 168 & 23 &  8\\\\\n",
       "\t 20 & 11 & 7 & 4 & 1 & 260 & 50 & 11 & 36 & 239554 & ⋯ & 0 & 1 & 4 & 1 & 0 & 0 & 65 & 168 & 23 &  8\\\\\n",
       "\t  3 & 11 & 7 & 4 & 1 & 179 & 51 & 18 & 38 & 239554 & ⋯ & 0 & 1 & 0 & 1 & 0 & 0 & 89 & 170 & 31 &  1\\\\\n",
       "\t  3 & 23 & 7 & 4 & 1 & 179 & 51 & 18 & 38 & 239554 & ⋯ & 0 & 1 & 0 & 1 & 0 & 0 & 89 & 170 & 31 &  4\\\\\n",
       "\t 24 & 14 & 7 & 6 & 1 & 246 & 25 & 16 & 41 & 239554 & ⋯ & 0 & 1 & 0 & 1 & 0 & 0 & 67 & 170 & 23 &  8\\\\\n",
       "\t  3 & 23 & 7 & 6 & 1 & 179 & 51 & 18 & 38 & 239554 & ⋯ & 0 & 1 & 0 & 1 & 0 & 0 & 89 & 170 & 31 &  2\\\\\n",
       "\t  3 & 21 & 7 & 2 & 1 & 179 & 51 & 18 & 38 & 239554 & ⋯ & 0 & 1 & 0 & 1 & 0 & 0 & 89 & 170 & 31 &  8\\\\\n",
       "\t  6 & 11 & 7 & 5 & 1 & 189 & 29 & 13 & 33 & 239554 & ⋯ & 0 & 1 & 2 & 0 & 0 & 2 & 69 & 167 & 25 &  8\\\\\n",
       "\t 33 & 23 & 8 & 4 & 1 & 248 & 25 & 14 & 47 & 205917 & ⋯ & 0 & 1 & 2 & 0 & 0 & 1 & 86 & 165 & 32 &  2\\\\\n",
       "\t 18 & 10 & 8 & 4 & 1 & 330 & 16 &  4 & 28 & 205917 & ⋯ & 0 & 2 & 0 & 0 & 0 & 0 & 84 & 182 & 25 &  8\\\\\n",
       "\t  3 & 11 & 8 & 2 & 1 & 179 & 51 & 18 & 38 & 205917 & ⋯ & 0 & 1 & 0 & 1 & 0 & 0 & 89 & 170 & 31 &  1\\\\\n",
       "\t 10 & 13 & 8 & 2 & 1 & 361 & 52 &  3 & 28 & 205917 & ⋯ & 0 & 1 & 1 & 1 & 0 & 4 & 80 & 172 & 27 & 40\\\\\n",
       "\t 20 & 28 & 8 & 6 & 1 & 260 & 50 & 11 & 36 & 205917 & ⋯ & 0 & 1 & 4 & 1 & 0 & 0 & 65 & 168 & 23 &  4\\\\\n",
       "\t 11 & 18 & 8 & 2 & 1 & 289 & 36 & 13 & 33 & 205917 & ⋯ & 0 & 1 & 2 & 1 & 0 & 1 & 90 & 172 & 30 &  8\\\\\n",
       "\t 10 & 25 & 8 & 2 & 1 & 361 & 52 &  3 & 28 & 205917 & ⋯ & 0 & 1 & 1 & 1 & 0 & 4 & 80 & 172 & 27 &  7\\\\\n",
       "\t 11 & 23 & 8 & 3 & 1 & 289 & 36 & 13 & 33 & 205917 & ⋯ & 0 & 1 & 2 & 1 & 0 & 1 & 90 & 172 & 30 &  1\\\\\n",
       "\t 30 & 28 & 8 & 4 & 1 & 157 & 27 &  6 & 29 & 205917 & ⋯ & 0 & 1 & 0 & 1 & 1 & 0 & 75 & 185 & 22 &  4\\\\\n",
       "\t 11 & 18 & 8 & 4 & 1 & 289 & 36 & 13 & 33 & 205917 & ⋯ & 0 & 1 & 2 & 1 & 0 & 1 & 90 & 172 & 30 &  8\\\\\n",
       "\t  3 & 23 & 8 & 6 & 1 & 179 & 51 & 18 & 38 & 205917 & ⋯ & 0 & 1 & 0 & 1 & 0 & 0 & 89 & 170 & 31 &  2\\\\\n",
       "\t ⋮ & ⋮ & ⋮ & ⋮ & ⋮ & ⋮ & ⋮ & ⋮ & ⋮ & ⋮ & ⋱ & ⋮ & ⋮ & ⋮ & ⋮ & ⋮ & ⋮ & ⋮ & ⋮ & ⋮ & ⋮\\\\\n",
       "\t 23 & 22 & 6 & 5 & 3 & 378 & 49 & 11 & 36 & 275089 & ⋯ & 0 & 1 & 2 & 0 & 1 & 4 &  65 & 174 & 21 &   8\\\\\n",
       "\t 36 & 19 & 6 & 5 & 3 & 118 & 13 & 18 & 50 & 275089 & ⋯ & 0 & 1 & 1 & 1 & 0 & 0 &  98 & 178 & 31 &  24\\\\\n",
       "\t 12 & 19 & 6 & 6 & 3 & 233 & 51 &  1 & 31 & 275089 & ⋯ & 0 & 2 & 1 & 1 & 0 & 8 &  68 & 178 & 21 &   8\\\\\n",
       "\t 22 & 27 & 6 & 6 & 3 & 179 & 26 &  9 & 30 & 275089 & ⋯ & 0 & 3 & 0 & 0 & 0 & 0 &  56 & 171 & 19 &   2\\\\\n",
       "\t  2 &  0 & 6 & 2 & 3 & 235 & 29 & 12 & 48 & 275089 & ⋯ & 1 & 1 & 1 & 0 & 1 & 5 &  88 & 163 & 33 &   0\\\\\n",
       "\t 21 &  0 & 6 & 2 & 3 & 268 & 11 &  8 & 33 & 275089 & ⋯ & 1 & 2 & 0 & 0 & 0 & 0 &  79 & 178 & 25 &   0\\\\\n",
       "\t 36 & 19 & 6 & 5 & 3 & 118 & 13 & 18 & 50 & 275089 & ⋯ & 0 & 1 & 1 & 1 & 0 & 0 &  98 & 178 & 31 &   3\\\\\n",
       "\t 22 & 13 & 6 & 5 & 3 & 179 & 26 &  9 & 30 & 275089 & ⋯ & 0 & 3 & 0 & 0 & 0 & 0 &  56 & 171 & 19 &   2\\\\\n",
       "\t 15 & 28 & 6 & 5 & 3 & 291 & 31 & 12 & 40 & 275089 & ⋯ & 0 & 1 & 1 & 1 & 0 & 1 &  73 & 171 & 25 &   2\\\\\n",
       "\t 22 & 13 & 6 & 2 & 1 & 179 & 26 &  9 & 30 & 275089 & ⋯ & 0 & 3 & 0 & 0 & 0 & 0 &  56 & 171 & 19 &   3\\\\\n",
       "\t 34 & 25 & 6 & 2 & 1 & 118 & 10 & 10 & 37 & 275089 & ⋯ & 0 & 1 & 0 & 0 & 0 & 0 &  83 & 172 & 28 &   3\\\\\n",
       "\t 12 & 22 & 6 & 5 & 1 & 233 & 51 &  1 & 31 & 275089 & ⋯ & 0 & 2 & 1 & 1 & 0 & 8 &  68 & 178 & 21 &   8\\\\\n",
       "\t 34 &  8 & 6 & 6 & 1 & 118 & 10 & 10 & 37 & 275089 & ⋯ & 0 & 1 & 0 & 0 & 0 & 0 &  83 & 172 & 28 &   2\\\\\n",
       "\t 34 & 10 & 6 & 4 & 1 & 118 & 10 & 10 & 37 & 275089 & ⋯ & 0 & 1 & 0 & 0 & 0 & 0 &  83 & 172 & 28 &   3\\\\\n",
       "\t 12 & 22 & 6 & 4 & 1 & 233 & 51 &  1 & 31 & 275089 & ⋯ & 0 & 2 & 1 & 1 & 0 & 8 &  68 & 178 & 21 &   3\\\\\n",
       "\t  5 & 26 & 7 & 4 & 1 & 235 & 20 & 13 & 43 & 264604 & ⋯ & 0 & 1 & 1 & 1 & 0 & 0 & 106 & 167 & 38 &   4\\\\\n",
       "\t 12 & 19 & 7 & 6 & 1 & 233 & 51 &  1 & 31 & 264604 & ⋯ & 0 & 2 & 1 & 1 & 0 & 8 &  68 & 178 & 21 &   2\\\\\n",
       "\t  9 &  6 & 7 & 2 & 1 & 228 & 14 & 16 & 58 & 264604 & ⋯ & 0 & 1 & 2 & 0 & 0 & 1 &  65 & 172 & 22 &   8\\\\\n",
       "\t 34 & 28 & 7 & 2 & 1 & 118 & 10 & 10 & 37 & 264604 & ⋯ & 0 & 1 & 0 & 0 & 0 & 0 &  83 & 172 & 28 &   4\\\\\n",
       "\t  9 &  6 & 7 & 3 & 1 & 228 & 14 & 16 & 58 & 264604 & ⋯ & 0 & 1 & 2 & 0 & 0 & 1 &  65 & 172 & 22 & 120\\\\\n",
       "\t  6 & 22 & 7 & 3 & 1 & 189 & 29 & 13 & 33 & 264604 & ⋯ & 0 & 1 & 2 & 0 & 0 & 2 &  69 & 167 & 25 &  16\\\\\n",
       "\t 34 & 23 & 7 & 4 & 1 & 118 & 10 & 10 & 37 & 264604 & ⋯ & 0 & 1 & 0 & 0 & 0 & 0 &  83 & 172 & 28 &   2\\\\\n",
       "\t 10 & 22 & 7 & 4 & 1 & 361 & 52 &  3 & 28 & 264604 & ⋯ & 0 & 1 & 1 & 1 & 0 & 4 &  80 & 172 & 27 &   8\\\\\n",
       "\t 28 & 22 & 7 & 4 & 1 & 225 & 26 &  9 & 28 & 264604 & ⋯ & 0 & 1 & 1 & 0 & 0 & 2 &  69 & 169 & 24 &   8\\\\\n",
       "\t 13 & 13 & 7 & 2 & 1 & 369 & 17 & 12 & 31 & 264604 & ⋯ & 0 & 1 & 3 & 1 & 0 & 0 &  70 & 169 & 25 &  80\\\\\n",
       "\t 11 & 14 & 7 & 3 & 1 & 289 & 36 & 13 & 33 & 264604 & ⋯ & 0 & 1 & 2 & 1 & 0 & 1 &  90 & 172 & 30 &   8\\\\\n",
       "\t  1 & 11 & 7 & 3 & 1 & 235 & 11 & 14 & 37 & 264604 & ⋯ & 0 & 3 & 1 & 0 & 0 & 1 &  88 & 172 & 29 &   4\\\\\n",
       "\t  4 &  0 & 0 & 3 & 1 & 118 & 14 & 13 & 40 & 271219 & ⋯ & 0 & 1 & 1 & 1 & 0 & 8 &  98 & 170 & 34 &   0\\\\\n",
       "\t  8 &  0 & 0 & 4 & 2 & 231 & 35 & 14 & 39 & 271219 & ⋯ & 0 & 1 & 2 & 1 & 0 & 2 & 100 & 170 & 35 &   0\\\\\n",
       "\t 35 &  0 & 0 & 6 & 3 & 179 & 45 & 14 & 53 & 271219 & ⋯ & 0 & 1 & 1 & 0 & 0 & 1 &  77 & 175 & 25 &   0\\\\\n",
       "\\end{tabular}\n"
      ],
      "text/markdown": [
       "\n",
       "A spec_tbl_df: 740 × 21\n",
       "\n",
       "| ID &lt;dbl&gt; | Reason.for.absence &lt;dbl&gt; | Month.of.absence &lt;dbl&gt; | Day.of.the.week &lt;dbl&gt; | Seasons &lt;dbl&gt; | Transportation.expense &lt;dbl&gt; | Distance.from.Residence.to.Work &lt;dbl&gt; | Service.time &lt;dbl&gt; | Age &lt;dbl&gt; | Work.load.Average.day &lt;dbl&gt; | ⋯ ⋯ | Disciplinary.failure &lt;dbl&gt; | Education &lt;dbl&gt; | Son &lt;dbl&gt; | Social.drinker &lt;dbl&gt; | Social.smoker &lt;dbl&gt; | Pet &lt;dbl&gt; | Weight &lt;dbl&gt; | Height &lt;dbl&gt; | Body.mass.index &lt;dbl&gt; | Absenteeism.time.in.hours &lt;dbl&gt; |\n",
       "|---|---|---|---|---|---|---|---|---|---|---|---|---|---|---|---|---|---|---|---|---|\n",
       "| 11 | 26 | 7 | 3 | 1 | 289 | 36 | 13 | 33 | 239554 | ⋯ | 0 | 1 | 2 | 1 | 0 | 1 | 90 | 172 | 30 |  4 |\n",
       "| 36 |  0 | 7 | 3 | 1 | 118 | 13 | 18 | 50 | 239554 | ⋯ | 1 | 1 | 1 | 1 | 0 | 0 | 98 | 178 | 31 |  0 |\n",
       "|  3 | 23 | 7 | 4 | 1 | 179 | 51 | 18 | 38 | 239554 | ⋯ | 0 | 1 | 0 | 1 | 0 | 0 | 89 | 170 | 31 |  2 |\n",
       "|  7 |  7 | 7 | 5 | 1 | 279 |  5 | 14 | 39 | 239554 | ⋯ | 0 | 1 | 2 | 1 | 1 | 0 | 68 | 168 | 24 |  4 |\n",
       "| 11 | 23 | 7 | 5 | 1 | 289 | 36 | 13 | 33 | 239554 | ⋯ | 0 | 1 | 2 | 1 | 0 | 1 | 90 | 172 | 30 |  2 |\n",
       "|  3 | 23 | 7 | 6 | 1 | 179 | 51 | 18 | 38 | 239554 | ⋯ | 0 | 1 | 0 | 1 | 0 | 0 | 89 | 170 | 31 |  2 |\n",
       "| 10 | 22 | 7 | 6 | 1 | 361 | 52 |  3 | 28 | 239554 | ⋯ | 0 | 1 | 1 | 1 | 0 | 4 | 80 | 172 | 27 |  8 |\n",
       "| 20 | 23 | 7 | 6 | 1 | 260 | 50 | 11 | 36 | 239554 | ⋯ | 0 | 1 | 4 | 1 | 0 | 0 | 65 | 168 | 23 |  4 |\n",
       "| 14 | 19 | 7 | 2 | 1 | 155 | 12 | 14 | 34 | 239554 | ⋯ | 0 | 1 | 2 | 1 | 0 | 0 | 95 | 196 | 25 | 40 |\n",
       "|  1 | 22 | 7 | 2 | 1 | 235 | 11 | 14 | 37 | 239554 | ⋯ | 0 | 3 | 1 | 0 | 0 | 1 | 88 | 172 | 29 |  8 |\n",
       "| 20 |  1 | 7 | 2 | 1 | 260 | 50 | 11 | 36 | 239554 | ⋯ | 0 | 1 | 4 | 1 | 0 | 0 | 65 | 168 | 23 |  8 |\n",
       "| 20 |  1 | 7 | 3 | 1 | 260 | 50 | 11 | 36 | 239554 | ⋯ | 0 | 1 | 4 | 1 | 0 | 0 | 65 | 168 | 23 |  8 |\n",
       "| 20 | 11 | 7 | 4 | 1 | 260 | 50 | 11 | 36 | 239554 | ⋯ | 0 | 1 | 4 | 1 | 0 | 0 | 65 | 168 | 23 |  8 |\n",
       "|  3 | 11 | 7 | 4 | 1 | 179 | 51 | 18 | 38 | 239554 | ⋯ | 0 | 1 | 0 | 1 | 0 | 0 | 89 | 170 | 31 |  1 |\n",
       "|  3 | 23 | 7 | 4 | 1 | 179 | 51 | 18 | 38 | 239554 | ⋯ | 0 | 1 | 0 | 1 | 0 | 0 | 89 | 170 | 31 |  4 |\n",
       "| 24 | 14 | 7 | 6 | 1 | 246 | 25 | 16 | 41 | 239554 | ⋯ | 0 | 1 | 0 | 1 | 0 | 0 | 67 | 170 | 23 |  8 |\n",
       "|  3 | 23 | 7 | 6 | 1 | 179 | 51 | 18 | 38 | 239554 | ⋯ | 0 | 1 | 0 | 1 | 0 | 0 | 89 | 170 | 31 |  2 |\n",
       "|  3 | 21 | 7 | 2 | 1 | 179 | 51 | 18 | 38 | 239554 | ⋯ | 0 | 1 | 0 | 1 | 0 | 0 | 89 | 170 | 31 |  8 |\n",
       "|  6 | 11 | 7 | 5 | 1 | 189 | 29 | 13 | 33 | 239554 | ⋯ | 0 | 1 | 2 | 0 | 0 | 2 | 69 | 167 | 25 |  8 |\n",
       "| 33 | 23 | 8 | 4 | 1 | 248 | 25 | 14 | 47 | 205917 | ⋯ | 0 | 1 | 2 | 0 | 0 | 1 | 86 | 165 | 32 |  2 |\n",
       "| 18 | 10 | 8 | 4 | 1 | 330 | 16 |  4 | 28 | 205917 | ⋯ | 0 | 2 | 0 | 0 | 0 | 0 | 84 | 182 | 25 |  8 |\n",
       "|  3 | 11 | 8 | 2 | 1 | 179 | 51 | 18 | 38 | 205917 | ⋯ | 0 | 1 | 0 | 1 | 0 | 0 | 89 | 170 | 31 |  1 |\n",
       "| 10 | 13 | 8 | 2 | 1 | 361 | 52 |  3 | 28 | 205917 | ⋯ | 0 | 1 | 1 | 1 | 0 | 4 | 80 | 172 | 27 | 40 |\n",
       "| 20 | 28 | 8 | 6 | 1 | 260 | 50 | 11 | 36 | 205917 | ⋯ | 0 | 1 | 4 | 1 | 0 | 0 | 65 | 168 | 23 |  4 |\n",
       "| 11 | 18 | 8 | 2 | 1 | 289 | 36 | 13 | 33 | 205917 | ⋯ | 0 | 1 | 2 | 1 | 0 | 1 | 90 | 172 | 30 |  8 |\n",
       "| 10 | 25 | 8 | 2 | 1 | 361 | 52 |  3 | 28 | 205917 | ⋯ | 0 | 1 | 1 | 1 | 0 | 4 | 80 | 172 | 27 |  7 |\n",
       "| 11 | 23 | 8 | 3 | 1 | 289 | 36 | 13 | 33 | 205917 | ⋯ | 0 | 1 | 2 | 1 | 0 | 1 | 90 | 172 | 30 |  1 |\n",
       "| 30 | 28 | 8 | 4 | 1 | 157 | 27 |  6 | 29 | 205917 | ⋯ | 0 | 1 | 0 | 1 | 1 | 0 | 75 | 185 | 22 |  4 |\n",
       "| 11 | 18 | 8 | 4 | 1 | 289 | 36 | 13 | 33 | 205917 | ⋯ | 0 | 1 | 2 | 1 | 0 | 1 | 90 | 172 | 30 |  8 |\n",
       "|  3 | 23 | 8 | 6 | 1 | 179 | 51 | 18 | 38 | 205917 | ⋯ | 0 | 1 | 0 | 1 | 0 | 0 | 89 | 170 | 31 |  2 |\n",
       "| ⋮ | ⋮ | ⋮ | ⋮ | ⋮ | ⋮ | ⋮ | ⋮ | ⋮ | ⋮ | ⋱ | ⋮ | ⋮ | ⋮ | ⋮ | ⋮ | ⋮ | ⋮ | ⋮ | ⋮ | ⋮ |\n",
       "| 23 | 22 | 6 | 5 | 3 | 378 | 49 | 11 | 36 | 275089 | ⋯ | 0 | 1 | 2 | 0 | 1 | 4 |  65 | 174 | 21 |   8 |\n",
       "| 36 | 19 | 6 | 5 | 3 | 118 | 13 | 18 | 50 | 275089 | ⋯ | 0 | 1 | 1 | 1 | 0 | 0 |  98 | 178 | 31 |  24 |\n",
       "| 12 | 19 | 6 | 6 | 3 | 233 | 51 |  1 | 31 | 275089 | ⋯ | 0 | 2 | 1 | 1 | 0 | 8 |  68 | 178 | 21 |   8 |\n",
       "| 22 | 27 | 6 | 6 | 3 | 179 | 26 |  9 | 30 | 275089 | ⋯ | 0 | 3 | 0 | 0 | 0 | 0 |  56 | 171 | 19 |   2 |\n",
       "|  2 |  0 | 6 | 2 | 3 | 235 | 29 | 12 | 48 | 275089 | ⋯ | 1 | 1 | 1 | 0 | 1 | 5 |  88 | 163 | 33 |   0 |\n",
       "| 21 |  0 | 6 | 2 | 3 | 268 | 11 |  8 | 33 | 275089 | ⋯ | 1 | 2 | 0 | 0 | 0 | 0 |  79 | 178 | 25 |   0 |\n",
       "| 36 | 19 | 6 | 5 | 3 | 118 | 13 | 18 | 50 | 275089 | ⋯ | 0 | 1 | 1 | 1 | 0 | 0 |  98 | 178 | 31 |   3 |\n",
       "| 22 | 13 | 6 | 5 | 3 | 179 | 26 |  9 | 30 | 275089 | ⋯ | 0 | 3 | 0 | 0 | 0 | 0 |  56 | 171 | 19 |   2 |\n",
       "| 15 | 28 | 6 | 5 | 3 | 291 | 31 | 12 | 40 | 275089 | ⋯ | 0 | 1 | 1 | 1 | 0 | 1 |  73 | 171 | 25 |   2 |\n",
       "| 22 | 13 | 6 | 2 | 1 | 179 | 26 |  9 | 30 | 275089 | ⋯ | 0 | 3 | 0 | 0 | 0 | 0 |  56 | 171 | 19 |   3 |\n",
       "| 34 | 25 | 6 | 2 | 1 | 118 | 10 | 10 | 37 | 275089 | ⋯ | 0 | 1 | 0 | 0 | 0 | 0 |  83 | 172 | 28 |   3 |\n",
       "| 12 | 22 | 6 | 5 | 1 | 233 | 51 |  1 | 31 | 275089 | ⋯ | 0 | 2 | 1 | 1 | 0 | 8 |  68 | 178 | 21 |   8 |\n",
       "| 34 |  8 | 6 | 6 | 1 | 118 | 10 | 10 | 37 | 275089 | ⋯ | 0 | 1 | 0 | 0 | 0 | 0 |  83 | 172 | 28 |   2 |\n",
       "| 34 | 10 | 6 | 4 | 1 | 118 | 10 | 10 | 37 | 275089 | ⋯ | 0 | 1 | 0 | 0 | 0 | 0 |  83 | 172 | 28 |   3 |\n",
       "| 12 | 22 | 6 | 4 | 1 | 233 | 51 |  1 | 31 | 275089 | ⋯ | 0 | 2 | 1 | 1 | 0 | 8 |  68 | 178 | 21 |   3 |\n",
       "|  5 | 26 | 7 | 4 | 1 | 235 | 20 | 13 | 43 | 264604 | ⋯ | 0 | 1 | 1 | 1 | 0 | 0 | 106 | 167 | 38 |   4 |\n",
       "| 12 | 19 | 7 | 6 | 1 | 233 | 51 |  1 | 31 | 264604 | ⋯ | 0 | 2 | 1 | 1 | 0 | 8 |  68 | 178 | 21 |   2 |\n",
       "|  9 |  6 | 7 | 2 | 1 | 228 | 14 | 16 | 58 | 264604 | ⋯ | 0 | 1 | 2 | 0 | 0 | 1 |  65 | 172 | 22 |   8 |\n",
       "| 34 | 28 | 7 | 2 | 1 | 118 | 10 | 10 | 37 | 264604 | ⋯ | 0 | 1 | 0 | 0 | 0 | 0 |  83 | 172 | 28 |   4 |\n",
       "|  9 |  6 | 7 | 3 | 1 | 228 | 14 | 16 | 58 | 264604 | ⋯ | 0 | 1 | 2 | 0 | 0 | 1 |  65 | 172 | 22 | 120 |\n",
       "|  6 | 22 | 7 | 3 | 1 | 189 | 29 | 13 | 33 | 264604 | ⋯ | 0 | 1 | 2 | 0 | 0 | 2 |  69 | 167 | 25 |  16 |\n",
       "| 34 | 23 | 7 | 4 | 1 | 118 | 10 | 10 | 37 | 264604 | ⋯ | 0 | 1 | 0 | 0 | 0 | 0 |  83 | 172 | 28 |   2 |\n",
       "| 10 | 22 | 7 | 4 | 1 | 361 | 52 |  3 | 28 | 264604 | ⋯ | 0 | 1 | 1 | 1 | 0 | 4 |  80 | 172 | 27 |   8 |\n",
       "| 28 | 22 | 7 | 4 | 1 | 225 | 26 |  9 | 28 | 264604 | ⋯ | 0 | 1 | 1 | 0 | 0 | 2 |  69 | 169 | 24 |   8 |\n",
       "| 13 | 13 | 7 | 2 | 1 | 369 | 17 | 12 | 31 | 264604 | ⋯ | 0 | 1 | 3 | 1 | 0 | 0 |  70 | 169 | 25 |  80 |\n",
       "| 11 | 14 | 7 | 3 | 1 | 289 | 36 | 13 | 33 | 264604 | ⋯ | 0 | 1 | 2 | 1 | 0 | 1 |  90 | 172 | 30 |   8 |\n",
       "|  1 | 11 | 7 | 3 | 1 | 235 | 11 | 14 | 37 | 264604 | ⋯ | 0 | 3 | 1 | 0 | 0 | 1 |  88 | 172 | 29 |   4 |\n",
       "|  4 |  0 | 0 | 3 | 1 | 118 | 14 | 13 | 40 | 271219 | ⋯ | 0 | 1 | 1 | 1 | 0 | 8 |  98 | 170 | 34 |   0 |\n",
       "|  8 |  0 | 0 | 4 | 2 | 231 | 35 | 14 | 39 | 271219 | ⋯ | 0 | 1 | 2 | 1 | 0 | 2 | 100 | 170 | 35 |   0 |\n",
       "| 35 |  0 | 0 | 6 | 3 | 179 | 45 | 14 | 53 | 271219 | ⋯ | 0 | 1 | 1 | 0 | 0 | 1 |  77 | 175 | 25 |   0 |\n",
       "\n"
      ],
      "text/plain": [
       "    ID Reason.for.absence Month.of.absence Day.of.the.week Seasons\n",
       "1   11 26                 7                3               1      \n",
       "2   36  0                 7                3               1      \n",
       "3    3 23                 7                4               1      \n",
       "4    7  7                 7                5               1      \n",
       "5   11 23                 7                5               1      \n",
       "6    3 23                 7                6               1      \n",
       "7   10 22                 7                6               1      \n",
       "8   20 23                 7                6               1      \n",
       "9   14 19                 7                2               1      \n",
       "10   1 22                 7                2               1      \n",
       "11  20  1                 7                2               1      \n",
       "12  20  1                 7                3               1      \n",
       "13  20 11                 7                4               1      \n",
       "14   3 11                 7                4               1      \n",
       "15   3 23                 7                4               1      \n",
       "16  24 14                 7                6               1      \n",
       "17   3 23                 7                6               1      \n",
       "18   3 21                 7                2               1      \n",
       "19   6 11                 7                5               1      \n",
       "20  33 23                 8                4               1      \n",
       "21  18 10                 8                4               1      \n",
       "22   3 11                 8                2               1      \n",
       "23  10 13                 8                2               1      \n",
       "24  20 28                 8                6               1      \n",
       "25  11 18                 8                2               1      \n",
       "26  10 25                 8                2               1      \n",
       "27  11 23                 8                3               1      \n",
       "28  30 28                 8                4               1      \n",
       "29  11 18                 8                4               1      \n",
       "30   3 23                 8                6               1      \n",
       "⋮   ⋮  ⋮                  ⋮                ⋮               ⋮      \n",
       "711 23 22                 6                5               3      \n",
       "712 36 19                 6                5               3      \n",
       "713 12 19                 6                6               3      \n",
       "714 22 27                 6                6               3      \n",
       "715  2  0                 6                2               3      \n",
       "716 21  0                 6                2               3      \n",
       "717 36 19                 6                5               3      \n",
       "718 22 13                 6                5               3      \n",
       "719 15 28                 6                5               3      \n",
       "720 22 13                 6                2               1      \n",
       "721 34 25                 6                2               1      \n",
       "722 12 22                 6                5               1      \n",
       "723 34  8                 6                6               1      \n",
       "724 34 10                 6                4               1      \n",
       "725 12 22                 6                4               1      \n",
       "726  5 26                 7                4               1      \n",
       "727 12 19                 7                6               1      \n",
       "728  9  6                 7                2               1      \n",
       "729 34 28                 7                2               1      \n",
       "730  9  6                 7                3               1      \n",
       "731  6 22                 7                3               1      \n",
       "732 34 23                 7                4               1      \n",
       "733 10 22                 7                4               1      \n",
       "734 28 22                 7                4               1      \n",
       "735 13 13                 7                2               1      \n",
       "736 11 14                 7                3               1      \n",
       "737  1 11                 7                3               1      \n",
       "738  4  0                 0                3               1      \n",
       "739  8  0                 0                4               2      \n",
       "740 35  0                 0                6               3      \n",
       "    Transportation.expense Distance.from.Residence.to.Work Service.time Age\n",
       "1   289                    36                              13           33 \n",
       "2   118                    13                              18           50 \n",
       "3   179                    51                              18           38 \n",
       "4   279                     5                              14           39 \n",
       "5   289                    36                              13           33 \n",
       "6   179                    51                              18           38 \n",
       "7   361                    52                               3           28 \n",
       "8   260                    50                              11           36 \n",
       "9   155                    12                              14           34 \n",
       "10  235                    11                              14           37 \n",
       "11  260                    50                              11           36 \n",
       "12  260                    50                              11           36 \n",
       "13  260                    50                              11           36 \n",
       "14  179                    51                              18           38 \n",
       "15  179                    51                              18           38 \n",
       "16  246                    25                              16           41 \n",
       "17  179                    51                              18           38 \n",
       "18  179                    51                              18           38 \n",
       "19  189                    29                              13           33 \n",
       "20  248                    25                              14           47 \n",
       "21  330                    16                               4           28 \n",
       "22  179                    51                              18           38 \n",
       "23  361                    52                               3           28 \n",
       "24  260                    50                              11           36 \n",
       "25  289                    36                              13           33 \n",
       "26  361                    52                               3           28 \n",
       "27  289                    36                              13           33 \n",
       "28  157                    27                               6           29 \n",
       "29  289                    36                              13           33 \n",
       "30  179                    51                              18           38 \n",
       "⋮   ⋮                      ⋮                               ⋮            ⋮  \n",
       "711 378                    49                              11           36 \n",
       "712 118                    13                              18           50 \n",
       "713 233                    51                               1           31 \n",
       "714 179                    26                               9           30 \n",
       "715 235                    29                              12           48 \n",
       "716 268                    11                               8           33 \n",
       "717 118                    13                              18           50 \n",
       "718 179                    26                               9           30 \n",
       "719 291                    31                              12           40 \n",
       "720 179                    26                               9           30 \n",
       "721 118                    10                              10           37 \n",
       "722 233                    51                               1           31 \n",
       "723 118                    10                              10           37 \n",
       "724 118                    10                              10           37 \n",
       "725 233                    51                               1           31 \n",
       "726 235                    20                              13           43 \n",
       "727 233                    51                               1           31 \n",
       "728 228                    14                              16           58 \n",
       "729 118                    10                              10           37 \n",
       "730 228                    14                              16           58 \n",
       "731 189                    29                              13           33 \n",
       "732 118                    10                              10           37 \n",
       "733 361                    52                               3           28 \n",
       "734 225                    26                               9           28 \n",
       "735 369                    17                              12           31 \n",
       "736 289                    36                              13           33 \n",
       "737 235                    11                              14           37 \n",
       "738 118                    14                              13           40 \n",
       "739 231                    35                              14           39 \n",
       "740 179                    45                              14           53 \n",
       "    Work.load.Average.day ⋯ Disciplinary.failure Education Son Social.drinker\n",
       "1   239554                ⋯ 0                    1         2   1             \n",
       "2   239554                ⋯ 1                    1         1   1             \n",
       "3   239554                ⋯ 0                    1         0   1             \n",
       "4   239554                ⋯ 0                    1         2   1             \n",
       "5   239554                ⋯ 0                    1         2   1             \n",
       "6   239554                ⋯ 0                    1         0   1             \n",
       "7   239554                ⋯ 0                    1         1   1             \n",
       "8   239554                ⋯ 0                    1         4   1             \n",
       "9   239554                ⋯ 0                    1         2   1             \n",
       "10  239554                ⋯ 0                    3         1   0             \n",
       "11  239554                ⋯ 0                    1         4   1             \n",
       "12  239554                ⋯ 0                    1         4   1             \n",
       "13  239554                ⋯ 0                    1         4   1             \n",
       "14  239554                ⋯ 0                    1         0   1             \n",
       "15  239554                ⋯ 0                    1         0   1             \n",
       "16  239554                ⋯ 0                    1         0   1             \n",
       "17  239554                ⋯ 0                    1         0   1             \n",
       "18  239554                ⋯ 0                    1         0   1             \n",
       "19  239554                ⋯ 0                    1         2   0             \n",
       "20  205917                ⋯ 0                    1         2   0             \n",
       "21  205917                ⋯ 0                    2         0   0             \n",
       "22  205917                ⋯ 0                    1         0   1             \n",
       "23  205917                ⋯ 0                    1         1   1             \n",
       "24  205917                ⋯ 0                    1         4   1             \n",
       "25  205917                ⋯ 0                    1         2   1             \n",
       "26  205917                ⋯ 0                    1         1   1             \n",
       "27  205917                ⋯ 0                    1         2   1             \n",
       "28  205917                ⋯ 0                    1         0   1             \n",
       "29  205917                ⋯ 0                    1         2   1             \n",
       "30  205917                ⋯ 0                    1         0   1             \n",
       "⋮   ⋮                     ⋱ ⋮                    ⋮         ⋮   ⋮             \n",
       "711 275089                ⋯ 0                    1         2   0             \n",
       "712 275089                ⋯ 0                    1         1   1             \n",
       "713 275089                ⋯ 0                    2         1   1             \n",
       "714 275089                ⋯ 0                    3         0   0             \n",
       "715 275089                ⋯ 1                    1         1   0             \n",
       "716 275089                ⋯ 1                    2         0   0             \n",
       "717 275089                ⋯ 0                    1         1   1             \n",
       "718 275089                ⋯ 0                    3         0   0             \n",
       "719 275089                ⋯ 0                    1         1   1             \n",
       "720 275089                ⋯ 0                    3         0   0             \n",
       "721 275089                ⋯ 0                    1         0   0             \n",
       "722 275089                ⋯ 0                    2         1   1             \n",
       "723 275089                ⋯ 0                    1         0   0             \n",
       "724 275089                ⋯ 0                    1         0   0             \n",
       "725 275089                ⋯ 0                    2         1   1             \n",
       "726 264604                ⋯ 0                    1         1   1             \n",
       "727 264604                ⋯ 0                    2         1   1             \n",
       "728 264604                ⋯ 0                    1         2   0             \n",
       "729 264604                ⋯ 0                    1         0   0             \n",
       "730 264604                ⋯ 0                    1         2   0             \n",
       "731 264604                ⋯ 0                    1         2   0             \n",
       "732 264604                ⋯ 0                    1         0   0             \n",
       "733 264604                ⋯ 0                    1         1   1             \n",
       "734 264604                ⋯ 0                    1         1   0             \n",
       "735 264604                ⋯ 0                    1         3   1             \n",
       "736 264604                ⋯ 0                    1         2   1             \n",
       "737 264604                ⋯ 0                    3         1   0             \n",
       "738 271219                ⋯ 0                    1         1   1             \n",
       "739 271219                ⋯ 0                    1         2   1             \n",
       "740 271219                ⋯ 0                    1         1   0             \n",
       "    Social.smoker Pet Weight Height Body.mass.index Absenteeism.time.in.hours\n",
       "1   0             1   90     172    30               4                       \n",
       "2   0             0   98     178    31               0                       \n",
       "3   0             0   89     170    31               2                       \n",
       "4   1             0   68     168    24               4                       \n",
       "5   0             1   90     172    30               2                       \n",
       "6   0             0   89     170    31               2                       \n",
       "7   0             4   80     172    27               8                       \n",
       "8   0             0   65     168    23               4                       \n",
       "9   0             0   95     196    25              40                       \n",
       "10  0             1   88     172    29               8                       \n",
       "11  0             0   65     168    23               8                       \n",
       "12  0             0   65     168    23               8                       \n",
       "13  0             0   65     168    23               8                       \n",
       "14  0             0   89     170    31               1                       \n",
       "15  0             0   89     170    31               4                       \n",
       "16  0             0   67     170    23               8                       \n",
       "17  0             0   89     170    31               2                       \n",
       "18  0             0   89     170    31               8                       \n",
       "19  0             2   69     167    25               8                       \n",
       "20  0             1   86     165    32               2                       \n",
       "21  0             0   84     182    25               8                       \n",
       "22  0             0   89     170    31               1                       \n",
       "23  0             4   80     172    27              40                       \n",
       "24  0             0   65     168    23               4                       \n",
       "25  0             1   90     172    30               8                       \n",
       "26  0             4   80     172    27               7                       \n",
       "27  0             1   90     172    30               1                       \n",
       "28  1             0   75     185    22               4                       \n",
       "29  0             1   90     172    30               8                       \n",
       "30  0             0   89     170    31               2                       \n",
       "⋮   ⋮             ⋮   ⋮      ⋮      ⋮               ⋮                        \n",
       "711 1             4    65    174    21                8                      \n",
       "712 0             0    98    178    31               24                      \n",
       "713 0             8    68    178    21                8                      \n",
       "714 0             0    56    171    19                2                      \n",
       "715 1             5    88    163    33                0                      \n",
       "716 0             0    79    178    25                0                      \n",
       "717 0             0    98    178    31                3                      \n",
       "718 0             0    56    171    19                2                      \n",
       "719 0             1    73    171    25                2                      \n",
       "720 0             0    56    171    19                3                      \n",
       "721 0             0    83    172    28                3                      \n",
       "722 0             8    68    178    21                8                      \n",
       "723 0             0    83    172    28                2                      \n",
       "724 0             0    83    172    28                3                      \n",
       "725 0             8    68    178    21                3                      \n",
       "726 0             0   106    167    38                4                      \n",
       "727 0             8    68    178    21                2                      \n",
       "728 0             1    65    172    22                8                      \n",
       "729 0             0    83    172    28                4                      \n",
       "730 0             1    65    172    22              120                      \n",
       "731 0             2    69    167    25               16                      \n",
       "732 0             0    83    172    28                2                      \n",
       "733 0             4    80    172    27                8                      \n",
       "734 0             2    69    169    24                8                      \n",
       "735 0             0    70    169    25               80                      \n",
       "736 0             1    90    172    30                8                      \n",
       "737 0             1    88    172    29                4                      \n",
       "738 0             8    98    170    34                0                      \n",
       "739 0             2   100    170    35                0                      \n",
       "740 0             1    77    175    25                0                      "
      ]
     },
     "metadata": {},
     "output_type": "display_data"
    }
   ],
   "source": [
    "data <- read_csv2(url(\"https://raw.githubusercontent.com/tim13246879/dsci-100-2022w1-group-87/main/Absenteeism_at_work.csv\"))\n",
    "colnames(data) <- make.names(colnames(data))\n",
    "data"
   ]
  },
  {
   "cell_type": "markdown",
   "id": "6578e757-cdc7-410a-833b-1e5263f241c8",
   "metadata": {},
   "source": [
    "Table 1: Original absenteeism dataset. "
   ]
  },
  {
   "cell_type": "markdown",
   "id": "eafe7de3-83b2-403c-b531-07852dd4145d",
   "metadata": {},
   "source": [
    "## Preliminary Data Analysis "
   ]
  },
  {
   "cell_type": "markdown",
   "id": "c6391572-9c00-4339-ac10-c8ad7f882b5b",
   "metadata": {},
   "source": [
    "# Wrangling data"
   ]
  },
  {
   "cell_type": "markdown",
   "id": "64a73612-4b7e-4522-8203-c9b33e7921dd",
   "metadata": {},
   "source": [
    "We started to wrangle the data by removing all 0s in the \"reasons for absence\" column of our original dataset, as these cases might affect the data analysis process. Then, we counted how frequent were the reasons for absence. Because there were 10 reasons for absence (23, 28, 27, 13, 19, 22, 26, 25, 11, and 10) that were more frequent as indicated in top_10_reasons, we decided to filter out these 10 reasons. We converted the \"reason for absence\" into factors, because it was a categorical variable we wanted to predict. "
   ]
  },
  {
   "cell_type": "code",
   "execution_count": 3,
   "id": "35df446b-35a6-48e2-9aff-56f6a32eccd8",
   "metadata": {},
   "outputs": [
    {
     "data": {
      "text/html": [
       "<table class=\"dataframe\">\n",
       "<caption>A tibble: 10 × 2</caption>\n",
       "<thead>\n",
       "\t<tr><th scope=col>Reason.for.absence</th><th scope=col>n</th></tr>\n",
       "\t<tr><th scope=col>&lt;dbl&gt;</th><th scope=col>&lt;int&gt;</th></tr>\n",
       "</thead>\n",
       "<tbody>\n",
       "\t<tr><td>23</td><td>149</td></tr>\n",
       "\t<tr><td>28</td><td>112</td></tr>\n",
       "\t<tr><td>27</td><td> 69</td></tr>\n",
       "\t<tr><td>13</td><td> 55</td></tr>\n",
       "\t<tr><td>19</td><td> 40</td></tr>\n",
       "\t<tr><td>22</td><td> 38</td></tr>\n",
       "\t<tr><td>26</td><td> 33</td></tr>\n",
       "\t<tr><td>25</td><td> 31</td></tr>\n",
       "\t<tr><td>11</td><td> 26</td></tr>\n",
       "\t<tr><td>10</td><td> 25</td></tr>\n",
       "</tbody>\n",
       "</table>\n"
      ],
      "text/latex": [
       "A tibble: 10 × 2\n",
       "\\begin{tabular}{ll}\n",
       " Reason.for.absence & n\\\\\n",
       " <dbl> & <int>\\\\\n",
       "\\hline\n",
       "\t 23 & 149\\\\\n",
       "\t 28 & 112\\\\\n",
       "\t 27 &  69\\\\\n",
       "\t 13 &  55\\\\\n",
       "\t 19 &  40\\\\\n",
       "\t 22 &  38\\\\\n",
       "\t 26 &  33\\\\\n",
       "\t 25 &  31\\\\\n",
       "\t 11 &  26\\\\\n",
       "\t 10 &  25\\\\\n",
       "\\end{tabular}\n"
      ],
      "text/markdown": [
       "\n",
       "A tibble: 10 × 2\n",
       "\n",
       "| Reason.for.absence &lt;dbl&gt; | n &lt;int&gt; |\n",
       "|---|---|\n",
       "| 23 | 149 |\n",
       "| 28 | 112 |\n",
       "| 27 |  69 |\n",
       "| 13 |  55 |\n",
       "| 19 |  40 |\n",
       "| 22 |  38 |\n",
       "| 26 |  33 |\n",
       "| 25 |  31 |\n",
       "| 11 |  26 |\n",
       "| 10 |  25 |\n",
       "\n"
      ],
      "text/plain": [
       "   Reason.for.absence n  \n",
       "1  23                 149\n",
       "2  28                 112\n",
       "3  27                  69\n",
       "4  13                  55\n",
       "5  19                  40\n",
       "6  22                  38\n",
       "7  26                  33\n",
       "8  25                  31\n",
       "9  11                  26\n",
       "10 10                  25"
      ]
     },
     "metadata": {},
     "output_type": "display_data"
    }
   ],
   "source": [
    "top_10_reasons <- data |>\n",
    "    group_by(Reason.for.absence)|>\n",
    "    summarize(n=n()) |>\n",
    "    filter(Reason.for.absence != \"0\") |>\n",
    "    arrange(desc(n)) |>\n",
    "    slice(1:10)\n",
    "top_10_reasons"
   ]
  },
  {
   "cell_type": "markdown",
   "id": "78f7b44d-0296-419c-8461-2d5cd2546d7f",
   "metadata": {},
   "source": [
    "Table 2: Frequency of the top 10 reasons for absence "
   ]
  },
  {
   "cell_type": "code",
   "execution_count": 4,
   "id": "a2cf4981-01df-411d-999e-830d659151b5",
   "metadata": {},
   "outputs": [
    {
     "data": {
      "text/html": [
       "<table class=\"dataframe\">\n",
       "<caption>A tibble: 578 × 21</caption>\n",
       "<thead>\n",
       "\t<tr><th scope=col>ID</th><th scope=col>Reason.for.absence</th><th scope=col>Month.of.absence</th><th scope=col>Day.of.the.week</th><th scope=col>Seasons</th><th scope=col>Transportation.expense</th><th scope=col>Distance.from.Residence.to.Work</th><th scope=col>Service.time</th><th scope=col>Age</th><th scope=col>Work.load.Average.day</th><th scope=col>⋯</th><th scope=col>Disciplinary.failure</th><th scope=col>Education</th><th scope=col>Son</th><th scope=col>Social.drinker</th><th scope=col>Social.smoker</th><th scope=col>Pet</th><th scope=col>Weight</th><th scope=col>Height</th><th scope=col>Body.mass.index</th><th scope=col>Absenteeism.time.in.hours</th></tr>\n",
       "\t<tr><th scope=col>&lt;dbl&gt;</th><th scope=col>&lt;fct&gt;</th><th scope=col>&lt;dbl&gt;</th><th scope=col>&lt;dbl&gt;</th><th scope=col>&lt;dbl&gt;</th><th scope=col>&lt;dbl&gt;</th><th scope=col>&lt;dbl&gt;</th><th scope=col>&lt;dbl&gt;</th><th scope=col>&lt;dbl&gt;</th><th scope=col>&lt;dbl&gt;</th><th scope=col>⋯</th><th scope=col>&lt;dbl&gt;</th><th scope=col>&lt;dbl&gt;</th><th scope=col>&lt;dbl&gt;</th><th scope=col>&lt;dbl&gt;</th><th scope=col>&lt;dbl&gt;</th><th scope=col>&lt;dbl&gt;</th><th scope=col>&lt;dbl&gt;</th><th scope=col>&lt;dbl&gt;</th><th scope=col>&lt;dbl&gt;</th><th scope=col>&lt;dbl&gt;</th></tr>\n",
       "</thead>\n",
       "<tbody>\n",
       "\t<tr><td>11</td><td>26</td><td>7</td><td>3</td><td>1</td><td>289</td><td>36</td><td>13</td><td>33</td><td>239554</td><td>⋯</td><td>0</td><td>1</td><td>2</td><td>1</td><td>0</td><td>1</td><td>90</td><td>172</td><td>30</td><td> 4</td></tr>\n",
       "\t<tr><td> 3</td><td>23</td><td>7</td><td>4</td><td>1</td><td>179</td><td>51</td><td>18</td><td>38</td><td>239554</td><td>⋯</td><td>0</td><td>1</td><td>0</td><td>1</td><td>0</td><td>0</td><td>89</td><td>170</td><td>31</td><td> 2</td></tr>\n",
       "\t<tr><td>11</td><td>23</td><td>7</td><td>5</td><td>1</td><td>289</td><td>36</td><td>13</td><td>33</td><td>239554</td><td>⋯</td><td>0</td><td>1</td><td>2</td><td>1</td><td>0</td><td>1</td><td>90</td><td>172</td><td>30</td><td> 2</td></tr>\n",
       "\t<tr><td> 3</td><td>23</td><td>7</td><td>6</td><td>1</td><td>179</td><td>51</td><td>18</td><td>38</td><td>239554</td><td>⋯</td><td>0</td><td>1</td><td>0</td><td>1</td><td>0</td><td>0</td><td>89</td><td>170</td><td>31</td><td> 2</td></tr>\n",
       "\t<tr><td>10</td><td>22</td><td>7</td><td>6</td><td>1</td><td>361</td><td>52</td><td> 3</td><td>28</td><td>239554</td><td>⋯</td><td>0</td><td>1</td><td>1</td><td>1</td><td>0</td><td>4</td><td>80</td><td>172</td><td>27</td><td> 8</td></tr>\n",
       "\t<tr><td>20</td><td>23</td><td>7</td><td>6</td><td>1</td><td>260</td><td>50</td><td>11</td><td>36</td><td>239554</td><td>⋯</td><td>0</td><td>1</td><td>4</td><td>1</td><td>0</td><td>0</td><td>65</td><td>168</td><td>23</td><td> 4</td></tr>\n",
       "\t<tr><td>14</td><td>19</td><td>7</td><td>2</td><td>1</td><td>155</td><td>12</td><td>14</td><td>34</td><td>239554</td><td>⋯</td><td>0</td><td>1</td><td>2</td><td>1</td><td>0</td><td>0</td><td>95</td><td>196</td><td>25</td><td>40</td></tr>\n",
       "\t<tr><td> 1</td><td>22</td><td>7</td><td>2</td><td>1</td><td>235</td><td>11</td><td>14</td><td>37</td><td>239554</td><td>⋯</td><td>0</td><td>3</td><td>1</td><td>0</td><td>0</td><td>1</td><td>88</td><td>172</td><td>29</td><td> 8</td></tr>\n",
       "\t<tr><td>20</td><td>11</td><td>7</td><td>4</td><td>1</td><td>260</td><td>50</td><td>11</td><td>36</td><td>239554</td><td>⋯</td><td>0</td><td>1</td><td>4</td><td>1</td><td>0</td><td>0</td><td>65</td><td>168</td><td>23</td><td> 8</td></tr>\n",
       "\t<tr><td> 3</td><td>11</td><td>7</td><td>4</td><td>1</td><td>179</td><td>51</td><td>18</td><td>38</td><td>239554</td><td>⋯</td><td>0</td><td>1</td><td>0</td><td>1</td><td>0</td><td>0</td><td>89</td><td>170</td><td>31</td><td> 1</td></tr>\n",
       "\t<tr><td> 3</td><td>23</td><td>7</td><td>4</td><td>1</td><td>179</td><td>51</td><td>18</td><td>38</td><td>239554</td><td>⋯</td><td>0</td><td>1</td><td>0</td><td>1</td><td>0</td><td>0</td><td>89</td><td>170</td><td>31</td><td> 4</td></tr>\n",
       "\t<tr><td> 3</td><td>23</td><td>7</td><td>6</td><td>1</td><td>179</td><td>51</td><td>18</td><td>38</td><td>239554</td><td>⋯</td><td>0</td><td>1</td><td>0</td><td>1</td><td>0</td><td>0</td><td>89</td><td>170</td><td>31</td><td> 2</td></tr>\n",
       "\t<tr><td> 6</td><td>11</td><td>7</td><td>5</td><td>1</td><td>189</td><td>29</td><td>13</td><td>33</td><td>239554</td><td>⋯</td><td>0</td><td>1</td><td>2</td><td>0</td><td>0</td><td>2</td><td>69</td><td>167</td><td>25</td><td> 8</td></tr>\n",
       "\t<tr><td>33</td><td>23</td><td>8</td><td>4</td><td>1</td><td>248</td><td>25</td><td>14</td><td>47</td><td>205917</td><td>⋯</td><td>0</td><td>1</td><td>2</td><td>0</td><td>0</td><td>1</td><td>86</td><td>165</td><td>32</td><td> 2</td></tr>\n",
       "\t<tr><td>18</td><td>10</td><td>8</td><td>4</td><td>1</td><td>330</td><td>16</td><td> 4</td><td>28</td><td>205917</td><td>⋯</td><td>0</td><td>2</td><td>0</td><td>0</td><td>0</td><td>0</td><td>84</td><td>182</td><td>25</td><td> 8</td></tr>\n",
       "\t<tr><td> 3</td><td>11</td><td>8</td><td>2</td><td>1</td><td>179</td><td>51</td><td>18</td><td>38</td><td>205917</td><td>⋯</td><td>0</td><td>1</td><td>0</td><td>1</td><td>0</td><td>0</td><td>89</td><td>170</td><td>31</td><td> 1</td></tr>\n",
       "\t<tr><td>10</td><td>13</td><td>8</td><td>2</td><td>1</td><td>361</td><td>52</td><td> 3</td><td>28</td><td>205917</td><td>⋯</td><td>0</td><td>1</td><td>1</td><td>1</td><td>0</td><td>4</td><td>80</td><td>172</td><td>27</td><td>40</td></tr>\n",
       "\t<tr><td>20</td><td>28</td><td>8</td><td>6</td><td>1</td><td>260</td><td>50</td><td>11</td><td>36</td><td>205917</td><td>⋯</td><td>0</td><td>1</td><td>4</td><td>1</td><td>0</td><td>0</td><td>65</td><td>168</td><td>23</td><td> 4</td></tr>\n",
       "\t<tr><td>10</td><td>25</td><td>8</td><td>2</td><td>1</td><td>361</td><td>52</td><td> 3</td><td>28</td><td>205917</td><td>⋯</td><td>0</td><td>1</td><td>1</td><td>1</td><td>0</td><td>4</td><td>80</td><td>172</td><td>27</td><td> 7</td></tr>\n",
       "\t<tr><td>11</td><td>23</td><td>8</td><td>3</td><td>1</td><td>289</td><td>36</td><td>13</td><td>33</td><td>205917</td><td>⋯</td><td>0</td><td>1</td><td>2</td><td>1</td><td>0</td><td>1</td><td>90</td><td>172</td><td>30</td><td> 1</td></tr>\n",
       "\t<tr><td>30</td><td>28</td><td>8</td><td>4</td><td>1</td><td>157</td><td>27</td><td> 6</td><td>29</td><td>205917</td><td>⋯</td><td>0</td><td>1</td><td>0</td><td>1</td><td>1</td><td>0</td><td>75</td><td>185</td><td>22</td><td> 4</td></tr>\n",
       "\t<tr><td> 3</td><td>23</td><td>8</td><td>6</td><td>1</td><td>179</td><td>51</td><td>18</td><td>38</td><td>205917</td><td>⋯</td><td>0</td><td>1</td><td>0</td><td>1</td><td>0</td><td>0</td><td>89</td><td>170</td><td>31</td><td> 2</td></tr>\n",
       "\t<tr><td> 1</td><td>23</td><td>8</td><td>5</td><td>1</td><td>235</td><td>11</td><td>14</td><td>37</td><td>205917</td><td>⋯</td><td>0</td><td>3</td><td>1</td><td>0</td><td>0</td><td>1</td><td>88</td><td>172</td><td>29</td><td> 4</td></tr>\n",
       "\t<tr><td> 3</td><td>23</td><td>8</td><td>2</td><td>1</td><td>179</td><td>51</td><td>18</td><td>38</td><td>205917</td><td>⋯</td><td>0</td><td>1</td><td>0</td><td>1</td><td>0</td><td>0</td><td>89</td><td>170</td><td>31</td><td> 2</td></tr>\n",
       "\t<tr><td>10</td><td>23</td><td>8</td><td>2</td><td>1</td><td>361</td><td>52</td><td> 3</td><td>28</td><td>205917</td><td>⋯</td><td>0</td><td>1</td><td>1</td><td>1</td><td>0</td><td>4</td><td>80</td><td>172</td><td>27</td><td> 1</td></tr>\n",
       "\t<tr><td>19</td><td>11</td><td>8</td><td>5</td><td>1</td><td>291</td><td>50</td><td>12</td><td>32</td><td>205917</td><td>⋯</td><td>0</td><td>1</td><td>0</td><td>1</td><td>0</td><td>0</td><td>65</td><td>169</td><td>23</td><td> 4</td></tr>\n",
       "\t<tr><td> 2</td><td>28</td><td>8</td><td>6</td><td>1</td><td>235</td><td>29</td><td>12</td><td>48</td><td>205917</td><td>⋯</td><td>0</td><td>1</td><td>1</td><td>0</td><td>1</td><td>5</td><td>88</td><td>163</td><td>33</td><td> 8</td></tr>\n",
       "\t<tr><td>20</td><td>23</td><td>8</td><td>6</td><td>1</td><td>260</td><td>50</td><td>11</td><td>36</td><td>205917</td><td>⋯</td><td>0</td><td>1</td><td>4</td><td>1</td><td>0</td><td>0</td><td>65</td><td>168</td><td>23</td><td> 4</td></tr>\n",
       "\t<tr><td>27</td><td>23</td><td>9</td><td>3</td><td>1</td><td>184</td><td>42</td><td> 7</td><td>27</td><td>241476</td><td>⋯</td><td>0</td><td>1</td><td>0</td><td>0</td><td>0</td><td>0</td><td>58</td><td>167</td><td>21</td><td> 2</td></tr>\n",
       "\t<tr><td>34</td><td>23</td><td>9</td><td>2</td><td>1</td><td>118</td><td>10</td><td>10</td><td>37</td><td>241476</td><td>⋯</td><td>0</td><td>1</td><td>0</td><td>0</td><td>0</td><td>0</td><td>83</td><td>172</td><td>28</td><td> 4</td></tr>\n",
       "\t<tr><td>⋮</td><td>⋮</td><td>⋮</td><td>⋮</td><td>⋮</td><td>⋮</td><td>⋮</td><td>⋮</td><td>⋮</td><td>⋮</td><td>⋱</td><td>⋮</td><td>⋮</td><td>⋮</td><td>⋮</td><td>⋮</td><td>⋮</td><td>⋮</td><td>⋮</td><td>⋮</td><td>⋮</td></tr>\n",
       "\t<tr><td>15</td><td>28</td><td>5</td><td>5</td><td>3</td><td>291</td><td>31</td><td>12</td><td>40</td><td>237656</td><td>⋯</td><td>0</td><td>1</td><td>1</td><td>1</td><td>0</td><td>1</td><td> 73</td><td>171</td><td>25</td><td> 2</td></tr>\n",
       "\t<tr><td>22</td><td>27</td><td>5</td><td>6</td><td>3</td><td>179</td><td>26</td><td> 9</td><td>30</td><td>237656</td><td>⋯</td><td>0</td><td>3</td><td>0</td><td>0</td><td>0</td><td>0</td><td> 56</td><td>171</td><td>19</td><td> 2</td></tr>\n",
       "\t<tr><td>14</td><td>23</td><td>5</td><td>4</td><td>3</td><td>155</td><td>12</td><td>14</td><td>34</td><td>237656</td><td>⋯</td><td>0</td><td>1</td><td>2</td><td>1</td><td>0</td><td>0</td><td> 95</td><td>196</td><td>25</td><td> 2</td></tr>\n",
       "\t<tr><td>17</td><td>25</td><td>5</td><td>6</td><td>3</td><td>179</td><td>22</td><td>17</td><td>40</td><td>237656</td><td>⋯</td><td>0</td><td>2</td><td>2</td><td>0</td><td>1</td><td>0</td><td> 63</td><td>170</td><td>22</td><td> 8</td></tr>\n",
       "\t<tr><td>14</td><td>10</td><td>5</td><td>6</td><td>3</td><td>155</td><td>12</td><td>14</td><td>34</td><td>237656</td><td>⋯</td><td>0</td><td>1</td><td>2</td><td>1</td><td>0</td><td>0</td><td> 95</td><td>196</td><td>25</td><td> 8</td></tr>\n",
       "\t<tr><td>28</td><td>11</td><td>5</td><td>2</td><td>3</td><td>225</td><td>26</td><td> 9</td><td>28</td><td>237656</td><td>⋯</td><td>0</td><td>1</td><td>1</td><td>0</td><td>0</td><td>2</td><td> 69</td><td>169</td><td>24</td><td> 1</td></tr>\n",
       "\t<tr><td>22</td><td>27</td><td>6</td><td>4</td><td>3</td><td>179</td><td>26</td><td> 9</td><td>30</td><td>275089</td><td>⋯</td><td>0</td><td>3</td><td>0</td><td>0</td><td>0</td><td>0</td><td> 56</td><td>171</td><td>19</td><td> 3</td></tr>\n",
       "\t<tr><td>34</td><td>26</td><td>6</td><td>6</td><td>3</td><td>118</td><td>10</td><td>10</td><td>37</td><td>275089</td><td>⋯</td><td>0</td><td>1</td><td>0</td><td>0</td><td>0</td><td>0</td><td> 83</td><td>172</td><td>28</td><td> 8</td></tr>\n",
       "\t<tr><td>34</td><td>10</td><td>6</td><td>4</td><td>3</td><td>118</td><td>10</td><td>10</td><td>37</td><td>275089</td><td>⋯</td><td>0</td><td>1</td><td>0</td><td>0</td><td>0</td><td>0</td><td> 83</td><td>172</td><td>28</td><td> 8</td></tr>\n",
       "\t<tr><td>23</td><td>22</td><td>6</td><td>5</td><td>3</td><td>378</td><td>49</td><td>11</td><td>36</td><td>275089</td><td>⋯</td><td>0</td><td>1</td><td>2</td><td>0</td><td>1</td><td>4</td><td> 65</td><td>174</td><td>21</td><td> 8</td></tr>\n",
       "\t<tr><td>36</td><td>19</td><td>6</td><td>5</td><td>3</td><td>118</td><td>13</td><td>18</td><td>50</td><td>275089</td><td>⋯</td><td>0</td><td>1</td><td>1</td><td>1</td><td>0</td><td>0</td><td> 98</td><td>178</td><td>31</td><td>24</td></tr>\n",
       "\t<tr><td>12</td><td>19</td><td>6</td><td>6</td><td>3</td><td>233</td><td>51</td><td> 1</td><td>31</td><td>275089</td><td>⋯</td><td>0</td><td>2</td><td>1</td><td>1</td><td>0</td><td>8</td><td> 68</td><td>178</td><td>21</td><td> 8</td></tr>\n",
       "\t<tr><td>22</td><td>27</td><td>6</td><td>6</td><td>3</td><td>179</td><td>26</td><td> 9</td><td>30</td><td>275089</td><td>⋯</td><td>0</td><td>3</td><td>0</td><td>0</td><td>0</td><td>0</td><td> 56</td><td>171</td><td>19</td><td> 2</td></tr>\n",
       "\t<tr><td>36</td><td>19</td><td>6</td><td>5</td><td>3</td><td>118</td><td>13</td><td>18</td><td>50</td><td>275089</td><td>⋯</td><td>0</td><td>1</td><td>1</td><td>1</td><td>0</td><td>0</td><td> 98</td><td>178</td><td>31</td><td> 3</td></tr>\n",
       "\t<tr><td>22</td><td>13</td><td>6</td><td>5</td><td>3</td><td>179</td><td>26</td><td> 9</td><td>30</td><td>275089</td><td>⋯</td><td>0</td><td>3</td><td>0</td><td>0</td><td>0</td><td>0</td><td> 56</td><td>171</td><td>19</td><td> 2</td></tr>\n",
       "\t<tr><td>15</td><td>28</td><td>6</td><td>5</td><td>3</td><td>291</td><td>31</td><td>12</td><td>40</td><td>275089</td><td>⋯</td><td>0</td><td>1</td><td>1</td><td>1</td><td>0</td><td>1</td><td> 73</td><td>171</td><td>25</td><td> 2</td></tr>\n",
       "\t<tr><td>22</td><td>13</td><td>6</td><td>2</td><td>1</td><td>179</td><td>26</td><td> 9</td><td>30</td><td>275089</td><td>⋯</td><td>0</td><td>3</td><td>0</td><td>0</td><td>0</td><td>0</td><td> 56</td><td>171</td><td>19</td><td> 3</td></tr>\n",
       "\t<tr><td>34</td><td>25</td><td>6</td><td>2</td><td>1</td><td>118</td><td>10</td><td>10</td><td>37</td><td>275089</td><td>⋯</td><td>0</td><td>1</td><td>0</td><td>0</td><td>0</td><td>0</td><td> 83</td><td>172</td><td>28</td><td> 3</td></tr>\n",
       "\t<tr><td>12</td><td>22</td><td>6</td><td>5</td><td>1</td><td>233</td><td>51</td><td> 1</td><td>31</td><td>275089</td><td>⋯</td><td>0</td><td>2</td><td>1</td><td>1</td><td>0</td><td>8</td><td> 68</td><td>178</td><td>21</td><td> 8</td></tr>\n",
       "\t<tr><td>34</td><td>10</td><td>6</td><td>4</td><td>1</td><td>118</td><td>10</td><td>10</td><td>37</td><td>275089</td><td>⋯</td><td>0</td><td>1</td><td>0</td><td>0</td><td>0</td><td>0</td><td> 83</td><td>172</td><td>28</td><td> 3</td></tr>\n",
       "\t<tr><td>12</td><td>22</td><td>6</td><td>4</td><td>1</td><td>233</td><td>51</td><td> 1</td><td>31</td><td>275089</td><td>⋯</td><td>0</td><td>2</td><td>1</td><td>1</td><td>0</td><td>8</td><td> 68</td><td>178</td><td>21</td><td> 3</td></tr>\n",
       "\t<tr><td> 5</td><td>26</td><td>7</td><td>4</td><td>1</td><td>235</td><td>20</td><td>13</td><td>43</td><td>264604</td><td>⋯</td><td>0</td><td>1</td><td>1</td><td>1</td><td>0</td><td>0</td><td>106</td><td>167</td><td>38</td><td> 4</td></tr>\n",
       "\t<tr><td>12</td><td>19</td><td>7</td><td>6</td><td>1</td><td>233</td><td>51</td><td> 1</td><td>31</td><td>264604</td><td>⋯</td><td>0</td><td>2</td><td>1</td><td>1</td><td>0</td><td>8</td><td> 68</td><td>178</td><td>21</td><td> 2</td></tr>\n",
       "\t<tr><td>34</td><td>28</td><td>7</td><td>2</td><td>1</td><td>118</td><td>10</td><td>10</td><td>37</td><td>264604</td><td>⋯</td><td>0</td><td>1</td><td>0</td><td>0</td><td>0</td><td>0</td><td> 83</td><td>172</td><td>28</td><td> 4</td></tr>\n",
       "\t<tr><td> 6</td><td>22</td><td>7</td><td>3</td><td>1</td><td>189</td><td>29</td><td>13</td><td>33</td><td>264604</td><td>⋯</td><td>0</td><td>1</td><td>2</td><td>0</td><td>0</td><td>2</td><td> 69</td><td>167</td><td>25</td><td>16</td></tr>\n",
       "\t<tr><td>34</td><td>23</td><td>7</td><td>4</td><td>1</td><td>118</td><td>10</td><td>10</td><td>37</td><td>264604</td><td>⋯</td><td>0</td><td>1</td><td>0</td><td>0</td><td>0</td><td>0</td><td> 83</td><td>172</td><td>28</td><td> 2</td></tr>\n",
       "\t<tr><td>10</td><td>22</td><td>7</td><td>4</td><td>1</td><td>361</td><td>52</td><td> 3</td><td>28</td><td>264604</td><td>⋯</td><td>0</td><td>1</td><td>1</td><td>1</td><td>0</td><td>4</td><td> 80</td><td>172</td><td>27</td><td> 8</td></tr>\n",
       "\t<tr><td>28</td><td>22</td><td>7</td><td>4</td><td>1</td><td>225</td><td>26</td><td> 9</td><td>28</td><td>264604</td><td>⋯</td><td>0</td><td>1</td><td>1</td><td>0</td><td>0</td><td>2</td><td> 69</td><td>169</td><td>24</td><td> 8</td></tr>\n",
       "\t<tr><td>13</td><td>13</td><td>7</td><td>2</td><td>1</td><td>369</td><td>17</td><td>12</td><td>31</td><td>264604</td><td>⋯</td><td>0</td><td>1</td><td>3</td><td>1</td><td>0</td><td>0</td><td> 70</td><td>169</td><td>25</td><td>80</td></tr>\n",
       "\t<tr><td> 1</td><td>11</td><td>7</td><td>3</td><td>1</td><td>235</td><td>11</td><td>14</td><td>37</td><td>264604</td><td>⋯</td><td>0</td><td>3</td><td>1</td><td>0</td><td>0</td><td>1</td><td> 88</td><td>172</td><td>29</td><td> 4</td></tr>\n",
       "</tbody>\n",
       "</table>\n"
      ],
      "text/latex": [
       "A tibble: 578 × 21\n",
       "\\begin{tabular}{lllllllllllllllllllll}\n",
       " ID & Reason.for.absence & Month.of.absence & Day.of.the.week & Seasons & Transportation.expense & Distance.from.Residence.to.Work & Service.time & Age & Work.load.Average.day & ⋯ & Disciplinary.failure & Education & Son & Social.drinker & Social.smoker & Pet & Weight & Height & Body.mass.index & Absenteeism.time.in.hours\\\\\n",
       " <dbl> & <fct> & <dbl> & <dbl> & <dbl> & <dbl> & <dbl> & <dbl> & <dbl> & <dbl> & ⋯ & <dbl> & <dbl> & <dbl> & <dbl> & <dbl> & <dbl> & <dbl> & <dbl> & <dbl> & <dbl>\\\\\n",
       "\\hline\n",
       "\t 11 & 26 & 7 & 3 & 1 & 289 & 36 & 13 & 33 & 239554 & ⋯ & 0 & 1 & 2 & 1 & 0 & 1 & 90 & 172 & 30 &  4\\\\\n",
       "\t  3 & 23 & 7 & 4 & 1 & 179 & 51 & 18 & 38 & 239554 & ⋯ & 0 & 1 & 0 & 1 & 0 & 0 & 89 & 170 & 31 &  2\\\\\n",
       "\t 11 & 23 & 7 & 5 & 1 & 289 & 36 & 13 & 33 & 239554 & ⋯ & 0 & 1 & 2 & 1 & 0 & 1 & 90 & 172 & 30 &  2\\\\\n",
       "\t  3 & 23 & 7 & 6 & 1 & 179 & 51 & 18 & 38 & 239554 & ⋯ & 0 & 1 & 0 & 1 & 0 & 0 & 89 & 170 & 31 &  2\\\\\n",
       "\t 10 & 22 & 7 & 6 & 1 & 361 & 52 &  3 & 28 & 239554 & ⋯ & 0 & 1 & 1 & 1 & 0 & 4 & 80 & 172 & 27 &  8\\\\\n",
       "\t 20 & 23 & 7 & 6 & 1 & 260 & 50 & 11 & 36 & 239554 & ⋯ & 0 & 1 & 4 & 1 & 0 & 0 & 65 & 168 & 23 &  4\\\\\n",
       "\t 14 & 19 & 7 & 2 & 1 & 155 & 12 & 14 & 34 & 239554 & ⋯ & 0 & 1 & 2 & 1 & 0 & 0 & 95 & 196 & 25 & 40\\\\\n",
       "\t  1 & 22 & 7 & 2 & 1 & 235 & 11 & 14 & 37 & 239554 & ⋯ & 0 & 3 & 1 & 0 & 0 & 1 & 88 & 172 & 29 &  8\\\\\n",
       "\t 20 & 11 & 7 & 4 & 1 & 260 & 50 & 11 & 36 & 239554 & ⋯ & 0 & 1 & 4 & 1 & 0 & 0 & 65 & 168 & 23 &  8\\\\\n",
       "\t  3 & 11 & 7 & 4 & 1 & 179 & 51 & 18 & 38 & 239554 & ⋯ & 0 & 1 & 0 & 1 & 0 & 0 & 89 & 170 & 31 &  1\\\\\n",
       "\t  3 & 23 & 7 & 4 & 1 & 179 & 51 & 18 & 38 & 239554 & ⋯ & 0 & 1 & 0 & 1 & 0 & 0 & 89 & 170 & 31 &  4\\\\\n",
       "\t  3 & 23 & 7 & 6 & 1 & 179 & 51 & 18 & 38 & 239554 & ⋯ & 0 & 1 & 0 & 1 & 0 & 0 & 89 & 170 & 31 &  2\\\\\n",
       "\t  6 & 11 & 7 & 5 & 1 & 189 & 29 & 13 & 33 & 239554 & ⋯ & 0 & 1 & 2 & 0 & 0 & 2 & 69 & 167 & 25 &  8\\\\\n",
       "\t 33 & 23 & 8 & 4 & 1 & 248 & 25 & 14 & 47 & 205917 & ⋯ & 0 & 1 & 2 & 0 & 0 & 1 & 86 & 165 & 32 &  2\\\\\n",
       "\t 18 & 10 & 8 & 4 & 1 & 330 & 16 &  4 & 28 & 205917 & ⋯ & 0 & 2 & 0 & 0 & 0 & 0 & 84 & 182 & 25 &  8\\\\\n",
       "\t  3 & 11 & 8 & 2 & 1 & 179 & 51 & 18 & 38 & 205917 & ⋯ & 0 & 1 & 0 & 1 & 0 & 0 & 89 & 170 & 31 &  1\\\\\n",
       "\t 10 & 13 & 8 & 2 & 1 & 361 & 52 &  3 & 28 & 205917 & ⋯ & 0 & 1 & 1 & 1 & 0 & 4 & 80 & 172 & 27 & 40\\\\\n",
       "\t 20 & 28 & 8 & 6 & 1 & 260 & 50 & 11 & 36 & 205917 & ⋯ & 0 & 1 & 4 & 1 & 0 & 0 & 65 & 168 & 23 &  4\\\\\n",
       "\t 10 & 25 & 8 & 2 & 1 & 361 & 52 &  3 & 28 & 205917 & ⋯ & 0 & 1 & 1 & 1 & 0 & 4 & 80 & 172 & 27 &  7\\\\\n",
       "\t 11 & 23 & 8 & 3 & 1 & 289 & 36 & 13 & 33 & 205917 & ⋯ & 0 & 1 & 2 & 1 & 0 & 1 & 90 & 172 & 30 &  1\\\\\n",
       "\t 30 & 28 & 8 & 4 & 1 & 157 & 27 &  6 & 29 & 205917 & ⋯ & 0 & 1 & 0 & 1 & 1 & 0 & 75 & 185 & 22 &  4\\\\\n",
       "\t  3 & 23 & 8 & 6 & 1 & 179 & 51 & 18 & 38 & 205917 & ⋯ & 0 & 1 & 0 & 1 & 0 & 0 & 89 & 170 & 31 &  2\\\\\n",
       "\t  1 & 23 & 8 & 5 & 1 & 235 & 11 & 14 & 37 & 205917 & ⋯ & 0 & 3 & 1 & 0 & 0 & 1 & 88 & 172 & 29 &  4\\\\\n",
       "\t  3 & 23 & 8 & 2 & 1 & 179 & 51 & 18 & 38 & 205917 & ⋯ & 0 & 1 & 0 & 1 & 0 & 0 & 89 & 170 & 31 &  2\\\\\n",
       "\t 10 & 23 & 8 & 2 & 1 & 361 & 52 &  3 & 28 & 205917 & ⋯ & 0 & 1 & 1 & 1 & 0 & 4 & 80 & 172 & 27 &  1\\\\\n",
       "\t 19 & 11 & 8 & 5 & 1 & 291 & 50 & 12 & 32 & 205917 & ⋯ & 0 & 1 & 0 & 1 & 0 & 0 & 65 & 169 & 23 &  4\\\\\n",
       "\t  2 & 28 & 8 & 6 & 1 & 235 & 29 & 12 & 48 & 205917 & ⋯ & 0 & 1 & 1 & 0 & 1 & 5 & 88 & 163 & 33 &  8\\\\\n",
       "\t 20 & 23 & 8 & 6 & 1 & 260 & 50 & 11 & 36 & 205917 & ⋯ & 0 & 1 & 4 & 1 & 0 & 0 & 65 & 168 & 23 &  4\\\\\n",
       "\t 27 & 23 & 9 & 3 & 1 & 184 & 42 &  7 & 27 & 241476 & ⋯ & 0 & 1 & 0 & 0 & 0 & 0 & 58 & 167 & 21 &  2\\\\\n",
       "\t 34 & 23 & 9 & 2 & 1 & 118 & 10 & 10 & 37 & 241476 & ⋯ & 0 & 1 & 0 & 0 & 0 & 0 & 83 & 172 & 28 &  4\\\\\n",
       "\t ⋮ & ⋮ & ⋮ & ⋮ & ⋮ & ⋮ & ⋮ & ⋮ & ⋮ & ⋮ & ⋱ & ⋮ & ⋮ & ⋮ & ⋮ & ⋮ & ⋮ & ⋮ & ⋮ & ⋮ & ⋮\\\\\n",
       "\t 15 & 28 & 5 & 5 & 3 & 291 & 31 & 12 & 40 & 237656 & ⋯ & 0 & 1 & 1 & 1 & 0 & 1 &  73 & 171 & 25 &  2\\\\\n",
       "\t 22 & 27 & 5 & 6 & 3 & 179 & 26 &  9 & 30 & 237656 & ⋯ & 0 & 3 & 0 & 0 & 0 & 0 &  56 & 171 & 19 &  2\\\\\n",
       "\t 14 & 23 & 5 & 4 & 3 & 155 & 12 & 14 & 34 & 237656 & ⋯ & 0 & 1 & 2 & 1 & 0 & 0 &  95 & 196 & 25 &  2\\\\\n",
       "\t 17 & 25 & 5 & 6 & 3 & 179 & 22 & 17 & 40 & 237656 & ⋯ & 0 & 2 & 2 & 0 & 1 & 0 &  63 & 170 & 22 &  8\\\\\n",
       "\t 14 & 10 & 5 & 6 & 3 & 155 & 12 & 14 & 34 & 237656 & ⋯ & 0 & 1 & 2 & 1 & 0 & 0 &  95 & 196 & 25 &  8\\\\\n",
       "\t 28 & 11 & 5 & 2 & 3 & 225 & 26 &  9 & 28 & 237656 & ⋯ & 0 & 1 & 1 & 0 & 0 & 2 &  69 & 169 & 24 &  1\\\\\n",
       "\t 22 & 27 & 6 & 4 & 3 & 179 & 26 &  9 & 30 & 275089 & ⋯ & 0 & 3 & 0 & 0 & 0 & 0 &  56 & 171 & 19 &  3\\\\\n",
       "\t 34 & 26 & 6 & 6 & 3 & 118 & 10 & 10 & 37 & 275089 & ⋯ & 0 & 1 & 0 & 0 & 0 & 0 &  83 & 172 & 28 &  8\\\\\n",
       "\t 34 & 10 & 6 & 4 & 3 & 118 & 10 & 10 & 37 & 275089 & ⋯ & 0 & 1 & 0 & 0 & 0 & 0 &  83 & 172 & 28 &  8\\\\\n",
       "\t 23 & 22 & 6 & 5 & 3 & 378 & 49 & 11 & 36 & 275089 & ⋯ & 0 & 1 & 2 & 0 & 1 & 4 &  65 & 174 & 21 &  8\\\\\n",
       "\t 36 & 19 & 6 & 5 & 3 & 118 & 13 & 18 & 50 & 275089 & ⋯ & 0 & 1 & 1 & 1 & 0 & 0 &  98 & 178 & 31 & 24\\\\\n",
       "\t 12 & 19 & 6 & 6 & 3 & 233 & 51 &  1 & 31 & 275089 & ⋯ & 0 & 2 & 1 & 1 & 0 & 8 &  68 & 178 & 21 &  8\\\\\n",
       "\t 22 & 27 & 6 & 6 & 3 & 179 & 26 &  9 & 30 & 275089 & ⋯ & 0 & 3 & 0 & 0 & 0 & 0 &  56 & 171 & 19 &  2\\\\\n",
       "\t 36 & 19 & 6 & 5 & 3 & 118 & 13 & 18 & 50 & 275089 & ⋯ & 0 & 1 & 1 & 1 & 0 & 0 &  98 & 178 & 31 &  3\\\\\n",
       "\t 22 & 13 & 6 & 5 & 3 & 179 & 26 &  9 & 30 & 275089 & ⋯ & 0 & 3 & 0 & 0 & 0 & 0 &  56 & 171 & 19 &  2\\\\\n",
       "\t 15 & 28 & 6 & 5 & 3 & 291 & 31 & 12 & 40 & 275089 & ⋯ & 0 & 1 & 1 & 1 & 0 & 1 &  73 & 171 & 25 &  2\\\\\n",
       "\t 22 & 13 & 6 & 2 & 1 & 179 & 26 &  9 & 30 & 275089 & ⋯ & 0 & 3 & 0 & 0 & 0 & 0 &  56 & 171 & 19 &  3\\\\\n",
       "\t 34 & 25 & 6 & 2 & 1 & 118 & 10 & 10 & 37 & 275089 & ⋯ & 0 & 1 & 0 & 0 & 0 & 0 &  83 & 172 & 28 &  3\\\\\n",
       "\t 12 & 22 & 6 & 5 & 1 & 233 & 51 &  1 & 31 & 275089 & ⋯ & 0 & 2 & 1 & 1 & 0 & 8 &  68 & 178 & 21 &  8\\\\\n",
       "\t 34 & 10 & 6 & 4 & 1 & 118 & 10 & 10 & 37 & 275089 & ⋯ & 0 & 1 & 0 & 0 & 0 & 0 &  83 & 172 & 28 &  3\\\\\n",
       "\t 12 & 22 & 6 & 4 & 1 & 233 & 51 &  1 & 31 & 275089 & ⋯ & 0 & 2 & 1 & 1 & 0 & 8 &  68 & 178 & 21 &  3\\\\\n",
       "\t  5 & 26 & 7 & 4 & 1 & 235 & 20 & 13 & 43 & 264604 & ⋯ & 0 & 1 & 1 & 1 & 0 & 0 & 106 & 167 & 38 &  4\\\\\n",
       "\t 12 & 19 & 7 & 6 & 1 & 233 & 51 &  1 & 31 & 264604 & ⋯ & 0 & 2 & 1 & 1 & 0 & 8 &  68 & 178 & 21 &  2\\\\\n",
       "\t 34 & 28 & 7 & 2 & 1 & 118 & 10 & 10 & 37 & 264604 & ⋯ & 0 & 1 & 0 & 0 & 0 & 0 &  83 & 172 & 28 &  4\\\\\n",
       "\t  6 & 22 & 7 & 3 & 1 & 189 & 29 & 13 & 33 & 264604 & ⋯ & 0 & 1 & 2 & 0 & 0 & 2 &  69 & 167 & 25 & 16\\\\\n",
       "\t 34 & 23 & 7 & 4 & 1 & 118 & 10 & 10 & 37 & 264604 & ⋯ & 0 & 1 & 0 & 0 & 0 & 0 &  83 & 172 & 28 &  2\\\\\n",
       "\t 10 & 22 & 7 & 4 & 1 & 361 & 52 &  3 & 28 & 264604 & ⋯ & 0 & 1 & 1 & 1 & 0 & 4 &  80 & 172 & 27 &  8\\\\\n",
       "\t 28 & 22 & 7 & 4 & 1 & 225 & 26 &  9 & 28 & 264604 & ⋯ & 0 & 1 & 1 & 0 & 0 & 2 &  69 & 169 & 24 &  8\\\\\n",
       "\t 13 & 13 & 7 & 2 & 1 & 369 & 17 & 12 & 31 & 264604 & ⋯ & 0 & 1 & 3 & 1 & 0 & 0 &  70 & 169 & 25 & 80\\\\\n",
       "\t  1 & 11 & 7 & 3 & 1 & 235 & 11 & 14 & 37 & 264604 & ⋯ & 0 & 3 & 1 & 0 & 0 & 1 &  88 & 172 & 29 &  4\\\\\n",
       "\\end{tabular}\n"
      ],
      "text/markdown": [
       "\n",
       "A tibble: 578 × 21\n",
       "\n",
       "| ID &lt;dbl&gt; | Reason.for.absence &lt;fct&gt; | Month.of.absence &lt;dbl&gt; | Day.of.the.week &lt;dbl&gt; | Seasons &lt;dbl&gt; | Transportation.expense &lt;dbl&gt; | Distance.from.Residence.to.Work &lt;dbl&gt; | Service.time &lt;dbl&gt; | Age &lt;dbl&gt; | Work.load.Average.day &lt;dbl&gt; | ⋯ ⋯ | Disciplinary.failure &lt;dbl&gt; | Education &lt;dbl&gt; | Son &lt;dbl&gt; | Social.drinker &lt;dbl&gt; | Social.smoker &lt;dbl&gt; | Pet &lt;dbl&gt; | Weight &lt;dbl&gt; | Height &lt;dbl&gt; | Body.mass.index &lt;dbl&gt; | Absenteeism.time.in.hours &lt;dbl&gt; |\n",
       "|---|---|---|---|---|---|---|---|---|---|---|---|---|---|---|---|---|---|---|---|---|\n",
       "| 11 | 26 | 7 | 3 | 1 | 289 | 36 | 13 | 33 | 239554 | ⋯ | 0 | 1 | 2 | 1 | 0 | 1 | 90 | 172 | 30 |  4 |\n",
       "|  3 | 23 | 7 | 4 | 1 | 179 | 51 | 18 | 38 | 239554 | ⋯ | 0 | 1 | 0 | 1 | 0 | 0 | 89 | 170 | 31 |  2 |\n",
       "| 11 | 23 | 7 | 5 | 1 | 289 | 36 | 13 | 33 | 239554 | ⋯ | 0 | 1 | 2 | 1 | 0 | 1 | 90 | 172 | 30 |  2 |\n",
       "|  3 | 23 | 7 | 6 | 1 | 179 | 51 | 18 | 38 | 239554 | ⋯ | 0 | 1 | 0 | 1 | 0 | 0 | 89 | 170 | 31 |  2 |\n",
       "| 10 | 22 | 7 | 6 | 1 | 361 | 52 |  3 | 28 | 239554 | ⋯ | 0 | 1 | 1 | 1 | 0 | 4 | 80 | 172 | 27 |  8 |\n",
       "| 20 | 23 | 7 | 6 | 1 | 260 | 50 | 11 | 36 | 239554 | ⋯ | 0 | 1 | 4 | 1 | 0 | 0 | 65 | 168 | 23 |  4 |\n",
       "| 14 | 19 | 7 | 2 | 1 | 155 | 12 | 14 | 34 | 239554 | ⋯ | 0 | 1 | 2 | 1 | 0 | 0 | 95 | 196 | 25 | 40 |\n",
       "|  1 | 22 | 7 | 2 | 1 | 235 | 11 | 14 | 37 | 239554 | ⋯ | 0 | 3 | 1 | 0 | 0 | 1 | 88 | 172 | 29 |  8 |\n",
       "| 20 | 11 | 7 | 4 | 1 | 260 | 50 | 11 | 36 | 239554 | ⋯ | 0 | 1 | 4 | 1 | 0 | 0 | 65 | 168 | 23 |  8 |\n",
       "|  3 | 11 | 7 | 4 | 1 | 179 | 51 | 18 | 38 | 239554 | ⋯ | 0 | 1 | 0 | 1 | 0 | 0 | 89 | 170 | 31 |  1 |\n",
       "|  3 | 23 | 7 | 4 | 1 | 179 | 51 | 18 | 38 | 239554 | ⋯ | 0 | 1 | 0 | 1 | 0 | 0 | 89 | 170 | 31 |  4 |\n",
       "|  3 | 23 | 7 | 6 | 1 | 179 | 51 | 18 | 38 | 239554 | ⋯ | 0 | 1 | 0 | 1 | 0 | 0 | 89 | 170 | 31 |  2 |\n",
       "|  6 | 11 | 7 | 5 | 1 | 189 | 29 | 13 | 33 | 239554 | ⋯ | 0 | 1 | 2 | 0 | 0 | 2 | 69 | 167 | 25 |  8 |\n",
       "| 33 | 23 | 8 | 4 | 1 | 248 | 25 | 14 | 47 | 205917 | ⋯ | 0 | 1 | 2 | 0 | 0 | 1 | 86 | 165 | 32 |  2 |\n",
       "| 18 | 10 | 8 | 4 | 1 | 330 | 16 |  4 | 28 | 205917 | ⋯ | 0 | 2 | 0 | 0 | 0 | 0 | 84 | 182 | 25 |  8 |\n",
       "|  3 | 11 | 8 | 2 | 1 | 179 | 51 | 18 | 38 | 205917 | ⋯ | 0 | 1 | 0 | 1 | 0 | 0 | 89 | 170 | 31 |  1 |\n",
       "| 10 | 13 | 8 | 2 | 1 | 361 | 52 |  3 | 28 | 205917 | ⋯ | 0 | 1 | 1 | 1 | 0 | 4 | 80 | 172 | 27 | 40 |\n",
       "| 20 | 28 | 8 | 6 | 1 | 260 | 50 | 11 | 36 | 205917 | ⋯ | 0 | 1 | 4 | 1 | 0 | 0 | 65 | 168 | 23 |  4 |\n",
       "| 10 | 25 | 8 | 2 | 1 | 361 | 52 |  3 | 28 | 205917 | ⋯ | 0 | 1 | 1 | 1 | 0 | 4 | 80 | 172 | 27 |  7 |\n",
       "| 11 | 23 | 8 | 3 | 1 | 289 | 36 | 13 | 33 | 205917 | ⋯ | 0 | 1 | 2 | 1 | 0 | 1 | 90 | 172 | 30 |  1 |\n",
       "| 30 | 28 | 8 | 4 | 1 | 157 | 27 |  6 | 29 | 205917 | ⋯ | 0 | 1 | 0 | 1 | 1 | 0 | 75 | 185 | 22 |  4 |\n",
       "|  3 | 23 | 8 | 6 | 1 | 179 | 51 | 18 | 38 | 205917 | ⋯ | 0 | 1 | 0 | 1 | 0 | 0 | 89 | 170 | 31 |  2 |\n",
       "|  1 | 23 | 8 | 5 | 1 | 235 | 11 | 14 | 37 | 205917 | ⋯ | 0 | 3 | 1 | 0 | 0 | 1 | 88 | 172 | 29 |  4 |\n",
       "|  3 | 23 | 8 | 2 | 1 | 179 | 51 | 18 | 38 | 205917 | ⋯ | 0 | 1 | 0 | 1 | 0 | 0 | 89 | 170 | 31 |  2 |\n",
       "| 10 | 23 | 8 | 2 | 1 | 361 | 52 |  3 | 28 | 205917 | ⋯ | 0 | 1 | 1 | 1 | 0 | 4 | 80 | 172 | 27 |  1 |\n",
       "| 19 | 11 | 8 | 5 | 1 | 291 | 50 | 12 | 32 | 205917 | ⋯ | 0 | 1 | 0 | 1 | 0 | 0 | 65 | 169 | 23 |  4 |\n",
       "|  2 | 28 | 8 | 6 | 1 | 235 | 29 | 12 | 48 | 205917 | ⋯ | 0 | 1 | 1 | 0 | 1 | 5 | 88 | 163 | 33 |  8 |\n",
       "| 20 | 23 | 8 | 6 | 1 | 260 | 50 | 11 | 36 | 205917 | ⋯ | 0 | 1 | 4 | 1 | 0 | 0 | 65 | 168 | 23 |  4 |\n",
       "| 27 | 23 | 9 | 3 | 1 | 184 | 42 |  7 | 27 | 241476 | ⋯ | 0 | 1 | 0 | 0 | 0 | 0 | 58 | 167 | 21 |  2 |\n",
       "| 34 | 23 | 9 | 2 | 1 | 118 | 10 | 10 | 37 | 241476 | ⋯ | 0 | 1 | 0 | 0 | 0 | 0 | 83 | 172 | 28 |  4 |\n",
       "| ⋮ | ⋮ | ⋮ | ⋮ | ⋮ | ⋮ | ⋮ | ⋮ | ⋮ | ⋮ | ⋱ | ⋮ | ⋮ | ⋮ | ⋮ | ⋮ | ⋮ | ⋮ | ⋮ | ⋮ | ⋮ |\n",
       "| 15 | 28 | 5 | 5 | 3 | 291 | 31 | 12 | 40 | 237656 | ⋯ | 0 | 1 | 1 | 1 | 0 | 1 |  73 | 171 | 25 |  2 |\n",
       "| 22 | 27 | 5 | 6 | 3 | 179 | 26 |  9 | 30 | 237656 | ⋯ | 0 | 3 | 0 | 0 | 0 | 0 |  56 | 171 | 19 |  2 |\n",
       "| 14 | 23 | 5 | 4 | 3 | 155 | 12 | 14 | 34 | 237656 | ⋯ | 0 | 1 | 2 | 1 | 0 | 0 |  95 | 196 | 25 |  2 |\n",
       "| 17 | 25 | 5 | 6 | 3 | 179 | 22 | 17 | 40 | 237656 | ⋯ | 0 | 2 | 2 | 0 | 1 | 0 |  63 | 170 | 22 |  8 |\n",
       "| 14 | 10 | 5 | 6 | 3 | 155 | 12 | 14 | 34 | 237656 | ⋯ | 0 | 1 | 2 | 1 | 0 | 0 |  95 | 196 | 25 |  8 |\n",
       "| 28 | 11 | 5 | 2 | 3 | 225 | 26 |  9 | 28 | 237656 | ⋯ | 0 | 1 | 1 | 0 | 0 | 2 |  69 | 169 | 24 |  1 |\n",
       "| 22 | 27 | 6 | 4 | 3 | 179 | 26 |  9 | 30 | 275089 | ⋯ | 0 | 3 | 0 | 0 | 0 | 0 |  56 | 171 | 19 |  3 |\n",
       "| 34 | 26 | 6 | 6 | 3 | 118 | 10 | 10 | 37 | 275089 | ⋯ | 0 | 1 | 0 | 0 | 0 | 0 |  83 | 172 | 28 |  8 |\n",
       "| 34 | 10 | 6 | 4 | 3 | 118 | 10 | 10 | 37 | 275089 | ⋯ | 0 | 1 | 0 | 0 | 0 | 0 |  83 | 172 | 28 |  8 |\n",
       "| 23 | 22 | 6 | 5 | 3 | 378 | 49 | 11 | 36 | 275089 | ⋯ | 0 | 1 | 2 | 0 | 1 | 4 |  65 | 174 | 21 |  8 |\n",
       "| 36 | 19 | 6 | 5 | 3 | 118 | 13 | 18 | 50 | 275089 | ⋯ | 0 | 1 | 1 | 1 | 0 | 0 |  98 | 178 | 31 | 24 |\n",
       "| 12 | 19 | 6 | 6 | 3 | 233 | 51 |  1 | 31 | 275089 | ⋯ | 0 | 2 | 1 | 1 | 0 | 8 |  68 | 178 | 21 |  8 |\n",
       "| 22 | 27 | 6 | 6 | 3 | 179 | 26 |  9 | 30 | 275089 | ⋯ | 0 | 3 | 0 | 0 | 0 | 0 |  56 | 171 | 19 |  2 |\n",
       "| 36 | 19 | 6 | 5 | 3 | 118 | 13 | 18 | 50 | 275089 | ⋯ | 0 | 1 | 1 | 1 | 0 | 0 |  98 | 178 | 31 |  3 |\n",
       "| 22 | 13 | 6 | 5 | 3 | 179 | 26 |  9 | 30 | 275089 | ⋯ | 0 | 3 | 0 | 0 | 0 | 0 |  56 | 171 | 19 |  2 |\n",
       "| 15 | 28 | 6 | 5 | 3 | 291 | 31 | 12 | 40 | 275089 | ⋯ | 0 | 1 | 1 | 1 | 0 | 1 |  73 | 171 | 25 |  2 |\n",
       "| 22 | 13 | 6 | 2 | 1 | 179 | 26 |  9 | 30 | 275089 | ⋯ | 0 | 3 | 0 | 0 | 0 | 0 |  56 | 171 | 19 |  3 |\n",
       "| 34 | 25 | 6 | 2 | 1 | 118 | 10 | 10 | 37 | 275089 | ⋯ | 0 | 1 | 0 | 0 | 0 | 0 |  83 | 172 | 28 |  3 |\n",
       "| 12 | 22 | 6 | 5 | 1 | 233 | 51 |  1 | 31 | 275089 | ⋯ | 0 | 2 | 1 | 1 | 0 | 8 |  68 | 178 | 21 |  8 |\n",
       "| 34 | 10 | 6 | 4 | 1 | 118 | 10 | 10 | 37 | 275089 | ⋯ | 0 | 1 | 0 | 0 | 0 | 0 |  83 | 172 | 28 |  3 |\n",
       "| 12 | 22 | 6 | 4 | 1 | 233 | 51 |  1 | 31 | 275089 | ⋯ | 0 | 2 | 1 | 1 | 0 | 8 |  68 | 178 | 21 |  3 |\n",
       "|  5 | 26 | 7 | 4 | 1 | 235 | 20 | 13 | 43 | 264604 | ⋯ | 0 | 1 | 1 | 1 | 0 | 0 | 106 | 167 | 38 |  4 |\n",
       "| 12 | 19 | 7 | 6 | 1 | 233 | 51 |  1 | 31 | 264604 | ⋯ | 0 | 2 | 1 | 1 | 0 | 8 |  68 | 178 | 21 |  2 |\n",
       "| 34 | 28 | 7 | 2 | 1 | 118 | 10 | 10 | 37 | 264604 | ⋯ | 0 | 1 | 0 | 0 | 0 | 0 |  83 | 172 | 28 |  4 |\n",
       "|  6 | 22 | 7 | 3 | 1 | 189 | 29 | 13 | 33 | 264604 | ⋯ | 0 | 1 | 2 | 0 | 0 | 2 |  69 | 167 | 25 | 16 |\n",
       "| 34 | 23 | 7 | 4 | 1 | 118 | 10 | 10 | 37 | 264604 | ⋯ | 0 | 1 | 0 | 0 | 0 | 0 |  83 | 172 | 28 |  2 |\n",
       "| 10 | 22 | 7 | 4 | 1 | 361 | 52 |  3 | 28 | 264604 | ⋯ | 0 | 1 | 1 | 1 | 0 | 4 |  80 | 172 | 27 |  8 |\n",
       "| 28 | 22 | 7 | 4 | 1 | 225 | 26 |  9 | 28 | 264604 | ⋯ | 0 | 1 | 1 | 0 | 0 | 2 |  69 | 169 | 24 |  8 |\n",
       "| 13 | 13 | 7 | 2 | 1 | 369 | 17 | 12 | 31 | 264604 | ⋯ | 0 | 1 | 3 | 1 | 0 | 0 |  70 | 169 | 25 | 80 |\n",
       "|  1 | 11 | 7 | 3 | 1 | 235 | 11 | 14 | 37 | 264604 | ⋯ | 0 | 3 | 1 | 0 | 0 | 1 |  88 | 172 | 29 |  4 |\n",
       "\n"
      ],
      "text/plain": [
       "    ID Reason.for.absence Month.of.absence Day.of.the.week Seasons\n",
       "1   11 26                 7                3               1      \n",
       "2    3 23                 7                4               1      \n",
       "3   11 23                 7                5               1      \n",
       "4    3 23                 7                6               1      \n",
       "5   10 22                 7                6               1      \n",
       "6   20 23                 7                6               1      \n",
       "7   14 19                 7                2               1      \n",
       "8    1 22                 7                2               1      \n",
       "9   20 11                 7                4               1      \n",
       "10   3 11                 7                4               1      \n",
       "11   3 23                 7                4               1      \n",
       "12   3 23                 7                6               1      \n",
       "13   6 11                 7                5               1      \n",
       "14  33 23                 8                4               1      \n",
       "15  18 10                 8                4               1      \n",
       "16   3 11                 8                2               1      \n",
       "17  10 13                 8                2               1      \n",
       "18  20 28                 8                6               1      \n",
       "19  10 25                 8                2               1      \n",
       "20  11 23                 8                3               1      \n",
       "21  30 28                 8                4               1      \n",
       "22   3 23                 8                6               1      \n",
       "23   1 23                 8                5               1      \n",
       "24   3 23                 8                2               1      \n",
       "25  10 23                 8                2               1      \n",
       "26  19 11                 8                5               1      \n",
       "27   2 28                 8                6               1      \n",
       "28  20 23                 8                6               1      \n",
       "29  27 23                 9                3               1      \n",
       "30  34 23                 9                2               1      \n",
       "⋮   ⋮  ⋮                  ⋮                ⋮               ⋮      \n",
       "549 15 28                 5                5               3      \n",
       "550 22 27                 5                6               3      \n",
       "551 14 23                 5                4               3      \n",
       "552 17 25                 5                6               3      \n",
       "553 14 10                 5                6               3      \n",
       "554 28 11                 5                2               3      \n",
       "555 22 27                 6                4               3      \n",
       "556 34 26                 6                6               3      \n",
       "557 34 10                 6                4               3      \n",
       "558 23 22                 6                5               3      \n",
       "559 36 19                 6                5               3      \n",
       "560 12 19                 6                6               3      \n",
       "561 22 27                 6                6               3      \n",
       "562 36 19                 6                5               3      \n",
       "563 22 13                 6                5               3      \n",
       "564 15 28                 6                5               3      \n",
       "565 22 13                 6                2               1      \n",
       "566 34 25                 6                2               1      \n",
       "567 12 22                 6                5               1      \n",
       "568 34 10                 6                4               1      \n",
       "569 12 22                 6                4               1      \n",
       "570  5 26                 7                4               1      \n",
       "571 12 19                 7                6               1      \n",
       "572 34 28                 7                2               1      \n",
       "573  6 22                 7                3               1      \n",
       "574 34 23                 7                4               1      \n",
       "575 10 22                 7                4               1      \n",
       "576 28 22                 7                4               1      \n",
       "577 13 13                 7                2               1      \n",
       "578  1 11                 7                3               1      \n",
       "    Transportation.expense Distance.from.Residence.to.Work Service.time Age\n",
       "1   289                    36                              13           33 \n",
       "2   179                    51                              18           38 \n",
       "3   289                    36                              13           33 \n",
       "4   179                    51                              18           38 \n",
       "5   361                    52                               3           28 \n",
       "6   260                    50                              11           36 \n",
       "7   155                    12                              14           34 \n",
       "8   235                    11                              14           37 \n",
       "9   260                    50                              11           36 \n",
       "10  179                    51                              18           38 \n",
       "11  179                    51                              18           38 \n",
       "12  179                    51                              18           38 \n",
       "13  189                    29                              13           33 \n",
       "14  248                    25                              14           47 \n",
       "15  330                    16                               4           28 \n",
       "16  179                    51                              18           38 \n",
       "17  361                    52                               3           28 \n",
       "18  260                    50                              11           36 \n",
       "19  361                    52                               3           28 \n",
       "20  289                    36                              13           33 \n",
       "21  157                    27                               6           29 \n",
       "22  179                    51                              18           38 \n",
       "23  235                    11                              14           37 \n",
       "24  179                    51                              18           38 \n",
       "25  361                    52                               3           28 \n",
       "26  291                    50                              12           32 \n",
       "27  235                    29                              12           48 \n",
       "28  260                    50                              11           36 \n",
       "29  184                    42                               7           27 \n",
       "30  118                    10                              10           37 \n",
       "⋮   ⋮                      ⋮                               ⋮            ⋮  \n",
       "549 291                    31                              12           40 \n",
       "550 179                    26                               9           30 \n",
       "551 155                    12                              14           34 \n",
       "552 179                    22                              17           40 \n",
       "553 155                    12                              14           34 \n",
       "554 225                    26                               9           28 \n",
       "555 179                    26                               9           30 \n",
       "556 118                    10                              10           37 \n",
       "557 118                    10                              10           37 \n",
       "558 378                    49                              11           36 \n",
       "559 118                    13                              18           50 \n",
       "560 233                    51                               1           31 \n",
       "561 179                    26                               9           30 \n",
       "562 118                    13                              18           50 \n",
       "563 179                    26                               9           30 \n",
       "564 291                    31                              12           40 \n",
       "565 179                    26                               9           30 \n",
       "566 118                    10                              10           37 \n",
       "567 233                    51                               1           31 \n",
       "568 118                    10                              10           37 \n",
       "569 233                    51                               1           31 \n",
       "570 235                    20                              13           43 \n",
       "571 233                    51                               1           31 \n",
       "572 118                    10                              10           37 \n",
       "573 189                    29                              13           33 \n",
       "574 118                    10                              10           37 \n",
       "575 361                    52                               3           28 \n",
       "576 225                    26                               9           28 \n",
       "577 369                    17                              12           31 \n",
       "578 235                    11                              14           37 \n",
       "    Work.load.Average.day ⋯ Disciplinary.failure Education Son Social.drinker\n",
       "1   239554                ⋯ 0                    1         2   1             \n",
       "2   239554                ⋯ 0                    1         0   1             \n",
       "3   239554                ⋯ 0                    1         2   1             \n",
       "4   239554                ⋯ 0                    1         0   1             \n",
       "5   239554                ⋯ 0                    1         1   1             \n",
       "6   239554                ⋯ 0                    1         4   1             \n",
       "7   239554                ⋯ 0                    1         2   1             \n",
       "8   239554                ⋯ 0                    3         1   0             \n",
       "9   239554                ⋯ 0                    1         4   1             \n",
       "10  239554                ⋯ 0                    1         0   1             \n",
       "11  239554                ⋯ 0                    1         0   1             \n",
       "12  239554                ⋯ 0                    1         0   1             \n",
       "13  239554                ⋯ 0                    1         2   0             \n",
       "14  205917                ⋯ 0                    1         2   0             \n",
       "15  205917                ⋯ 0                    2         0   0             \n",
       "16  205917                ⋯ 0                    1         0   1             \n",
       "17  205917                ⋯ 0                    1         1   1             \n",
       "18  205917                ⋯ 0                    1         4   1             \n",
       "19  205917                ⋯ 0                    1         1   1             \n",
       "20  205917                ⋯ 0                    1         2   1             \n",
       "21  205917                ⋯ 0                    1         0   1             \n",
       "22  205917                ⋯ 0                    1         0   1             \n",
       "23  205917                ⋯ 0                    3         1   0             \n",
       "24  205917                ⋯ 0                    1         0   1             \n",
       "25  205917                ⋯ 0                    1         1   1             \n",
       "26  205917                ⋯ 0                    1         0   1             \n",
       "27  205917                ⋯ 0                    1         1   0             \n",
       "28  205917                ⋯ 0                    1         4   1             \n",
       "29  241476                ⋯ 0                    1         0   0             \n",
       "30  241476                ⋯ 0                    1         0   0             \n",
       "⋮   ⋮                     ⋱ ⋮                    ⋮         ⋮   ⋮             \n",
       "549 237656                ⋯ 0                    1         1   1             \n",
       "550 237656                ⋯ 0                    3         0   0             \n",
       "551 237656                ⋯ 0                    1         2   1             \n",
       "552 237656                ⋯ 0                    2         2   0             \n",
       "553 237656                ⋯ 0                    1         2   1             \n",
       "554 237656                ⋯ 0                    1         1   0             \n",
       "555 275089                ⋯ 0                    3         0   0             \n",
       "556 275089                ⋯ 0                    1         0   0             \n",
       "557 275089                ⋯ 0                    1         0   0             \n",
       "558 275089                ⋯ 0                    1         2   0             \n",
       "559 275089                ⋯ 0                    1         1   1             \n",
       "560 275089                ⋯ 0                    2         1   1             \n",
       "561 275089                ⋯ 0                    3         0   0             \n",
       "562 275089                ⋯ 0                    1         1   1             \n",
       "563 275089                ⋯ 0                    3         0   0             \n",
       "564 275089                ⋯ 0                    1         1   1             \n",
       "565 275089                ⋯ 0                    3         0   0             \n",
       "566 275089                ⋯ 0                    1         0   0             \n",
       "567 275089                ⋯ 0                    2         1   1             \n",
       "568 275089                ⋯ 0                    1         0   0             \n",
       "569 275089                ⋯ 0                    2         1   1             \n",
       "570 264604                ⋯ 0                    1         1   1             \n",
       "571 264604                ⋯ 0                    2         1   1             \n",
       "572 264604                ⋯ 0                    1         0   0             \n",
       "573 264604                ⋯ 0                    1         2   0             \n",
       "574 264604                ⋯ 0                    1         0   0             \n",
       "575 264604                ⋯ 0                    1         1   1             \n",
       "576 264604                ⋯ 0                    1         1   0             \n",
       "577 264604                ⋯ 0                    1         3   1             \n",
       "578 264604                ⋯ 0                    3         1   0             \n",
       "    Social.smoker Pet Weight Height Body.mass.index Absenteeism.time.in.hours\n",
       "1   0             1   90     172    30               4                       \n",
       "2   0             0   89     170    31               2                       \n",
       "3   0             1   90     172    30               2                       \n",
       "4   0             0   89     170    31               2                       \n",
       "5   0             4   80     172    27               8                       \n",
       "6   0             0   65     168    23               4                       \n",
       "7   0             0   95     196    25              40                       \n",
       "8   0             1   88     172    29               8                       \n",
       "9   0             0   65     168    23               8                       \n",
       "10  0             0   89     170    31               1                       \n",
       "11  0             0   89     170    31               4                       \n",
       "12  0             0   89     170    31               2                       \n",
       "13  0             2   69     167    25               8                       \n",
       "14  0             1   86     165    32               2                       \n",
       "15  0             0   84     182    25               8                       \n",
       "16  0             0   89     170    31               1                       \n",
       "17  0             4   80     172    27              40                       \n",
       "18  0             0   65     168    23               4                       \n",
       "19  0             4   80     172    27               7                       \n",
       "20  0             1   90     172    30               1                       \n",
       "21  1             0   75     185    22               4                       \n",
       "22  0             0   89     170    31               2                       \n",
       "23  0             1   88     172    29               4                       \n",
       "24  0             0   89     170    31               2                       \n",
       "25  0             4   80     172    27               1                       \n",
       "26  0             0   65     169    23               4                       \n",
       "27  1             5   88     163    33               8                       \n",
       "28  0             0   65     168    23               4                       \n",
       "29  0             0   58     167    21               2                       \n",
       "30  0             0   83     172    28               4                       \n",
       "⋮   ⋮             ⋮   ⋮      ⋮      ⋮               ⋮                        \n",
       "549 0             1    73    171    25               2                       \n",
       "550 0             0    56    171    19               2                       \n",
       "551 0             0    95    196    25               2                       \n",
       "552 1             0    63    170    22               8                       \n",
       "553 0             0    95    196    25               8                       \n",
       "554 0             2    69    169    24               1                       \n",
       "555 0             0    56    171    19               3                       \n",
       "556 0             0    83    172    28               8                       \n",
       "557 0             0    83    172    28               8                       \n",
       "558 1             4    65    174    21               8                       \n",
       "559 0             0    98    178    31              24                       \n",
       "560 0             8    68    178    21               8                       \n",
       "561 0             0    56    171    19               2                       \n",
       "562 0             0    98    178    31               3                       \n",
       "563 0             0    56    171    19               2                       \n",
       "564 0             1    73    171    25               2                       \n",
       "565 0             0    56    171    19               3                       \n",
       "566 0             0    83    172    28               3                       \n",
       "567 0             8    68    178    21               8                       \n",
       "568 0             0    83    172    28               3                       \n",
       "569 0             8    68    178    21               3                       \n",
       "570 0             0   106    167    38               4                       \n",
       "571 0             8    68    178    21               2                       \n",
       "572 0             0    83    172    28               4                       \n",
       "573 0             2    69    167    25              16                       \n",
       "574 0             0    83    172    28               2                       \n",
       "575 0             4    80    172    27               8                       \n",
       "576 0             2    69    169    24               8                       \n",
       "577 0             0    70    169    25              80                       \n",
       "578 0             1    88    172    29               4                       "
      ]
     },
     "metadata": {},
     "output_type": "display_data"
    }
   ],
   "source": [
    "data <- data |> \n",
    "    filter(Reason.for.absence %in% c(\"23\",\"28\",\"27\",\"13\",\"19\",\"22\",\"26\",\"25\",\"11\",\"10\")) |>\n",
    "    mutate(across(Reason.for.absence, as.factor))\n",
    "data"
   ]
  },
  {
   "cell_type": "markdown",
   "id": "f84d9136-7afa-4dc9-b0b0-8f6495ee4be7",
   "metadata": {},
   "source": [
    "Table 3: Filtered Absenteeism dataset \n",
    "\n",
    "This filtered dataset would be used for the rest of our data analysis. In this dataset, the reason of absence represented by 0 meaning “other reasons” were removed. Only the top 10 reasons were kept (23, 28, 27, 13, 19, 22, 26, 25, 11, and 10). The reason for absence column was mutated to factor. "
   ]
  },
  {
   "cell_type": "markdown",
   "id": "b53b299b-f807-4320-884c-af2c9516a382",
   "metadata": {},
   "source": [
    "# Visualizations to determine the potential predictors to predict reason for absence "
   ]
  },
  {
   "cell_type": "markdown",
   "id": "4a1fcd27-a66e-4d29-95a7-997570439cb4",
   "metadata": {},
   "source": [
    "To determine the potential predictor, we explored 4 variables (absenteeism time in hours, body mass index(BMI), age and distance from residence to work) by plotting bar graphs to check if there was a correlation between the reasons for absence and the different variables we were classifying. We will not use the mean in our final prediction. "
   ]
  },
  {
   "cell_type": "markdown",
   "id": "6710d423-7971-48b9-8422-da7d161c1c52",
   "metadata": {},
   "source": [
    "## Datatable and visualization for absenteeism time in hours "
   ]
  },
  {
   "cell_type": "markdown",
   "id": "46b548fc-a86c-41c8-a4b6-f4202ca53a08",
   "metadata": {},
   "source": [
    "From the filtered dataset, we were interested in how the mean absenteeism time (hrs) might relate to the top 10 reasons for absence. We took the average of absenteeism time (hrs) for each reason for absence and added a \"reason\" column in a datatable to define each reason."
   ]
  },
  {
   "cell_type": "code",
   "execution_count": 25,
   "id": "84adc0b2-d1b9-4fee-9920-df5479611d82",
   "metadata": {},
   "outputs": [
    {
     "data": {
      "text/html": [
       "<table class=\"dataframe\">\n",
       "<caption>A tibble: 10 × 6</caption>\n",
       "<thead>\n",
       "\t<tr><th scope=col>Reason.for.absence</th><th scope=col>Mean.absent.hours</th><th scope=col>Mean.BMI</th><th scope=col>Mean.age</th><th scope=col>Mean.distance.from.residence.to.work</th><th scope=col>Reason</th></tr>\n",
       "\t<tr><th scope=col>&lt;fct&gt;</th><th scope=col>&lt;dbl&gt;</th><th scope=col>&lt;dbl&gt;</th><th scope=col>&lt;dbl&gt;</th><th scope=col>&lt;dbl&gt;</th><th scope=col>&lt;chr&gt;</th></tr>\n",
       "</thead>\n",
       "<tbody>\n",
       "\t<tr><td>10</td><td>11.040000</td><td>26.20000</td><td>35.96000</td><td>24.00000</td><td>Diseases of the respiratory system                                 </td></tr>\n",
       "\t<tr><td>11</td><td>11.423077</td><td>26.42308</td><td>35.11538</td><td>29.69231</td><td>Diseases of the digestive system                                   </td></tr>\n",
       "\t<tr><td>13</td><td>15.309091</td><td>26.63636</td><td>36.49091</td><td>29.52727</td><td>Diseases of the musculoskeletal system and connective tissue       </td></tr>\n",
       "\t<tr><td>19</td><td>18.225000</td><td>26.40000</td><td>35.45000</td><td>30.42500</td><td>Injury, poisoning and certain other consequences of external causes</td></tr>\n",
       "\t<tr><td>22</td><td> 7.710526</td><td>26.18421</td><td>32.65789</td><td>36.68421</td><td>patient follow-up                                                  </td></tr>\n",
       "\t<tr><td>23</td><td> 2.845638</td><td>26.65772</td><td>35.61074</td><td>27.94631</td><td>medical consultation                                               </td></tr>\n",
       "\t<tr><td>25</td><td> 3.483871</td><td>25.09677</td><td>36.16129</td><td>22.67742</td><td>laboratory examination                                             </td></tr>\n",
       "\t<tr><td>26</td><td> 7.272727</td><td>30.18182</td><td>37.84848</td><td>25.84848</td><td>unjustified absence                                                </td></tr>\n",
       "\t<tr><td>27</td><td> 2.275362</td><td>27.46377</td><td>35.50725</td><td>36.98551</td><td>physiotherapy                                                      </td></tr>\n",
       "\t<tr><td>28</td><td> 2.991071</td><td>26.53571</td><td>37.50893</td><td>34.33929</td><td>dental consultation                                                </td></tr>\n",
       "</tbody>\n",
       "</table>\n"
      ],
      "text/latex": [
       "A tibble: 10 × 6\n",
       "\\begin{tabular}{llllll}\n",
       " Reason.for.absence & Mean.absent.hours & Mean.BMI & Mean.age & Mean.distance.from.residence.to.work & Reason\\\\\n",
       " <fct> & <dbl> & <dbl> & <dbl> & <dbl> & <chr>\\\\\n",
       "\\hline\n",
       "\t 10 & 11.040000 & 26.20000 & 35.96000 & 24.00000 & Diseases of the respiratory system                                 \\\\\n",
       "\t 11 & 11.423077 & 26.42308 & 35.11538 & 29.69231 & Diseases of the digestive system                                   \\\\\n",
       "\t 13 & 15.309091 & 26.63636 & 36.49091 & 29.52727 & Diseases of the musculoskeletal system and connective tissue       \\\\\n",
       "\t 19 & 18.225000 & 26.40000 & 35.45000 & 30.42500 & Injury, poisoning and certain other consequences of external causes\\\\\n",
       "\t 22 &  7.710526 & 26.18421 & 32.65789 & 36.68421 & patient follow-up                                                  \\\\\n",
       "\t 23 &  2.845638 & 26.65772 & 35.61074 & 27.94631 & medical consultation                                               \\\\\n",
       "\t 25 &  3.483871 & 25.09677 & 36.16129 & 22.67742 & laboratory examination                                             \\\\\n",
       "\t 26 &  7.272727 & 30.18182 & 37.84848 & 25.84848 & unjustified absence                                                \\\\\n",
       "\t 27 &  2.275362 & 27.46377 & 35.50725 & 36.98551 & physiotherapy                                                      \\\\\n",
       "\t 28 &  2.991071 & 26.53571 & 37.50893 & 34.33929 & dental consultation                                                \\\\\n",
       "\\end{tabular}\n"
      ],
      "text/markdown": [
       "\n",
       "A tibble: 10 × 6\n",
       "\n",
       "| Reason.for.absence &lt;fct&gt; | Mean.absent.hours &lt;dbl&gt; | Mean.BMI &lt;dbl&gt; | Mean.age &lt;dbl&gt; | Mean.distance.from.residence.to.work &lt;dbl&gt; | Reason &lt;chr&gt; |\n",
       "|---|---|---|---|---|---|\n",
       "| 10 | 11.040000 | 26.20000 | 35.96000 | 24.00000 | Diseases of the respiratory system                                  |\n",
       "| 11 | 11.423077 | 26.42308 | 35.11538 | 29.69231 | Diseases of the digestive system                                    |\n",
       "| 13 | 15.309091 | 26.63636 | 36.49091 | 29.52727 | Diseases of the musculoskeletal system and connective tissue        |\n",
       "| 19 | 18.225000 | 26.40000 | 35.45000 | 30.42500 | Injury, poisoning and certain other consequences of external causes |\n",
       "| 22 |  7.710526 | 26.18421 | 32.65789 | 36.68421 | patient follow-up                                                   |\n",
       "| 23 |  2.845638 | 26.65772 | 35.61074 | 27.94631 | medical consultation                                                |\n",
       "| 25 |  3.483871 | 25.09677 | 36.16129 | 22.67742 | laboratory examination                                              |\n",
       "| 26 |  7.272727 | 30.18182 | 37.84848 | 25.84848 | unjustified absence                                                 |\n",
       "| 27 |  2.275362 | 27.46377 | 35.50725 | 36.98551 | physiotherapy                                                       |\n",
       "| 28 |  2.991071 | 26.53571 | 37.50893 | 34.33929 | dental consultation                                                 |\n",
       "\n"
      ],
      "text/plain": [
       "   Reason.for.absence Mean.absent.hours Mean.BMI Mean.age\n",
       "1  10                 11.040000         26.20000 35.96000\n",
       "2  11                 11.423077         26.42308 35.11538\n",
       "3  13                 15.309091         26.63636 36.49091\n",
       "4  19                 18.225000         26.40000 35.45000\n",
       "5  22                  7.710526         26.18421 32.65789\n",
       "6  23                  2.845638         26.65772 35.61074\n",
       "7  25                  3.483871         25.09677 36.16129\n",
       "8  26                  7.272727         30.18182 37.84848\n",
       "9  27                  2.275362         27.46377 35.50725\n",
       "10 28                  2.991071         26.53571 37.50893\n",
       "   Mean.distance.from.residence.to.work\n",
       "1  24.00000                            \n",
       "2  29.69231                            \n",
       "3  29.52727                            \n",
       "4  30.42500                            \n",
       "5  36.68421                            \n",
       "6  27.94631                            \n",
       "7  22.67742                            \n",
       "8  25.84848                            \n",
       "9  36.98551                            \n",
       "10 34.33929                            \n",
       "   Reason                                                             \n",
       "1  Diseases of the respiratory system                                 \n",
       "2  Diseases of the digestive system                                   \n",
       "3  Diseases of the musculoskeletal system and connective tissue       \n",
       "4  Injury, poisoning and certain other consequences of external causes\n",
       "5  patient follow-up                                                  \n",
       "6  medical consultation                                               \n",
       "7  laboratory examination                                             \n",
       "8  unjustified absence                                                \n",
       "9  physiotherapy                                                      \n",
       "10 dental consultation                                                "
      ]
     },
     "metadata": {},
     "output_type": "display_data"
    }
   ],
   "source": [
    "data_means <- data |> \n",
    "    group_by(Reason.for.absence)|>\n",
    "    summarize(Mean.absent.hours = mean(Absenteeism.time.in.hours),\n",
    "             Mean.BMI = mean(Body.mass.index),\n",
    "             Mean.age = mean(Age),\n",
    "             Mean.distance.from.residence.to.work = mean(Distance.from.Residence.to.Work))|>\n",
    "    mutate(Reason= c(\"Diseases of the respiratory system\",\"Diseases of the digestive system\",\n",
    "                     \"Diseases of the musculoskeletal system and connective tissue\", \n",
    "                     \"Injury, poisoning and certain other consequences of external causes\",\n",
    "                     \"patient follow-up\", \"medical consultation\", \"laboratory examination\",\n",
    "                     \"unjustified absence\", \"physiotherapy\", \"dental consultation\"))\n",
    "data_means"
   ]
  },
  {
   "cell_type": "markdown",
   "id": "2ab7a362-2fe3-4b2a-98fd-d5b2ab63b5a5",
   "metadata": {},
   "source": [
    "Table 4: Means of potential predictors for top 10 absent reasons"
   ]
  },
  {
   "cell_type": "markdown",
   "id": "cb90613f-e068-41be-8039-cf38f679f79a",
   "metadata": {},
   "source": [
    "Table 4 is used below to plot bar graphs. It is presented here for reference."
   ]
  },
  {
   "cell_type": "markdown",
   "id": "febdc1ee-a8c4-40c8-887c-907c50f924b4",
   "metadata": {},
   "source": [
    " Then we plotted a bar graph to show how many hours are absent for each reason of absence. "
   ]
  },
  {
   "cell_type": "code",
   "execution_count": 56,
   "id": "24a79964-1a7e-4bd3-adce-2f6477253aa4",
   "metadata": {},
   "outputs": [
    {
     "data": {
      "image/png": "[encoded data removed]",
      "text/plain": [
       "plot without title"
      ]
     },
     "metadata": {
      "image/png": {
       "height": 900,
       "width": 720
      }
     },
     "output_type": "display_data"
    }
   ],
   "source": [
    "data_plot_time <- ggplot(data_means, aes(y = Reason, x = Mean.absent.hours)) +\n",
    "    geom_bar(stat = \"identity\", position = \"dodge\")+\n",
    "    labs(x=\"Number of Hours Absent\")+\n",
    "    theme(text = element_text(size = 15))\n",
    "\n",
    "data_plot_BMI <- ggplot(data_means, aes(y = Reason, x = Mean.BMI)) +\n",
    "    geom_bar(stat = \"identity\", position = \"dodge\")+\n",
    "    labs(x = \"Body Mass Index\")+\n",
    "    theme(text = element_text(size = 15))\n",
    "\n",
    "data_plot_age <- ggplot(data_means, aes(y = Reason, x = Mean.age)) +\n",
    "    geom_bar(stat = \"identity\", position = \"dodge\")+\n",
    "    labs(x = \"Age\")+\n",
    "    theme(text = element_text(size = 15))\n",
    "\n",
    "data_plot_distance <- ggplot(data_means, aes(y = Reason, x = Mean.distance.from.residence.to.work)) +\n",
    "    geom_bar(stat = \"identity\", position = \"dodge\") +\n",
    "    labs(x = \"Distance from residence to work\") +\n",
    "    theme(text = element_text(size = 15))\n",
    "\n",
    "options(repr.plot.width = 12, repr.plot.height = 15)\n",
    "\n",
    "plot_means <- plot_grid(data_plot_time, data_plot_BMI, data_plot_age, data_plot_distance, ncol = 1) \n",
    "plot_means"
   ]
  },
  {
   "cell_type": "markdown",
   "id": "a7d7e747-8a3c-4dee-9107-f017ea24857a",
   "metadata": {},
   "source": [
    "Figure 1: Bar graph of the top reasons for absence (y-axis) vs. each of the 4 potential predictors (x-axis)"
   ]
  },
  {
   "cell_type": "markdown",
   "id": "a8bd4f1c-7c3b-4bfc-bbeb-08d2e478a1de",
   "metadata": {},
   "source": [
    "From the bar graph (figure 1) above, we notice how the mean number of absent hours differs quite a lot for different reasons of absence. For example, “injury, poisoning and other consequences” has a mean absent hours of around 18 hours, while that of “dental consultation” is only 3 hours. This is reasonable as we would expect people who are hospitalized due to poisoning to be absent for longer times than those who are just going to the dentist. Thus, we conclude that the hours an employee is absent may be a good predictor of why they are absent.\n",
    "\n",
    "From the bar graph above, it seems that mean body mass index of employees is similar for the different reasons of absence indicated by the same length of the bars. So probably BMI is a bad predictor.\n",
    "\n",
    "From the bar graph above, there is no variation for each reason of absence throughout different ages. Specifically all employees who are age 30 are absent for these 10 reasons. So age might be a bad predictor.\n",
    "\n",
    "From the bar graph above, the distances from residence to work are different for each reason of absence. For example, Employees who live a longer distance (> 30 km away) from residence to work are absent for work due to dental consultation, physiotherapy and patient followup. Employees who live less than 30 km away can be absent for work due to other reasons. So we thought this might be a good predictor.\n",
    "\n",
    "To summarize, using figure 1-4, there is a possible correlation between the distances from residence to work or the number of hours absent, and the reason for absenteeism. Therefore, we would use the distances from residence to work and the number of hours absent as our two predictors for the remaining data analysis."
   ]
  },
  {
   "cell_type": "markdown",
   "id": "16f7389d-5509-4072-9d7f-03da0b5769d2",
   "metadata": {},
   "source": [
    "## Visualizations and data table for BMI: "
   ]
  },
  {
   "cell_type": "markdown",
   "id": "e3aa768c-5593-4d0b-9085-f1927fb69b76",
   "metadata": {},
   "source": [
    "From the filtered dataset, we were also interested in how the mean body mass index (BMI) might relate to the top 10 reasons for absence. We take the average of BMI for each reason for absence and add a \"reason\" column in a datatable. "
   ]
  },
  {
   "cell_type": "code",
   "execution_count": 7,
   "id": "5bf2488b-d133-425f-acb9-dd10abf796b5",
   "metadata": {},
   "outputs": [
    {
     "data": {
      "text/html": [
       "<table class=\"dataframe\">\n",
       "<caption>A tibble: 10 × 3</caption>\n",
       "<thead>\n",
       "\t<tr><th scope=col>Reason.for.absence</th><th scope=col>Body.mass.index</th><th scope=col>Reason</th></tr>\n",
       "\t<tr><th scope=col>&lt;fct&gt;</th><th scope=col>&lt;dbl&gt;</th><th scope=col>&lt;chr&gt;</th></tr>\n",
       "</thead>\n",
       "<tbody>\n",
       "\t<tr><td>10</td><td>26.20000</td><td>Diseases of the respiratory system                                 </td></tr>\n",
       "\t<tr><td>11</td><td>26.42308</td><td>Diseases of the digestive system                                   </td></tr>\n",
       "\t<tr><td>13</td><td>26.63636</td><td>Diseases of the musculoskeletal system and connective tissue       </td></tr>\n",
       "\t<tr><td>19</td><td>26.40000</td><td>Injury, poisoning and certain other consequences of external causes</td></tr>\n",
       "\t<tr><td>22</td><td>26.18421</td><td>patient follow-up                                                  </td></tr>\n",
       "\t<tr><td>23</td><td>26.65772</td><td>medical consultation                                               </td></tr>\n",
       "\t<tr><td>25</td><td>25.09677</td><td>laboratory examination                                             </td></tr>\n",
       "\t<tr><td>26</td><td>30.18182</td><td>unjustified absence                                                </td></tr>\n",
       "\t<tr><td>27</td><td>27.46377</td><td>physiotherapy                                                      </td></tr>\n",
       "\t<tr><td>28</td><td>26.53571</td><td>dental consultation                                                </td></tr>\n",
       "</tbody>\n",
       "</table>\n"
      ],
      "text/latex": [
       "A tibble: 10 × 3\n",
       "\\begin{tabular}{lll}\n",
       " Reason.for.absence & Body.mass.index & Reason\\\\\n",
       " <fct> & <dbl> & <chr>\\\\\n",
       "\\hline\n",
       "\t 10 & 26.20000 & Diseases of the respiratory system                                 \\\\\n",
       "\t 11 & 26.42308 & Diseases of the digestive system                                   \\\\\n",
       "\t 13 & 26.63636 & Diseases of the musculoskeletal system and connective tissue       \\\\\n",
       "\t 19 & 26.40000 & Injury, poisoning and certain other consequences of external causes\\\\\n",
       "\t 22 & 26.18421 & patient follow-up                                                  \\\\\n",
       "\t 23 & 26.65772 & medical consultation                                               \\\\\n",
       "\t 25 & 25.09677 & laboratory examination                                             \\\\\n",
       "\t 26 & 30.18182 & unjustified absence                                                \\\\\n",
       "\t 27 & 27.46377 & physiotherapy                                                      \\\\\n",
       "\t 28 & 26.53571 & dental consultation                                                \\\\\n",
       "\\end{tabular}\n"
      ],
      "text/markdown": [
       "\n",
       "A tibble: 10 × 3\n",
       "\n",
       "| Reason.for.absence &lt;fct&gt; | Body.mass.index &lt;dbl&gt; | Reason &lt;chr&gt; |\n",
       "|---|---|---|\n",
       "| 10 | 26.20000 | Diseases of the respiratory system                                  |\n",
       "| 11 | 26.42308 | Diseases of the digestive system                                    |\n",
       "| 13 | 26.63636 | Diseases of the musculoskeletal system and connective tissue        |\n",
       "| 19 | 26.40000 | Injury, poisoning and certain other consequences of external causes |\n",
       "| 22 | 26.18421 | patient follow-up                                                   |\n",
       "| 23 | 26.65772 | medical consultation                                                |\n",
       "| 25 | 25.09677 | laboratory examination                                              |\n",
       "| 26 | 30.18182 | unjustified absence                                                 |\n",
       "| 27 | 27.46377 | physiotherapy                                                       |\n",
       "| 28 | 26.53571 | dental consultation                                                 |\n",
       "\n"
      ],
      "text/plain": [
       "   Reason.for.absence Body.mass.index\n",
       "1  10                 26.20000       \n",
       "2  11                 26.42308       \n",
       "3  13                 26.63636       \n",
       "4  19                 26.40000       \n",
       "5  22                 26.18421       \n",
       "6  23                 26.65772       \n",
       "7  25                 25.09677       \n",
       "8  26                 30.18182       \n",
       "9  27                 27.46377       \n",
       "10 28                 26.53571       \n",
       "   Reason                                                             \n",
       "1  Diseases of the respiratory system                                 \n",
       "2  Diseases of the digestive system                                   \n",
       "3  Diseases of the musculoskeletal system and connective tissue       \n",
       "4  Injury, poisoning and certain other consequences of external causes\n",
       "5  patient follow-up                                                  \n",
       "6  medical consultation                                               \n",
       "7  laboratory examination                                             \n",
       "8  unjustified absence                                                \n",
       "9  physiotherapy                                                      \n",
       "10 dental consultation                                                "
      ]
     },
     "metadata": {},
     "output_type": "display_data"
    }
   ],
   "source": [
    "data_mean_BMI <- data |> \n",
    "    group_by(Reason.for.absence)|>\n",
    "    summarize(Body.mass.index = mean(Body.mass.index)) |>\n",
    "    mutate(Reason= c(\"Diseases of the respiratory system\",\"Diseases of the digestive system\",\n",
    "                     \"Diseases of the musculoskeletal system and connective tissue\", \n",
    "                     \"Injury, poisoning and certain other consequences of external causes\",\n",
    "                     \"patient follow-up\", \"medical consultation\", \"laboratory examination\",\n",
    "                     \"unjustified absence\", \"physiotherapy\", \"dental consultation\"))\n",
    "data_mean_BMI "
   ]
  },
  {
   "cell_type": "markdown",
   "id": "b58df8a6-5850-433f-a58c-c24244fd7c81",
   "metadata": {},
   "source": [
    "Table 5: Top 10 reasons for absence vs. mean of body mass index "
   ]
  },
  {
   "cell_type": "markdown",
   "id": "f09e6c9e-14e5-4ca1-8b8e-fa6e7ca4d64b",
   "metadata": {},
   "source": [
    "Then we plotted a bar graph to show how the mean BMI is different for each reason of absence. "
   ]
  },
  {
   "cell_type": "code",
   "execution_count": 8,
   "id": "615bb7f8-a0b1-4ea1-a7cb-a32c777422c2",
   "metadata": {},
   "outputs": [
    {
     "data": {
      "image/png": "[encoded data removed]",
      "text/plain": [
       "plot without title"
      ]
     },
     "metadata": {
      "image/png": {
       "height": 420,
       "width": 420
      }
     },
     "output_type": "display_data"
    }
   ],
   "source": [
    "data_plot_BMI <- ggplot(data_mean_BMI, aes(y=Reason,x=Body.mass.index)) +\n",
    "    geom_bar(stat = \"identity\", position = \"dodge\")+\n",
    "    labs(x=\"Body Mass Index\")\n",
    "data_plot_BMI"
   ]
  },
  {
   "cell_type": "markdown",
   "id": "b2692c43-4346-45ca-8eea-2399abcae65c",
   "metadata": {},
   "source": [
    "Figure 2: Bar graph of mean body mass index(x-axis) vs. reason for absenteeism(y-axis)"
   ]
  },
  {
   "cell_type": "markdown",
   "id": "21d17d76-f74c-4c27-8d79-6091c59bbb73",
   "metadata": {},
   "source": [
    "From the bar graph above, it seems that mean body mass index of employees is similar for the different reasons of absence indicated by the same length of the bars. So probably BMI is a bad predictor. "
   ]
  },
  {
   "cell_type": "markdown",
   "id": "7c5c26d9-f98a-46ae-83a7-581c50e9f06e",
   "metadata": {},
   "source": [
    "## Visualizations and data table for Age: "
   ]
  },
  {
   "cell_type": "markdown",
   "id": "8301c92a-fcf3-4863-95fd-2cd6f24fdda2",
   "metadata": {},
   "source": [
    "From the filtered dataset, we were interested in how the mean age might relate to the top 10 reasons for absence. We took the average of age for each reason for absence and added a \"reason\" column in a datatable. "
   ]
  },
  {
   "cell_type": "code",
   "execution_count": 9,
   "id": "f2f191bd-623b-41c7-b4ba-dc91eb5cada4",
   "metadata": {},
   "outputs": [
    {
     "data": {
      "text/html": [
       "<table class=\"dataframe\">\n",
       "<caption>A tibble: 10 × 3</caption>\n",
       "<thead>\n",
       "\t<tr><th scope=col>Reason.for.absence</th><th scope=col>Age</th><th scope=col>Reason</th></tr>\n",
       "\t<tr><th scope=col>&lt;fct&gt;</th><th scope=col>&lt;dbl&gt;</th><th scope=col>&lt;chr&gt;</th></tr>\n",
       "</thead>\n",
       "<tbody>\n",
       "\t<tr><td>10</td><td>35.96000</td><td>Diseases of the respiratory system                                 </td></tr>\n",
       "\t<tr><td>11</td><td>35.11538</td><td>Diseases of the digestive system                                   </td></tr>\n",
       "\t<tr><td>13</td><td>36.49091</td><td>Diseases of the musculoskeletal system and connective tissue       </td></tr>\n",
       "\t<tr><td>19</td><td>35.45000</td><td>Injury, poisoning and certain other consequences of external causes</td></tr>\n",
       "\t<tr><td>22</td><td>32.65789</td><td>patient follow-up                                                  </td></tr>\n",
       "\t<tr><td>23</td><td>35.61074</td><td>medical consultation                                               </td></tr>\n",
       "\t<tr><td>25</td><td>36.16129</td><td>laboratory examination                                             </td></tr>\n",
       "\t<tr><td>26</td><td>37.84848</td><td>unjustified absence                                                </td></tr>\n",
       "\t<tr><td>27</td><td>35.50725</td><td>physiotherapy                                                      </td></tr>\n",
       "\t<tr><td>28</td><td>37.50893</td><td>dental consultation                                                </td></tr>\n",
       "</tbody>\n",
       "</table>\n"
      ],
      "text/latex": [
       "A tibble: 10 × 3\n",
       "\\begin{tabular}{lll}\n",
       " Reason.for.absence & Age & Reason\\\\\n",
       " <fct> & <dbl> & <chr>\\\\\n",
       "\\hline\n",
       "\t 10 & 35.96000 & Diseases of the respiratory system                                 \\\\\n",
       "\t 11 & 35.11538 & Diseases of the digestive system                                   \\\\\n",
       "\t 13 & 36.49091 & Diseases of the musculoskeletal system and connective tissue       \\\\\n",
       "\t 19 & 35.45000 & Injury, poisoning and certain other consequences of external causes\\\\\n",
       "\t 22 & 32.65789 & patient follow-up                                                  \\\\\n",
       "\t 23 & 35.61074 & medical consultation                                               \\\\\n",
       "\t 25 & 36.16129 & laboratory examination                                             \\\\\n",
       "\t 26 & 37.84848 & unjustified absence                                                \\\\\n",
       "\t 27 & 35.50725 & physiotherapy                                                      \\\\\n",
       "\t 28 & 37.50893 & dental consultation                                                \\\\\n",
       "\\end{tabular}\n"
      ],
      "text/markdown": [
       "\n",
       "A tibble: 10 × 3\n",
       "\n",
       "| Reason.for.absence &lt;fct&gt; | Age &lt;dbl&gt; | Reason &lt;chr&gt; |\n",
       "|---|---|---|\n",
       "| 10 | 35.96000 | Diseases of the respiratory system                                  |\n",
       "| 11 | 35.11538 | Diseases of the digestive system                                    |\n",
       "| 13 | 36.49091 | Diseases of the musculoskeletal system and connective tissue        |\n",
       "| 19 | 35.45000 | Injury, poisoning and certain other consequences of external causes |\n",
       "| 22 | 32.65789 | patient follow-up                                                   |\n",
       "| 23 | 35.61074 | medical consultation                                                |\n",
       "| 25 | 36.16129 | laboratory examination                                              |\n",
       "| 26 | 37.84848 | unjustified absence                                                 |\n",
       "| 27 | 35.50725 | physiotherapy                                                       |\n",
       "| 28 | 37.50893 | dental consultation                                                 |\n",
       "\n"
      ],
      "text/plain": [
       "   Reason.for.absence Age     \n",
       "1  10                 35.96000\n",
       "2  11                 35.11538\n",
       "3  13                 36.49091\n",
       "4  19                 35.45000\n",
       "5  22                 32.65789\n",
       "6  23                 35.61074\n",
       "7  25                 36.16129\n",
       "8  26                 37.84848\n",
       "9  27                 35.50725\n",
       "10 28                 37.50893\n",
       "   Reason                                                             \n",
       "1  Diseases of the respiratory system                                 \n",
       "2  Diseases of the digestive system                                   \n",
       "3  Diseases of the musculoskeletal system and connective tissue       \n",
       "4  Injury, poisoning and certain other consequences of external causes\n",
       "5  patient follow-up                                                  \n",
       "6  medical consultation                                               \n",
       "7  laboratory examination                                             \n",
       "8  unjustified absence                                                \n",
       "9  physiotherapy                                                      \n",
       "10 dental consultation                                                "
      ]
     },
     "metadata": {},
     "output_type": "display_data"
    }
   ],
   "source": [
    "data_mean_Age <- data |>\n",
    "    group_by(Reason.for.absence)|>\n",
    "    summarize(Age = mean(Age)) |>\n",
    "    mutate(Reason= c(\"Diseases of the respiratory system\",\"Diseases of the digestive system\",\n",
    "                     \"Diseases of the musculoskeletal system and connective tissue\", \n",
    "                     \"Injury, poisoning and certain other consequences of external causes\",\n",
    "                     \"patient follow-up\", \"medical consultation\", \"laboratory examination\",\n",
    "                     \"unjustified absence\", \"physiotherapy\", \"dental consultation\"))\n",
    "data_mean_Age\n"
   ]
  },
  {
   "cell_type": "markdown",
   "id": "3c9566ef-8341-4361-9be0-5ce286c8fa47",
   "metadata": {},
   "source": [
    "Table 6: Top 10 reasons for absence vs. mean age"
   ]
  },
  {
   "cell_type": "markdown",
   "id": "db25d3d9-526b-457d-a834-e6e0d2b47184",
   "metadata": {},
   "source": [
    "Then we plotted a bar graph to show how the mean age is different for each reason of absence. "
   ]
  },
  {
   "cell_type": "code",
   "execution_count": 10,
   "id": "60605fb4-7437-422a-b14e-2861fc6cc16d",
   "metadata": {},
   "outputs": [
    {
     "data": {
      "image/png": "[encoded data removed]",
      "text/plain": [
       "plot without title"
      ]
     },
     "metadata": {
      "image/png": {
       "height": 420,
       "width": 420
      }
     },
     "output_type": "display_data"
    }
   ],
   "source": [
    "data_plot_Age <- ggplot(data_mean_Age, aes(y=Reason,x=Age)) +\n",
    "    geom_bar(stat = \"identity\", position = \"dodge\")\n",
    "data_plot_Age"
   ]
  },
  {
   "cell_type": "markdown",
   "id": "900485a7-97f1-4e9c-a4ae-0caad5b79bc0",
   "metadata": {},
   "source": [
    "Figure 3: Bar graph of age(x-axis) vs. reason for absenteeism(y-axis)"
   ]
  },
  {
   "cell_type": "markdown",
   "id": "134fefba-fde8-4c3f-8363-b547968469c7",
   "metadata": {},
   "source": [
    "From the bar graph above, there is no variation for each reason of absence throughout different ages. Specifically all employees who are age 30 are absent for these 10 reasons. So age might be a bad predictor. "
   ]
  },
  {
   "cell_type": "markdown",
   "id": "80978ae3-59f3-4314-a84e-355443eb8f0c",
   "metadata": {},
   "source": [
    "## Visualizations and data table for distance from residence to work: \n",
    "We were also interested in how the mean distance from residence to work relate to the top 10 reasons for absence. We took the average distance for each reason for absence and added a \"reason\" column in a datatable."
   ]
  },
  {
   "cell_type": "code",
   "execution_count": 11,
   "id": "f058bb98-0737-4993-8b11-9a1e6098bfb4",
   "metadata": {},
   "outputs": [
    {
     "data": {
      "text/html": [
       "<table class=\"dataframe\">\n",
       "<caption>A tibble: 10 × 3</caption>\n",
       "<thead>\n",
       "\t<tr><th scope=col>Reason.for.absence</th><th scope=col>Distance.from.Residence.to.Work</th><th scope=col>Reason</th></tr>\n",
       "\t<tr><th scope=col>&lt;fct&gt;</th><th scope=col>&lt;dbl&gt;</th><th scope=col>&lt;chr&gt;</th></tr>\n",
       "</thead>\n",
       "<tbody>\n",
       "\t<tr><td>10</td><td>24.00000</td><td>Diseases of the respiratory system                                 </td></tr>\n",
       "\t<tr><td>11</td><td>29.69231</td><td>Diseases of the digestive system                                   </td></tr>\n",
       "\t<tr><td>13</td><td>29.52727</td><td>Diseases of the musculoskeletal system and connective tissue       </td></tr>\n",
       "\t<tr><td>19</td><td>30.42500</td><td>Injury, poisoning and certain other consequences of external causes</td></tr>\n",
       "\t<tr><td>22</td><td>36.68421</td><td>patient follow-up                                                  </td></tr>\n",
       "\t<tr><td>23</td><td>27.94631</td><td>medical consultation                                               </td></tr>\n",
       "\t<tr><td>25</td><td>22.67742</td><td>laboratory examination                                             </td></tr>\n",
       "\t<tr><td>26</td><td>25.84848</td><td>unjustified absence                                                </td></tr>\n",
       "\t<tr><td>27</td><td>36.98551</td><td>physiotherapy                                                      </td></tr>\n",
       "\t<tr><td>28</td><td>34.33929</td><td>dental consultation                                                </td></tr>\n",
       "</tbody>\n",
       "</table>\n"
      ],
      "text/latex": [
       "A tibble: 10 × 3\n",
       "\\begin{tabular}{lll}\n",
       " Reason.for.absence & Distance.from.Residence.to.Work & Reason\\\\\n",
       " <fct> & <dbl> & <chr>\\\\\n",
       "\\hline\n",
       "\t 10 & 24.00000 & Diseases of the respiratory system                                 \\\\\n",
       "\t 11 & 29.69231 & Diseases of the digestive system                                   \\\\\n",
       "\t 13 & 29.52727 & Diseases of the musculoskeletal system and connective tissue       \\\\\n",
       "\t 19 & 30.42500 & Injury, poisoning and certain other consequences of external causes\\\\\n",
       "\t 22 & 36.68421 & patient follow-up                                                  \\\\\n",
       "\t 23 & 27.94631 & medical consultation                                               \\\\\n",
       "\t 25 & 22.67742 & laboratory examination                                             \\\\\n",
       "\t 26 & 25.84848 & unjustified absence                                                \\\\\n",
       "\t 27 & 36.98551 & physiotherapy                                                      \\\\\n",
       "\t 28 & 34.33929 & dental consultation                                                \\\\\n",
       "\\end{tabular}\n"
      ],
      "text/markdown": [
       "\n",
       "A tibble: 10 × 3\n",
       "\n",
       "| Reason.for.absence &lt;fct&gt; | Distance.from.Residence.to.Work &lt;dbl&gt; | Reason &lt;chr&gt; |\n",
       "|---|---|---|\n",
       "| 10 | 24.00000 | Diseases of the respiratory system                                  |\n",
       "| 11 | 29.69231 | Diseases of the digestive system                                    |\n",
       "| 13 | 29.52727 | Diseases of the musculoskeletal system and connective tissue        |\n",
       "| 19 | 30.42500 | Injury, poisoning and certain other consequences of external causes |\n",
       "| 22 | 36.68421 | patient follow-up                                                   |\n",
       "| 23 | 27.94631 | medical consultation                                                |\n",
       "| 25 | 22.67742 | laboratory examination                                              |\n",
       "| 26 | 25.84848 | unjustified absence                                                 |\n",
       "| 27 | 36.98551 | physiotherapy                                                       |\n",
       "| 28 | 34.33929 | dental consultation                                                 |\n",
       "\n"
      ],
      "text/plain": [
       "   Reason.for.absence Distance.from.Residence.to.Work\n",
       "1  10                 24.00000                       \n",
       "2  11                 29.69231                       \n",
       "3  13                 29.52727                       \n",
       "4  19                 30.42500                       \n",
       "5  22                 36.68421                       \n",
       "6  23                 27.94631                       \n",
       "7  25                 22.67742                       \n",
       "8  26                 25.84848                       \n",
       "9  27                 36.98551                       \n",
       "10 28                 34.33929                       \n",
       "   Reason                                                             \n",
       "1  Diseases of the respiratory system                                 \n",
       "2  Diseases of the digestive system                                   \n",
       "3  Diseases of the musculoskeletal system and connective tissue       \n",
       "4  Injury, poisoning and certain other consequences of external causes\n",
       "5  patient follow-up                                                  \n",
       "6  medical consultation                                               \n",
       "7  laboratory examination                                             \n",
       "8  unjustified absence                                                \n",
       "9  physiotherapy                                                      \n",
       "10 dental consultation                                                "
      ]
     },
     "metadata": {},
     "output_type": "display_data"
    }
   ],
   "source": [
    "data_mean_distance <- data  |>\n",
    "    group_by(Reason.for.absence)|>\n",
    "    summarize(Distance.from.Residence.to.Work = mean(Distance.from.Residence.to.Work)) |>\n",
    "    mutate(Reason= c(\"Diseases of the respiratory system\",\"Diseases of the digestive system\",\n",
    "                     \"Diseases of the musculoskeletal system and connective tissue\", \n",
    "                     \"Injury, poisoning and certain other consequences of external causes\",\n",
    "                     \"patient follow-up\", \"medical consultation\", \"laboratory examination\",\n",
    "                     \"unjustified absence\", \"physiotherapy\", \"dental consultation\")) \n",
    "data_mean_distance "
   ]
  },
  {
   "cell_type": "markdown",
   "id": "1f904161-5da0-4fbd-bcf4-9f3b82f34886",
   "metadata": {},
   "source": [
    "Table 6: Top 10 reasons for absence vs. Distance from residence to work \n",
    "\n",
    "Then we plotted a bar graph to show how the mean distance from residence to work is different for each reason of absence."
   ]
  },
  {
   "cell_type": "code",
   "execution_count": 12,
   "id": "0b3380af-7d07-4818-90eb-91dd29d69171",
   "metadata": {},
   "outputs": [
    {
     "data": {
      "image/png": "[encoded data removed]",
      "text/plain": [
       "plot without title"
      ]
     },
     "metadata": {
      "image/png": {
       "height": 420,
       "width": 420
      }
     },
     "output_type": "display_data"
    }
   ],
   "source": [
    "data_plot_distance <- ggplot(data_mean_distance, aes(y=Reason,x=Distance.from.Residence.to.Work)) +\n",
    "    geom_bar(stat = \"identity\", position = \"dodge\") +\n",
    "    labs(x=\"Distance from Residence to Work\")\n",
    "data_plot_distance"
   ]
  },
  {
   "cell_type": "markdown",
   "id": "95acd7ea-1f89-4b21-b338-5db6a52ced8a",
   "metadata": {},
   "source": [
    "Figure 4: Bar graph of distance from residence to work(x-axis) vs. reason for absenteeism(y-axis)"
   ]
  },
  {
   "cell_type": "markdown",
   "id": "6a091136-3877-4c79-a44d-192f806d7675",
   "metadata": {},
   "source": [
    "From the bar graph above, the distances from residence to work are different for each reason of absence. For example, Employees who live a longer distance (> 30 km away) from residence to work are absent for work due to dental consultation, physiotherapy and patient followup. Employees who live less than 30 km away can be absent for work due to other reasons. So we thought this might be a good predictor. "
   ]
  },
  {
   "cell_type": "markdown",
   "id": "02b6903e-baf3-4b9e-b2af-a79bb1722816",
   "metadata": {},
   "source": [
    "To summarize, using figure 1-4, there is a possible correlation between the  distances from residence to work or the number of hours absent, and the reason for absenteeism. Therefore, we would use the  distances from residence to work and the number of hours absent as our two predictors for the remaining data analysis."
   ]
  },
  {
   "cell_type": "markdown",
   "id": "e9bc58b3-3714-4979-b730-e209255f6814",
   "metadata": {},
   "source": [
    "## Data analysis - Classification "
   ]
  },
  {
   "cell_type": "markdown",
   "id": "50592402-9c07-454d-ad71-a4834585af1b",
   "metadata": {},
   "source": [
    "Since we were predicting a categorical variable (reason for absence), we would perform our data analysis using a classification model using  distances from residence to work and absenteeism time(hr) as our predictor variables. "
   ]
  },
  {
   "cell_type": "markdown",
   "id": "d70330c6-e97f-425b-87e7-e05cf805f7f3",
   "metadata": {},
   "source": [
    "We set our seed to 1000. We splitted the dataset into 70% training set and 30% training set. "
   ]
  },
  {
   "cell_type": "code",
   "execution_count": 13,
   "id": "99f7797c-b236-4273-b82a-d999b7f8def0",
   "metadata": {},
   "outputs": [],
   "source": [
    "set.seed(1000) \n",
    "\n",
    "data_split <- initial_split(data, prop = 0.7, strata = Reason.for.absence)  \n",
    "data_train <- training(data_split)\n",
    "data_test <- testing(data_split)"
   ]
  },
  {
   "cell_type": "markdown",
   "id": "6adc40e7-fb1e-479a-8ce2-7e523a52790f",
   "metadata": {},
   "source": [
    "First we created a nearest_neighbors model specification, with neighbors = tune() and a recipe that uses all predictors. Then we performed a 5-fold cross validation using the vfold_cv function to split up the training data to find the most optimal k for our dataset. "
   ]
  },
  {
   "cell_type": "code",
   "execution_count": 14,
   "id": "8fdc1fa5-1fe2-4f3e-9678-229fde7c9385",
   "metadata": {},
   "outputs": [
    {
     "data": {
      "text/plain": [
       "K-Nearest Neighbor Model Specification (classification)\n",
       "\n",
       "Main Arguments:\n",
       "  neighbors = tune()\n",
       "  weight_func = rectangular\n",
       "\n",
       "Computational engine: kknn \n"
      ]
     },
     "metadata": {},
     "output_type": "display_data"
    },
    {
     "data": {
      "text/plain": [
       "Recipe\n",
       "\n",
       "Inputs:\n",
       "\n",
       "      role #variables\n",
       "   outcome          1\n",
       " predictor          2\n",
       "\n",
       "Operations:\n",
       "\n",
       "Scaling for all_predictors()\n",
       "Centering for all_predictors()"
      ]
     },
     "metadata": {},
     "output_type": "display_data"
    }
   ],
   "source": [
    "knn_tune <- nearest_neighbor(weight_func = \"rectangular\", neighbors = tune()) |>\n",
    "            set_engine(\"kknn\") |>\n",
    "            set_mode(\"classification\")\n",
    "knn_tune\n",
    "\n",
    "data_recipe <- recipe(Reason.for.absence ~ Absenteeism.time.in.hours + Distance.from.Residence.to.Work, data = data_train) |>\n",
    "                step_scale(all_predictors()) |>\n",
    "                step_center(all_predictors())\n",
    "\n",
    "data_recipe\n",
    "\n",
    "data_vfold <- vfold_cv(data_train, v = 5, strata = Reason.for.absence)"
   ]
  },
  {
   "cell_type": "markdown",
   "id": "8c0196ba-f9ce-4938-89f8-3164aa012c99",
   "metadata": {},
   "source": [
    "We then added the recipe and model specification to a workflow, and used the tune_grid function on the train/validation splits to estimate the classifier accuracy for a range of K values from 1 to 50. Note that k_vals is chosen to be 1 to 50 so it is less computationally expensive. We also tried k_vals of 1 to 100, but it took way too long to process. "
   ]
  },
  {
   "cell_type": "code",
   "execution_count": 15,
   "id": "6a7e7484-3535-4f29-aac6-ec70d60763fa",
   "metadata": {},
   "outputs": [],
   "source": [
    "k_vals <- tibble(neighbors = seq(1:50))\n",
    "\n",
    "knn_results <- workflow() |>\n",
    "    add_recipe(data_recipe) |>\n",
    "    add_model(knn_tune) |>\n",
    "    tune_grid(resamples = data_vfold, grid = k_vals) |>\n",
    "    collect_metrics()"
   ]
  },
  {
   "cell_type": "markdown",
   "id": "006f7892-5a77-4c64-9225-bb0a9f34cb7c",
   "metadata": {},
   "source": [
    "We created a plot that compares the accuracies with different k."
   ]
  },
  {
   "cell_type": "code",
   "execution_count": 16,
   "id": "78f59e3e-5048-4842-a1cb-0c4fda49a4a6",
   "metadata": {},
   "outputs": [
    {
     "data": {
      "image/png": "[encoded data removed]",
      "text/plain": [
       "plot without title"
      ]
     },
     "metadata": {
      "image/png": {
       "height": 420,
       "width": 420
      }
     },
     "output_type": "display_data"
    }
   ],
   "source": [
    "accuracies <- knn_results |>\n",
    "    filter(.metric == \"accuracy\")\n",
    "\n",
    "\n",
    "knn_plot <- ggplot(accuracies, aes(x = neighbors, y = mean)) +\n",
    "    geom_point() +\n",
    "    geom_line() +\n",
    "    labs(x = \"Number of neighbors (K)\", y = \"Accuracy\", title = \"Estimated Accuracy Vs. Number of Neighbors (K)\")\n",
    "knn_plot"
   ]
  },
  {
   "cell_type": "markdown",
   "id": "ae48521d-d379-463f-b892-325fcbe729ce",
   "metadata": {},
   "source": [
    "Figure 5: Esimated accuracy vs. number of neighbors(k) "
   ]
  },
  {
   "cell_type": "markdown",
   "id": "8e7ee061-b495-441f-b8bc-d2711a73fec8",
   "metadata": {},
   "source": [
    "From the above graph, it appears that K = 12 might be the best for the model. It has relatively high accuracy (close to 0.4) compared to other values of K. "
   ]
  },
  {
   "cell_type": "markdown",
   "id": "e14d6734-60b2-410b-b5e3-d4acd350ebce",
   "metadata": {},
   "source": [
    "We then made a new model specification for the best parameter value (i.e., K = 38), and retrained the entire data set using the fit function. "
   ]
  },
  {
   "cell_type": "code",
   "execution_count": 17,
   "id": "f266d7df-a92b-4732-8c40-12d8bfca5aa7",
   "metadata": {},
   "outputs": [
    {
     "data": {
      "text/plain": [
       "══ Workflow [trained] ══════════════════════════════════════════════════════════\n",
       "\u001b[3mPreprocessor:\u001b[23m Recipe\n",
       "\u001b[3mModel:\u001b[23m nearest_neighbor()\n",
       "\n",
       "── Preprocessor ────────────────────────────────────────────────────────────────\n",
       "2 Recipe Steps\n",
       "\n",
       "• step_scale()\n",
       "• step_center()\n",
       "\n",
       "── Model ───────────────────────────────────────────────────────────────────────\n",
       "\n",
       "Call:\n",
       "kknn::train.kknn(formula = ..y ~ ., data = data, ks = min_rows(12,     data, 5), kernel = ~\"rectangular\")\n",
       "\n",
       "Type of response variable: nominal\n",
       "Minimal misclassification: 0.560794\n",
       "Best kernel: rectangular\n",
       "Best k: 12"
      ]
     },
     "metadata": {},
     "output_type": "display_data"
    }
   ],
   "source": [
    "knn_spec <- nearest_neighbor(weight_func = \"rectangular\", neighbors = 12) |>\n",
    "            set_engine(\"kknn\") |>\n",
    "            set_mode(\"classification\")\n",
    "\n",
    "data_fit <- workflow() |>\n",
    "             add_recipe(data_recipe) |>\n",
    "             add_model(knn_spec) |>\n",
    "             fit(data = data_train)\n",
    "data_fit\n"
   ]
  },
  {
   "cell_type": "markdown",
   "id": "0f261c8f-64e7-4d02-9d8d-8db2014ba508",
   "metadata": {},
   "source": [
    "Then we evaluated and reported the estimated accuracy of the classifier based on the testing data. We also evaluated the confusion matrix. "
   ]
  },
  {
   "cell_type": "code",
   "execution_count": 18,
   "id": "a41cccd4-65b6-4c63-9a04-e927e0718d64",
   "metadata": {},
   "outputs": [
    {
     "data": {
      "text/html": [
       "<table class=\"dataframe\">\n",
       "<caption>A tibble: 2 × 3</caption>\n",
       "<thead>\n",
       "\t<tr><th scope=col>.metric</th><th scope=col>.estimator</th><th scope=col>.estimate</th></tr>\n",
       "\t<tr><th scope=col>&lt;chr&gt;</th><th scope=col>&lt;chr&gt;</th><th scope=col>&lt;dbl&gt;</th></tr>\n",
       "</thead>\n",
       "<tbody>\n",
       "\t<tr><td>accuracy</td><td>multiclass</td><td>0.4571429</td></tr>\n",
       "\t<tr><td>kap     </td><td>multiclass</td><td>0.3477067</td></tr>\n",
       "</tbody>\n",
       "</table>\n"
      ],
      "text/latex": [
       "A tibble: 2 × 3\n",
       "\\begin{tabular}{lll}\n",
       " .metric & .estimator & .estimate\\\\\n",
       " <chr> & <chr> & <dbl>\\\\\n",
       "\\hline\n",
       "\t accuracy & multiclass & 0.4571429\\\\\n",
       "\t kap      & multiclass & 0.3477067\\\\\n",
       "\\end{tabular}\n"
      ],
      "text/markdown": [
       "\n",
       "A tibble: 2 × 3\n",
       "\n",
       "| .metric &lt;chr&gt; | .estimator &lt;chr&gt; | .estimate &lt;dbl&gt; |\n",
       "|---|---|---|\n",
       "| accuracy | multiclass | 0.4571429 |\n",
       "| kap      | multiclass | 0.3477067 |\n",
       "\n"
      ],
      "text/plain": [
       "  .metric  .estimator .estimate\n",
       "1 accuracy multiclass 0.4571429\n",
       "2 kap      multiclass 0.3477067"
      ]
     },
     "metadata": {},
     "output_type": "display_data"
    },
    {
     "data": {
      "text/plain": [
       "          Truth\n",
       "Prediction 10 11 13 19 22 23 25 26 27 28\n",
       "        10  0  0  1  1  2  1  0  1  0  0\n",
       "        11  0  0  0  0  0  0  0  0  0  0\n",
       "        13  5  1  6 10  3  0  0  0  0  3\n",
       "        19  1  0  0  2  1  0  0  2  0  0\n",
       "        22  0  1  0  2  4  0  1  1  0  1\n",
       "        23  0  2  3  1  0 31  4  3  7 13\n",
       "        25  0  1  0  0  1  0  0  0  0  0\n",
       "        26  1  0  1  1  1  0  0  1  0  0\n",
       "        27  1  0  1  0  1  6  0  0 20  3\n",
       "        28  0  0  0  0  0  6  0  0  0 16"
      ]
     },
     "metadata": {},
     "output_type": "display_data"
    }
   ],
   "source": [
    "data_test_predictions <- predict(data_fit, data_test) |>\n",
    "                          bind_cols(data_test) \n",
    "\n",
    "data_prediction_accuracy <- data_test_predictions |>\n",
    "                        metrics(truth = Reason.for.absence, estimate = .pred_class)\n",
    "data_prediction_accuracy\n",
    "\n",
    "data_mat <- data_test_predictions |>\n",
    "                conf_mat(truth = Reason.for.absence, estimate = .pred_class)\n",
    "data_mat"
   ]
  },
  {
   "cell_type": "markdown",
   "id": "ff339b1a-c008-4571-a5d2-449a888acd8d",
   "metadata": {},
   "source": [
    "Figure 6: Accuracies after classification \n",
    "\n",
    "The first table reports the accuracies of the prediction, which is 45.7%. The second table is the confusion matrix. As you can see, it was better at predicting some classes more than others. "
   ]
  },
  {
   "cell_type": "code",
   "execution_count": 22,
   "id": "3ed42d89-0b7b-454b-8d9f-23a1d7805e6f",
   "metadata": {},
   "outputs": [
    {
     "data": {
      "image/png": "[encoded data removed]",
      "text/plain": [
       "plot without title"
      ]
     },
     "metadata": {
      "image/png": {
       "height": 420,
       "width": 420
      }
     },
     "output_type": "display_data"
    }
   ],
   "source": [
    "final_vis <- data_test_predictions |>\n",
    "                ggplot(aes(x = Distance.from.Residence.to.Work,\n",
    "                           y = Absenteeism.time.in.hours,\n",
    "                          color = .pred_class)) +\n",
    "                geom_point() +\n",
    "                labs(x = \"Distance from residence to work\", \n",
    "                     y = \"Absenteeism time (hr)\", \n",
    "                     title = \"Absenteeism time in hours Vs. Distance from Residence to Work\",\n",
    "                    color = \"Predicted reason for absence\")\n",
    "final_vis"
   ]
  },
  {
   "cell_type": "markdown",
   "id": "6c76630f-4594-4ef4-8600-ece2ff1b6439",
   "metadata": {},
   "source": [
    "Figure 7: Visualization of absent hours Vs. distance from work"
   ]
  },
  {
   "cell_type": "markdown",
   "id": "3dc9fc53-404c-435b-8373-ccd9d56beaf3",
   "metadata": {},
   "source": [
    "Figure 7 above presents the predicted reason of absence in different colors. It has 9 colors while we have 10 classes to predict from, meaning one reason is never predicted. This reason is reason 11, diseases in the digestive system. This could be because reason 11 is itself rare, being the 9th most likely reason as presented in table 2. \n",
    "\n",
    "Having 9 colors, figure 7 appears messy as it is difficult to differentiate between similar colors like purple and pink. Other more advanced visualization methods may help with this issue. "
   ]
  },
  {
   "cell_type": "markdown",
   "id": "4d4e1a51-05e8-4bfd-86d0-f52a302f53e6",
   "metadata": {},
   "source": [
    "## Discussion "
   ]
  },
  {
   "cell_type": "markdown",
   "id": "fb8c6e00-c60b-454a-9002-c43859aaaba7",
   "metadata": {},
   "source": [
    "### What we find: \n",
    "### discuss whether this is what you expected to find?\n",
    "### discuss what impact could such findings have?\n",
    "- Such finding could help employers understand the reasons for their employee's absence at work, assisting them in planning and hiring processes\n",
    "\n",
    "### discuss what future questions could this lead to?\n",
    "- If such classifier is accurate, one question that could be asked is how and why each predictor is related to the reason of absence. And whether this classifier can be used on a wider population (in Brazil, or in other places of the world)."
   ]
  },
  {
   "cell_type": "markdown",
   "id": "89f3ebf6-2967-4678-9ced-a79379c199ce",
   "metadata": {},
   "source": [
    "# Reference "
   ]
  },
  {
   "cell_type": "markdown",
   "id": "46eab602-f095-4503-85db-f2e9401daf4c",
   "metadata": {},
   "source": [
    "Martiniano, A., Ferreira, R. P., Sassi, R. J., & Affonso, C. (2012). Application of a neuro fuzzy network in prediction of absenteeism at work. In Information Systems and Technologies (CISTI), 7th Iberian Conference on (pp. 1-4). IEEE."
   ]
  }
 ],
 "metadata": {
  "kernelspec": {
   "display_name": "R",
   "language": "R",
   "name": "ir"
  },
  "language_info": {
   "codemirror_mode": "r",
   "file_extension": ".r",
   "mimetype": "text/x-r-source",
   "name": "R",
   "pygments_lexer": "r",
   "version": "4.1.3"
  }
 },
 "nbformat": 4,
 "nbformat_minor": 5
}
