{
 "cells": [
  {
   "cell_type": "markdown",
   "id": "a4ca1f4a-dba8-4ab3-b561-7d91b4ffa214",
   "metadata": {},
   "source": [
    "Loading the dataset and the necessary libraries:"
   ]
  },
  {
   "cell_type": "code",
   "execution_count": 90,
   "id": "31f938ff-3706-483b-9d51-b27633595d22",
   "metadata": {},
   "outputs": [],
   "source": [
    "library(tidyverse)\n",
    "library(tidymodels)\n",
    "library(cowplot)"
   ]
  },
  {
   "cell_type": "code",
   "execution_count": 91,
   "id": "13319482-78c7-437c-8e3e-c5268f5920b1",
   "metadata": {},
   "outputs": [
    {
     "name": "stderr",
     "output_type": "stream",
     "text": [
      "\u001b[36mℹ\u001b[39m Using \u001b[34m\u001b[34m\"','\"\u001b[34m\u001b[39m as decimal and \u001b[34m\u001b[34m\"'.'\"\u001b[34m\u001b[39m as grouping mark. Use `read_delim()` for more control.\n",
      "\n",
      "\u001b[1mRows: \u001b[22m\u001b[34m740\u001b[39m \u001b[1mColumns: \u001b[22m\u001b[34m21\u001b[39m\n",
      "\u001b[36m──\u001b[39m \u001b[1mColumn specification\u001b[22m \u001b[36m────────────────────────────────────────────────────────\u001b[39m\n",
      "\u001b[1mDelimiter:\u001b[22m \";\"\n",
      "\u001b[32mdbl\u001b[39m (20): ID, Reason for absence, Month of absence, Day of the week, Seasons...\n",
      "\n",
      "\u001b[36mℹ\u001b[39m Use `spec()` to retrieve the full column specification for this data.\n",
      "\u001b[36mℹ\u001b[39m Specify the column types or set `show_col_types = FALSE` to quiet this message.\n"
     ]
    }
   ],
   "source": [
    "data <- read_csv2(\"Absenteeism_at_work.csv\")\n",
    "colnames(data) <- make.names(colnames(data))\n",
    "\n",
    "data_selected <- select(data,Reason.for.absence,Absenteeism.time.in.hours,Body.mass.index,Son) |>\n",
    "        mutate(across(Reason.for.absence, as.factor)) "
   ]
  },
  {
   "cell_type": "markdown",
   "id": "4cabd9f1-5cd1-4dfe-95a8-714b414c4548",
   "metadata": {},
   "source": [
    "Data Table showing number of observations in each Reason of Absence:"
   ]
  },
  {
   "cell_type": "code",
   "execution_count": 92,
   "id": "4f1c83ab-8335-4f92-81d5-9fc54e880c17",
   "metadata": {},
   "outputs": [
    {
     "data": {
      "text/html": [
       "<table class=\"dataframe\">\n",
       "<caption>A tibble: 10 × 2</caption>\n",
       "<thead>\n",
       "\t<tr><th scope=col>Reason.for.absence</th><th scope=col>n</th></tr>\n",
       "\t<tr><th scope=col>&lt;fct&gt;</th><th scope=col>&lt;int&gt;</th></tr>\n",
       "</thead>\n",
       "<tbody>\n",
       "\t<tr><td>23</td><td>149</td></tr>\n",
       "\t<tr><td>28</td><td>112</td></tr>\n",
       "\t<tr><td>27</td><td> 69</td></tr>\n",
       "\t<tr><td>13</td><td> 55</td></tr>\n",
       "\t<tr><td>0 </td><td> 43</td></tr>\n",
       "\t<tr><td>19</td><td> 40</td></tr>\n",
       "\t<tr><td>22</td><td> 38</td></tr>\n",
       "\t<tr><td>26</td><td> 33</td></tr>\n",
       "\t<tr><td>25</td><td> 31</td></tr>\n",
       "\t<tr><td>11</td><td> 26</td></tr>\n",
       "</tbody>\n",
       "</table>\n"
      ],
      "text/latex": [
       "A tibble: 10 × 2\n",
       "\\begin{tabular}{ll}\n",
       " Reason.for.absence & n\\\\\n",
       " <fct> & <int>\\\\\n",
       "\\hline\n",
       "\t 23 & 149\\\\\n",
       "\t 28 & 112\\\\\n",
       "\t 27 &  69\\\\\n",
       "\t 13 &  55\\\\\n",
       "\t 0  &  43\\\\\n",
       "\t 19 &  40\\\\\n",
       "\t 22 &  38\\\\\n",
       "\t 26 &  33\\\\\n",
       "\t 25 &  31\\\\\n",
       "\t 11 &  26\\\\\n",
       "\\end{tabular}\n"
      ],
      "text/markdown": [
       "\n",
       "A tibble: 10 × 2\n",
       "\n",
       "| Reason.for.absence &lt;fct&gt; | n &lt;int&gt; |\n",
       "|---|---|\n",
       "| 23 | 149 |\n",
       "| 28 | 112 |\n",
       "| 27 |  69 |\n",
       "| 13 |  55 |\n",
       "| 0  |  43 |\n",
       "| 19 |  40 |\n",
       "| 22 |  38 |\n",
       "| 26 |  33 |\n",
       "| 25 |  31 |\n",
       "| 11 |  26 |\n",
       "\n"
      ],
      "text/plain": [
       "   Reason.for.absence n  \n",
       "1  23                 149\n",
       "2  28                 112\n",
       "3  27                  69\n",
       "4  13                  55\n",
       "5  0                   43\n",
       "6  19                  40\n",
       "7  22                  38\n",
       "8  26                  33\n",
       "9  25                  31\n",
       "10 11                  26"
      ]
     },
     "metadata": {},
     "output_type": "display_data"
    }
   ],
   "source": [
    "data_table <- data_selected |>\n",
    "    group_by(Reason.for.absence)|>\n",
    "    summarize(n=n()) |>\n",
    "    arrange(desc(n)) |>\n",
    "    slice(1:10)\n",
    "data_table\n",
    "\n",
    "data <- filter(data, Reason.for.absence %in% c(\"23\",\"28\",\"27\",\"13\",\"0\",\"19\",\"22\",\"26\",\"25\",\"11\"))"
   ]
  },
  {
   "cell_type": "markdown",
   "id": "065de994-b15b-4fd1-94ef-dccd22faf3c9",
   "metadata": {},
   "source": [
    "We now made graphs of the mean of each predictor variable against the reasons of absence. \n",
    "This was just to make sure that there was a correlation between our predictors and the variable we're classifying. \n",
    "We will not use the mean in our final prediction."
   ]
  },
  {
   "cell_type": "markdown",
   "id": "fe901804-0533-4294-8d12-d0de5f42f5e3",
   "metadata": {},
   "source": [
    "Data table for absentee time in hours:"
   ]
  },
  {
   "cell_type": "code",
   "execution_count": 93,
   "id": "1e803543-8dad-476c-b8c1-c7b2c21ff8eb",
   "metadata": {},
   "outputs": [
    {
     "data": {
      "text/html": [
       "<table class=\"dataframe\">\n",
       "<caption>A tibble: 10 × 3</caption>\n",
       "<thead>\n",
       "\t<tr><th scope=col>Reason.for.absence.mixed</th><th scope=col>Reason.for.absence</th><th scope=col>Absenteeism.time.in.hours</th></tr>\n",
       "\t<tr><th scope=col>&lt;int&gt;</th><th scope=col>&lt;fct&gt;</th><th scope=col>&lt;dbl&gt;</th></tr>\n",
       "</thead>\n",
       "<tbody>\n",
       "\t<tr><td> 1</td><td>0 </td><td> 0.000000</td></tr>\n",
       "\t<tr><td> 2</td><td>27</td><td> 2.275362</td></tr>\n",
       "\t<tr><td> 3</td><td>23</td><td> 2.845638</td></tr>\n",
       "\t<tr><td> 4</td><td>28</td><td> 2.991071</td></tr>\n",
       "\t<tr><td> 5</td><td>25</td><td> 3.483871</td></tr>\n",
       "\t<tr><td> 6</td><td>26</td><td> 7.272727</td></tr>\n",
       "\t<tr><td> 7</td><td>22</td><td> 7.710526</td></tr>\n",
       "\t<tr><td> 8</td><td>11</td><td>11.423077</td></tr>\n",
       "\t<tr><td> 9</td><td>13</td><td>15.309091</td></tr>\n",
       "\t<tr><td>10</td><td>19</td><td>18.225000</td></tr>\n",
       "</tbody>\n",
       "</table>\n"
      ],
      "text/latex": [
       "A tibble: 10 × 3\n",
       "\\begin{tabular}{lll}\n",
       " Reason.for.absence.mixed & Reason.for.absence & Absenteeism.time.in.hours\\\\\n",
       " <int> & <fct> & <dbl>\\\\\n",
       "\\hline\n",
       "\t  1 & 0  &  0.000000\\\\\n",
       "\t  2 & 27 &  2.275362\\\\\n",
       "\t  3 & 23 &  2.845638\\\\\n",
       "\t  4 & 28 &  2.991071\\\\\n",
       "\t  5 & 25 &  3.483871\\\\\n",
       "\t  6 & 26 &  7.272727\\\\\n",
       "\t  7 & 22 &  7.710526\\\\\n",
       "\t  8 & 11 & 11.423077\\\\\n",
       "\t  9 & 13 & 15.309091\\\\\n",
       "\t 10 & 19 & 18.225000\\\\\n",
       "\\end{tabular}\n"
      ],
      "text/markdown": [
       "\n",
       "A tibble: 10 × 3\n",
       "\n",
       "| Reason.for.absence.mixed &lt;int&gt; | Reason.for.absence &lt;fct&gt; | Absenteeism.time.in.hours &lt;dbl&gt; |\n",
       "|---|---|---|\n",
       "|  1 | 0  |  0.000000 |\n",
       "|  2 | 27 |  2.275362 |\n",
       "|  3 | 23 |  2.845638 |\n",
       "|  4 | 28 |  2.991071 |\n",
       "|  5 | 25 |  3.483871 |\n",
       "|  6 | 26 |  7.272727 |\n",
       "|  7 | 22 |  7.710526 |\n",
       "|  8 | 11 | 11.423077 |\n",
       "|  9 | 13 | 15.309091 |\n",
       "| 10 | 19 | 18.225000 |\n",
       "\n"
      ],
      "text/plain": [
       "   Reason.for.absence.mixed Reason.for.absence Absenteeism.time.in.hours\n",
       "1   1                       0                   0.000000                \n",
       "2   2                       27                  2.275362                \n",
       "3   3                       23                  2.845638                \n",
       "4   4                       28                  2.991071                \n",
       "5   5                       25                  3.483871                \n",
       "6   6                       26                  7.272727                \n",
       "7   7                       22                  7.710526                \n",
       "8   8                       11                 11.423077                \n",
       "9   9                       13                 15.309091                \n",
       "10 10                       19                 18.225000                "
      ]
     },
     "metadata": {},
     "output_type": "display_data"
    }
   ],
   "source": [
    "data_mean_time <- select(data,Reason.for.absence,Absenteeism.time.in.hours) |>\n",
    "        mutate(across(Reason.for.absence, as.factor))  |>\n",
    "    group_by(Reason.for.absence)|>\n",
    "    summarize(Absenteeism.time.in.hours = mean(Absenteeism.time.in.hours))|>\n",
    "    arrange(Absenteeism.time.in.hours) |>\n",
    "    tibble::rowid_to_column(\"Reason.for.absence.mixed\")\n",
    "data_mean_time\n",
    "\n",
    "data_plot_time <- ggplot(data_mean_time, aes(x=Reason.for.absence.mixed,y=Absenteeism.time.in.hours)) +\n",
    "    geom_point()"
   ]
  },
  {
   "cell_type": "markdown",
   "id": "ab979790-2a65-4cd0-8e1e-cf61f1e3c654",
   "metadata": {},
   "source": [
    "Data table for BMI:"
   ]
  },
  {
   "cell_type": "code",
   "execution_count": 94,
   "id": "debbd7c0-cca0-4f8a-9b95-4bae694fb4c0",
   "metadata": {},
   "outputs": [
    {
     "data": {
      "text/html": [
       "<table class=\"dataframe\">\n",
       "<caption>A tibble: 10 × 3</caption>\n",
       "<thead>\n",
       "\t<tr><th scope=col>Reason.for.absence.mixed</th><th scope=col>Reason.for.absence</th><th scope=col>Body.mass.index</th></tr>\n",
       "\t<tr><th scope=col>&lt;int&gt;</th><th scope=col>&lt;fct&gt;</th><th scope=col>&lt;dbl&gt;</th></tr>\n",
       "</thead>\n",
       "<tbody>\n",
       "\t<tr><td> 1</td><td>25</td><td>25.09677</td></tr>\n",
       "\t<tr><td> 2</td><td>22</td><td>26.18421</td></tr>\n",
       "\t<tr><td> 3</td><td>19</td><td>26.40000</td></tr>\n",
       "\t<tr><td> 4</td><td>11</td><td>26.42308</td></tr>\n",
       "\t<tr><td> 5</td><td>28</td><td>26.53571</td></tr>\n",
       "\t<tr><td> 6</td><td>13</td><td>26.63636</td></tr>\n",
       "\t<tr><td> 7</td><td>23</td><td>26.65772</td></tr>\n",
       "\t<tr><td> 8</td><td>27</td><td>27.46377</td></tr>\n",
       "\t<tr><td> 9</td><td>0 </td><td>28.32558</td></tr>\n",
       "\t<tr><td>10</td><td>26</td><td>30.18182</td></tr>\n",
       "</tbody>\n",
       "</table>\n"
      ],
      "text/latex": [
       "A tibble: 10 × 3\n",
       "\\begin{tabular}{lll}\n",
       " Reason.for.absence.mixed & Reason.for.absence & Body.mass.index\\\\\n",
       " <int> & <fct> & <dbl>\\\\\n",
       "\\hline\n",
       "\t  1 & 25 & 25.09677\\\\\n",
       "\t  2 & 22 & 26.18421\\\\\n",
       "\t  3 & 19 & 26.40000\\\\\n",
       "\t  4 & 11 & 26.42308\\\\\n",
       "\t  5 & 28 & 26.53571\\\\\n",
       "\t  6 & 13 & 26.63636\\\\\n",
       "\t  7 & 23 & 26.65772\\\\\n",
       "\t  8 & 27 & 27.46377\\\\\n",
       "\t  9 & 0  & 28.32558\\\\\n",
       "\t 10 & 26 & 30.18182\\\\\n",
       "\\end{tabular}\n"
      ],
      "text/markdown": [
       "\n",
       "A tibble: 10 × 3\n",
       "\n",
       "| Reason.for.absence.mixed &lt;int&gt; | Reason.for.absence &lt;fct&gt; | Body.mass.index &lt;dbl&gt; |\n",
       "|---|---|---|\n",
       "|  1 | 25 | 25.09677 |\n",
       "|  2 | 22 | 26.18421 |\n",
       "|  3 | 19 | 26.40000 |\n",
       "|  4 | 11 | 26.42308 |\n",
       "|  5 | 28 | 26.53571 |\n",
       "|  6 | 13 | 26.63636 |\n",
       "|  7 | 23 | 26.65772 |\n",
       "|  8 | 27 | 27.46377 |\n",
       "|  9 | 0  | 28.32558 |\n",
       "| 10 | 26 | 30.18182 |\n",
       "\n"
      ],
      "text/plain": [
       "   Reason.for.absence.mixed Reason.for.absence Body.mass.index\n",
       "1   1                       25                 25.09677       \n",
       "2   2                       22                 26.18421       \n",
       "3   3                       19                 26.40000       \n",
       "4   4                       11                 26.42308       \n",
       "5   5                       28                 26.53571       \n",
       "6   6                       13                 26.63636       \n",
       "7   7                       23                 26.65772       \n",
       "8   8                       27                 27.46377       \n",
       "9   9                       0                  28.32558       \n",
       "10 10                       26                 30.18182       "
      ]
     },
     "metadata": {},
     "output_type": "display_data"
    }
   ],
   "source": [
    "data_mean_BMI <- select(data,Reason.for.absence,Body.mass.index) |>\n",
    "        mutate(across(Reason.for.absence, as.factor))  |>\n",
    "    group_by(Reason.for.absence)|>\n",
    "    summarize(Body.mass.index = mean(Body.mass.index)) |>\n",
    "    arrange(Body.mass.index) |>\n",
    "    tibble::rowid_to_column(\"Reason.for.absence.mixed\")\n",
    "data_mean_BMI \n",
    "\n",
    "data_plot_BMI <- ggplot(data_mean_BMI, aes(x=Reason.for.absence.mixed,y=Body.mass.index)) +\n",
    "    geom_point()"
   ]
  },
  {
   "cell_type": "markdown",
   "id": "adf83358-3a33-4aca-8e35-f9949e604463",
   "metadata": {},
   "source": [
    "Data plot for Age:"
   ]
  },
  {
   "cell_type": "code",
   "execution_count": 95,
   "id": "4bc300b8-cb75-4efe-9fac-152dd9f71d66",
   "metadata": {},
   "outputs": [
    {
     "data": {
      "text/html": [
       "<table class=\"dataframe\">\n",
       "<caption>A tibble: 10 × 3</caption>\n",
       "<thead>\n",
       "\t<tr><th scope=col>Reason.for.absence.mixed</th><th scope=col>Reason.for.absence</th><th scope=col>Age</th></tr>\n",
       "\t<tr><th scope=col>&lt;int&gt;</th><th scope=col>&lt;fct&gt;</th><th scope=col>&lt;dbl&gt;</th></tr>\n",
       "</thead>\n",
       "<tbody>\n",
       "\t<tr><td> 1</td><td>22</td><td>32.65789</td></tr>\n",
       "\t<tr><td> 2</td><td>11</td><td>35.11538</td></tr>\n",
       "\t<tr><td> 3</td><td>19</td><td>35.45000</td></tr>\n",
       "\t<tr><td> 4</td><td>27</td><td>35.50725</td></tr>\n",
       "\t<tr><td> 5</td><td>23</td><td>35.61074</td></tr>\n",
       "\t<tr><td> 6</td><td>25</td><td>36.16129</td></tr>\n",
       "\t<tr><td> 7</td><td>13</td><td>36.49091</td></tr>\n",
       "\t<tr><td> 8</td><td>28</td><td>37.50893</td></tr>\n",
       "\t<tr><td> 9</td><td>26</td><td>37.84848</td></tr>\n",
       "\t<tr><td>10</td><td>0 </td><td>39.60465</td></tr>\n",
       "</tbody>\n",
       "</table>\n"
      ],
      "text/latex": [
       "A tibble: 10 × 3\n",
       "\\begin{tabular}{lll}\n",
       " Reason.for.absence.mixed & Reason.for.absence & Age\\\\\n",
       " <int> & <fct> & <dbl>\\\\\n",
       "\\hline\n",
       "\t  1 & 22 & 32.65789\\\\\n",
       "\t  2 & 11 & 35.11538\\\\\n",
       "\t  3 & 19 & 35.45000\\\\\n",
       "\t  4 & 27 & 35.50725\\\\\n",
       "\t  5 & 23 & 35.61074\\\\\n",
       "\t  6 & 25 & 36.16129\\\\\n",
       "\t  7 & 13 & 36.49091\\\\\n",
       "\t  8 & 28 & 37.50893\\\\\n",
       "\t  9 & 26 & 37.84848\\\\\n",
       "\t 10 & 0  & 39.60465\\\\\n",
       "\\end{tabular}\n"
      ],
      "text/markdown": [
       "\n",
       "A tibble: 10 × 3\n",
       "\n",
       "| Reason.for.absence.mixed &lt;int&gt; | Reason.for.absence &lt;fct&gt; | Age &lt;dbl&gt; |\n",
       "|---|---|---|\n",
       "|  1 | 22 | 32.65789 |\n",
       "|  2 | 11 | 35.11538 |\n",
       "|  3 | 19 | 35.45000 |\n",
       "|  4 | 27 | 35.50725 |\n",
       "|  5 | 23 | 35.61074 |\n",
       "|  6 | 25 | 36.16129 |\n",
       "|  7 | 13 | 36.49091 |\n",
       "|  8 | 28 | 37.50893 |\n",
       "|  9 | 26 | 37.84848 |\n",
       "| 10 | 0  | 39.60465 |\n",
       "\n"
      ],
      "text/plain": [
       "   Reason.for.absence.mixed Reason.for.absence Age     \n",
       "1   1                       22                 32.65789\n",
       "2   2                       11                 35.11538\n",
       "3   3                       19                 35.45000\n",
       "4   4                       27                 35.50725\n",
       "5   5                       23                 35.61074\n",
       "6   6                       25                 36.16129\n",
       "7   7                       13                 36.49091\n",
       "8   8                       28                 37.50893\n",
       "9   9                       26                 37.84848\n",
       "10 10                       0                  39.60465"
      ]
     },
     "metadata": {},
     "output_type": "display_data"
    }
   ],
   "source": [
    "data_mean_Age <- select(data,Reason.for.absence,Age) |>\n",
    "        mutate(across(Reason.for.absence, as.factor))  |>\n",
    "    group_by(Reason.for.absence)|>\n",
    "    summarize(Age = mean(Age)) |>\n",
    "    arrange(Age) |>\n",
    "    tibble::rowid_to_column(\"Reason.for.absence.mixed\")\n",
    "data_mean_Age\n",
    "\n",
    "data_plot_Age <- ggplot(data_mean_Age, aes(x=Reason.for.absence.mixed,y=Age)) +\n",
    "    geom_point()"
   ]
  },
  {
   "cell_type": "code",
   "execution_count": 96,
   "id": "99c4c03c-00d0-470e-bc88-a1c6200ee682",
   "metadata": {},
   "outputs": [
    {
     "data": {
      "text/html": [
       "<table class=\"dataframe\">\n",
       "<caption>A tibble: 10 × 3</caption>\n",
       "<thead>\n",
       "\t<tr><th scope=col>Reason.for.absence.mixed</th><th scope=col>Reason.for.absence</th><th scope=col>Son</th></tr>\n",
       "\t<tr><th scope=col>&lt;int&gt;</th><th scope=col>&lt;fct&gt;</th><th scope=col>&lt;dbl&gt;</th></tr>\n",
       "</thead>\n",
       "<tbody>\n",
       "\t<tr><td> 1</td><td>27</td><td>0.05797101</td></tr>\n",
       "\t<tr><td> 2</td><td>11</td><td>0.65384615</td></tr>\n",
       "\t<tr><td> 3</td><td>13</td><td>0.90909091</td></tr>\n",
       "\t<tr><td> 4</td><td>23</td><td>0.95302013</td></tr>\n",
       "\t<tr><td> 5</td><td>25</td><td>1.06451613</td></tr>\n",
       "\t<tr><td> 6</td><td>28</td><td>1.14285714</td></tr>\n",
       "\t<tr><td> 7</td><td>0 </td><td>1.34883721</td></tr>\n",
       "\t<tr><td> 8</td><td>19</td><td>1.45000000</td></tr>\n",
       "\t<tr><td> 9</td><td>26</td><td>1.45454545</td></tr>\n",
       "\t<tr><td>10</td><td>22</td><td>1.60526316</td></tr>\n",
       "</tbody>\n",
       "</table>\n"
      ],
      "text/latex": [
       "A tibble: 10 × 3\n",
       "\\begin{tabular}{lll}\n",
       " Reason.for.absence.mixed & Reason.for.absence & Son\\\\\n",
       " <int> & <fct> & <dbl>\\\\\n",
       "\\hline\n",
       "\t  1 & 27 & 0.05797101\\\\\n",
       "\t  2 & 11 & 0.65384615\\\\\n",
       "\t  3 & 13 & 0.90909091\\\\\n",
       "\t  4 & 23 & 0.95302013\\\\\n",
       "\t  5 & 25 & 1.06451613\\\\\n",
       "\t  6 & 28 & 1.14285714\\\\\n",
       "\t  7 & 0  & 1.34883721\\\\\n",
       "\t  8 & 19 & 1.45000000\\\\\n",
       "\t  9 & 26 & 1.45454545\\\\\n",
       "\t 10 & 22 & 1.60526316\\\\\n",
       "\\end{tabular}\n"
      ],
      "text/markdown": [
       "\n",
       "A tibble: 10 × 3\n",
       "\n",
       "| Reason.for.absence.mixed &lt;int&gt; | Reason.for.absence &lt;fct&gt; | Son &lt;dbl&gt; |\n",
       "|---|---|---|\n",
       "|  1 | 27 | 0.05797101 |\n",
       "|  2 | 11 | 0.65384615 |\n",
       "|  3 | 13 | 0.90909091 |\n",
       "|  4 | 23 | 0.95302013 |\n",
       "|  5 | 25 | 1.06451613 |\n",
       "|  6 | 28 | 1.14285714 |\n",
       "|  7 | 0  | 1.34883721 |\n",
       "|  8 | 19 | 1.45000000 |\n",
       "|  9 | 26 | 1.45454545 |\n",
       "| 10 | 22 | 1.60526316 |\n",
       "\n"
      ],
      "text/plain": [
       "   Reason.for.absence.mixed Reason.for.absence Son       \n",
       "1   1                       27                 0.05797101\n",
       "2   2                       11                 0.65384615\n",
       "3   3                       13                 0.90909091\n",
       "4   4                       23                 0.95302013\n",
       "5   5                       25                 1.06451613\n",
       "6   6                       28                 1.14285714\n",
       "7   7                       0                  1.34883721\n",
       "8   8                       19                 1.45000000\n",
       "9   9                       26                 1.45454545\n",
       "10 10                       22                 1.60526316"
      ]
     },
     "metadata": {},
     "output_type": "display_data"
    }
   ],
   "source": [
    "data_mean_children <- select(data,Reason.for.absence,Son) |>\n",
    "        mutate(across(Reason.for.absence, as.factor))  |>\n",
    "    group_by(Reason.for.absence)|>\n",
    "    summarize(Son = mean(Son)) |>\n",
    "    arrange(Son) |>\n",
    "    tibble::rowid_to_column(\"Reason.for.absence.mixed\")\n",
    "data_mean_children \n",
    "\n",
    "data_plot_children <- ggplot(data_mean_children, aes(x=Reason.for.absence.mixed,y=Son)) +\n",
    "    geom_point()"
   ]
  },
  {
   "cell_type": "code",
   "execution_count": null,
   "id": "98109c01-8b37-4f2e-ab1a-f50d5caff632",
   "metadata": {},
   "outputs": [],
   "source": []
  },
  {
   "cell_type": "markdown",
   "id": "82f0a515-a8cb-4735-9ae4-d06c8386e64d",
   "metadata": {},
   "source": [
    "Plotted correlation graphs:"
   ]
  },
  {
   "cell_type": "code",
   "execution_count": 97,
   "id": "85b884fa-02f5-4de6-b671-a7894b235a2e",
   "metadata": {},
   "outputs": [
    {
     "data": {
      "image/png": "[encoded data removed]",
      "text/plain": [
       "plot without title"
      ]
     },
     "metadata": {
      "image/png": {
       "height": 420,
       "width": 420
      }
     },
     "output_type": "display_data"
    }
   ],
   "source": [
    "plotted_grids <- plot_grid(data_plot_time, data_plot_BMI, data_plot_Age, data_plot_children)\n",
    "plotted_grids"
   ]
  },
  {
   "cell_type": "markdown",
   "id": "4a02356e-c519-40cc-9ad2-9fe4dd4d17da",
   "metadata": {},
   "source": [
    "Splitting the data:"
   ]
  },
  {
   "cell_type": "code",
   "execution_count": 98,
   "id": "88698e66-a19b-42d7-bd71-3a1d4d861586",
   "metadata": {},
   "outputs": [],
   "source": [
    "data_split <- initial_split(data_selected, prop = 0.75, strata = Reason.for.absence)  \n",
    "data_train <- training(data_split)   \n",
    "data_test <- testing(data_split)"
   ]
  }
 ],
 "metadata": {
  "kernelspec": {
   "display_name": "R",
   "language": "R",
   "name": "ir"
  },
  "language_info": {
   "codemirror_mode": "r",
   "file_extension": ".r",
   "mimetype": "text/x-r-source",
   "name": "R",
   "pygments_lexer": "r",
   "version": "4.1.3"
  }
 },
 "nbformat": 4,
 "nbformat_minor": 5
}
